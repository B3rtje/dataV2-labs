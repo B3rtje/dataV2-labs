{
 "cells": [
  {
   "cell_type": "markdown",
   "metadata": {},
   "source": [
    "## Before you start:\n",
    "\n",
    "- Read the README.md file\n",
    "- Comment as much as you can\n",
    "- Happy learning!"
   ]
  },
  {
   "cell_type": "code",
   "execution_count": null,
   "metadata": {},
   "outputs": [],
   "source": []
  },
  {
   "cell_type": "markdown",
   "metadata": {},
   "source": [
    "# Descriptive Statistics Review"
   ]
  },
  {
   "cell_type": "markdown",
   "metadata": {},
   "source": [
    "## Context"
   ]
  },
  {
   "cell_type": "markdown",
   "metadata": {},
   "source": [
    "![img](./diamonds.jpg)"
   ]
  },
  {
   "cell_type": "markdown",
   "metadata": {},
   "source": [
    "In this lab we are going to work with data to understand the characteristics of a diamond that are most likely to influence its price. In this first part of the lab, we will explore and clean our data. \n",
    "\n",
    "The dataset we will be using is comprised of approximately 54k rows and 11 different columns. As always, a row represents a single observation (in this case a diamond) and each of the columns represent a different feature of a diamond.\n",
    "\n",
    "The following codebook was provided together with the dataset to clarify what each column represents:\n"
   ]
  },
  {
   "cell_type": "markdown",
   "metadata": {},
   "source": [
    "| Column  | Description  |\n",
    "|---|---|\n",
    "| Price  | Price in US dollars (326-18,823)  |\n",
    "| Carat  | Weight of the diamond (0.2--5.01)  |\n",
    "| Cut  | Quality of the cut (Fair, Good, Very Good, Premium, Ideal)  |\n",
    "| Color  | Diamond colour, from J (worst) to D (best)  |\n",
    "| Clarity  | A measurement of how clear the diamond is (I1 (worst), SI2, SI1, VS2, VS1, VVS2, VVS1, IF (best))   |\n",
    "| x  | Length in mm (0--10.74)  |\n",
    "| y  | Width in mm (0--58.9)  |\n",
    "| z  | Depth in mm (0--31.8)  |\n",
    "| Depth  | Total depth percentage = z / mean(x, y) = 2 * z / (x + y) (43--79)  |\n",
    "| Table  | Width of top of diamond relative to widest point (43--95)  |"
   ]
  },
  {
   "cell_type": "markdown",
   "metadata": {},
   "source": [
    "## Libraries\n",
    "Pandas and numpy will be needed for the analysis of the data. Don't worry about the seaborn and matplotlib import at the moment, you will learn more about them next week, but we will be using some of their functionalities."
   ]
  },
  {
   "cell_type": "code",
   "execution_count": 223,
   "metadata": {},
   "outputs": [],
   "source": [
    "import pandas as pd\n",
    "import numpy as np\n",
    "import seaborn as sns\n",
    "import matplotlib.pyplot as plt"
   ]
  },
  {
   "cell_type": "markdown",
   "metadata": {},
   "source": [
    "First import the data from the .csv file provided and assign it to a variable named `diamonds` and drop the column with the index."
   ]
  },
  {
   "cell_type": "code",
   "execution_count": 224,
   "metadata": {},
   "outputs": [
    {
     "output_type": "execute_result",
     "data": {
      "text/plain": "   carat        cut color clarity  depth  table  price     x     y     z\n0   0.23      Ideal     E     SI2   61.5   55.0    326  3.95  3.98  2.43\n1   0.21    Premium     E     SI1   59.8   61.0    326  3.89  3.84  2.31\n2   0.23       Good     E     VS1   56.9   65.0    327  4.05  4.07  2.31\n3   0.29    Premium     I     VS2   62.4   58.0    334  4.20  4.23  2.63\n4   0.31       Good     J     SI2   63.3   58.0    335  4.34  4.35  2.75\n5   0.24  Very Good     J    VVS2   62.8   57.0    336  3.94  3.96  2.48\n6   0.24  Very Good     I    VVS1   62.3   57.0    336  3.95  3.98  2.47\n7   0.26  Very Good     H     SI1   61.9   55.0    337  4.07  4.11  2.53\n8   0.22       Fair     E     VS2   65.1   61.0    337  3.87  3.78  2.49\n9   0.23  Very Good     H     VS1   59.4   61.0    338  4.00  4.05  2.39",
      "text/html": "<div>\n<style scoped>\n    .dataframe tbody tr th:only-of-type {\n        vertical-align: middle;\n    }\n\n    .dataframe tbody tr th {\n        vertical-align: top;\n    }\n\n    .dataframe thead th {\n        text-align: right;\n    }\n</style>\n<table border=\"1\" class=\"dataframe\">\n  <thead>\n    <tr style=\"text-align: right;\">\n      <th></th>\n      <th>carat</th>\n      <th>cut</th>\n      <th>color</th>\n      <th>clarity</th>\n      <th>depth</th>\n      <th>table</th>\n      <th>price</th>\n      <th>x</th>\n      <th>y</th>\n      <th>z</th>\n    </tr>\n  </thead>\n  <tbody>\n    <tr>\n      <th>0</th>\n      <td>0.23</td>\n      <td>Ideal</td>\n      <td>E</td>\n      <td>SI2</td>\n      <td>61.5</td>\n      <td>55.0</td>\n      <td>326</td>\n      <td>3.95</td>\n      <td>3.98</td>\n      <td>2.43</td>\n    </tr>\n    <tr>\n      <th>1</th>\n      <td>0.21</td>\n      <td>Premium</td>\n      <td>E</td>\n      <td>SI1</td>\n      <td>59.8</td>\n      <td>61.0</td>\n      <td>326</td>\n      <td>3.89</td>\n      <td>3.84</td>\n      <td>2.31</td>\n    </tr>\n    <tr>\n      <th>2</th>\n      <td>0.23</td>\n      <td>Good</td>\n      <td>E</td>\n      <td>VS1</td>\n      <td>56.9</td>\n      <td>65.0</td>\n      <td>327</td>\n      <td>4.05</td>\n      <td>4.07</td>\n      <td>2.31</td>\n    </tr>\n    <tr>\n      <th>3</th>\n      <td>0.29</td>\n      <td>Premium</td>\n      <td>I</td>\n      <td>VS2</td>\n      <td>62.4</td>\n      <td>58.0</td>\n      <td>334</td>\n      <td>4.20</td>\n      <td>4.23</td>\n      <td>2.63</td>\n    </tr>\n    <tr>\n      <th>4</th>\n      <td>0.31</td>\n      <td>Good</td>\n      <td>J</td>\n      <td>SI2</td>\n      <td>63.3</td>\n      <td>58.0</td>\n      <td>335</td>\n      <td>4.34</td>\n      <td>4.35</td>\n      <td>2.75</td>\n    </tr>\n    <tr>\n      <th>5</th>\n      <td>0.24</td>\n      <td>Very Good</td>\n      <td>J</td>\n      <td>VVS2</td>\n      <td>62.8</td>\n      <td>57.0</td>\n      <td>336</td>\n      <td>3.94</td>\n      <td>3.96</td>\n      <td>2.48</td>\n    </tr>\n    <tr>\n      <th>6</th>\n      <td>0.24</td>\n      <td>Very Good</td>\n      <td>I</td>\n      <td>VVS1</td>\n      <td>62.3</td>\n      <td>57.0</td>\n      <td>336</td>\n      <td>3.95</td>\n      <td>3.98</td>\n      <td>2.47</td>\n    </tr>\n    <tr>\n      <th>7</th>\n      <td>0.26</td>\n      <td>Very Good</td>\n      <td>H</td>\n      <td>SI1</td>\n      <td>61.9</td>\n      <td>55.0</td>\n      <td>337</td>\n      <td>4.07</td>\n      <td>4.11</td>\n      <td>2.53</td>\n    </tr>\n    <tr>\n      <th>8</th>\n      <td>0.22</td>\n      <td>Fair</td>\n      <td>E</td>\n      <td>VS2</td>\n      <td>65.1</td>\n      <td>61.0</td>\n      <td>337</td>\n      <td>3.87</td>\n      <td>3.78</td>\n      <td>2.49</td>\n    </tr>\n    <tr>\n      <th>9</th>\n      <td>0.23</td>\n      <td>Very Good</td>\n      <td>H</td>\n      <td>VS1</td>\n      <td>59.4</td>\n      <td>61.0</td>\n      <td>338</td>\n      <td>4.00</td>\n      <td>4.05</td>\n      <td>2.39</td>\n    </tr>\n  </tbody>\n</table>\n</div>"
     },
     "metadata": {},
     "execution_count": 224
    }
   ],
   "source": [
    "diamonds = pd.read_csv('/Users/bert/Desktop/dataV2-labs/module-2/M2-mini-project1/diamonds.csv').drop(['Unnamed: 0'], axis=1)\n",
    "\n",
    "#.drop(['Unnamed: 0'], axis=1) --> this remove the column with the index. \n",
    "diamonds.head(10)"
   ]
  },
  {
   "cell_type": "markdown",
   "metadata": {},
   "source": [
    "# 1. Taking the first look at the data.\n",
    "Let's see how the data looks by using pandas methods like `head()`, `info()` and `describe()`. \n",
    "\n",
    "**First, use the `head` method.**"
   ]
  },
  {
   "cell_type": "code",
   "execution_count": 225,
   "metadata": {
    "tags": []
   },
   "outputs": [
    {
     "output_type": "execute_result",
     "data": {
      "text/plain": "   carat      cut color clarity  depth  table  price     x     y     z\n0   0.23    Ideal     E     SI2   61.5   55.0    326  3.95  3.98  2.43\n1   0.21  Premium     E     SI1   59.8   61.0    326  3.89  3.84  2.31\n2   0.23     Good     E     VS1   56.9   65.0    327  4.05  4.07  2.31\n3   0.29  Premium     I     VS2   62.4   58.0    334  4.20  4.23  2.63\n4   0.31     Good     J     SI2   63.3   58.0    335  4.34  4.35  2.75",
      "text/html": "<div>\n<style scoped>\n    .dataframe tbody tr th:only-of-type {\n        vertical-align: middle;\n    }\n\n    .dataframe tbody tr th {\n        vertical-align: top;\n    }\n\n    .dataframe thead th {\n        text-align: right;\n    }\n</style>\n<table border=\"1\" class=\"dataframe\">\n  <thead>\n    <tr style=\"text-align: right;\">\n      <th></th>\n      <th>carat</th>\n      <th>cut</th>\n      <th>color</th>\n      <th>clarity</th>\n      <th>depth</th>\n      <th>table</th>\n      <th>price</th>\n      <th>x</th>\n      <th>y</th>\n      <th>z</th>\n    </tr>\n  </thead>\n  <tbody>\n    <tr>\n      <th>0</th>\n      <td>0.23</td>\n      <td>Ideal</td>\n      <td>E</td>\n      <td>SI2</td>\n      <td>61.5</td>\n      <td>55.0</td>\n      <td>326</td>\n      <td>3.95</td>\n      <td>3.98</td>\n      <td>2.43</td>\n    </tr>\n    <tr>\n      <th>1</th>\n      <td>0.21</td>\n      <td>Premium</td>\n      <td>E</td>\n      <td>SI1</td>\n      <td>59.8</td>\n      <td>61.0</td>\n      <td>326</td>\n      <td>3.89</td>\n      <td>3.84</td>\n      <td>2.31</td>\n    </tr>\n    <tr>\n      <th>2</th>\n      <td>0.23</td>\n      <td>Good</td>\n      <td>E</td>\n      <td>VS1</td>\n      <td>56.9</td>\n      <td>65.0</td>\n      <td>327</td>\n      <td>4.05</td>\n      <td>4.07</td>\n      <td>2.31</td>\n    </tr>\n    <tr>\n      <th>3</th>\n      <td>0.29</td>\n      <td>Premium</td>\n      <td>I</td>\n      <td>VS2</td>\n      <td>62.4</td>\n      <td>58.0</td>\n      <td>334</td>\n      <td>4.20</td>\n      <td>4.23</td>\n      <td>2.63</td>\n    </tr>\n    <tr>\n      <th>4</th>\n      <td>0.31</td>\n      <td>Good</td>\n      <td>J</td>\n      <td>SI2</td>\n      <td>63.3</td>\n      <td>58.0</td>\n      <td>335</td>\n      <td>4.34</td>\n      <td>4.35</td>\n      <td>2.75</td>\n    </tr>\n  </tbody>\n</table>\n</div>"
     },
     "metadata": {},
     "execution_count": 225
    }
   ],
   "source": [
    "diamonds.head()"
   ]
  },
  {
   "cell_type": "markdown",
   "metadata": {},
   "source": [
    "We can see the first 5 rows of the dataset using the `head` method. This by itself doesn't tell us much about the data that we have, but we can have a first look at the features (columns) and some of the values that each one takes.\n",
    "\n",
    "**What do you see? Make some comments about the values you see in each column, comparing them with the codebook. Is that what you would expect for these variables?**"
   ]
  },
  {
   "cell_type": "code",
   "execution_count": null,
   "metadata": {},
   "outputs": [],
   "source": [
    "'''\n",
    "* We can see for each diamond the carat of the stone (= weight of the diamond) with min. (0.2 & max 5.01) --> here we have small diamonds\n",
    "* Here we can also see how's the cut of the diamond is? (5 index columns where Ideal is the best and Premium second best. and good is just average.) If we only look to these 5 we have pretty good quality of diamonds. \n",
    "* The color is also important here we have 2 not so good qualities and 3 very good qualties just under the best quality. \n",
    "    (J --> D) --> D is the best quality and J is the worst!\n",
    "* Clarity of these 5 stones is not so good if take a look to the codebook. We can say that those stones are average.  \n",
    "* Depth: \n",
    "* Table: \n",
    "* Price: price of a diamond depends on a combination of several things. (Carat, Cut, Color, Clarity, Depth and Table)\n",
    "* X: This represents the length of the diamond in mm of these 5 the range is between 3.89 and 4.34\n",
    "* Y: This represenets the width of the diamond in mm of these 5 the range is between 3.84 and 4.45\n",
    "* Z: This represents the depth of the diamond in mm of these 5 the range is between 2.31 and 2.75 \n",
    "\n",
    "Was I expect thse variables? \n",
    "I would expect there was a larger difference in the price range. \n",
    "I was also expecting to see a relation between the values  Y in comparison with Table but at first glance we don't see much. \n",
    "I also thought that on the basis of 5 records, it was impossible to draw a conclusion. \n",
    "\n",
    "'''"
   ]
  },
  {
   "cell_type": "markdown",
   "metadata": {},
   "source": [
    "It is very important to know the amount of data we have, because everything will depend on that, from the quality of the analysis to the choice of our infrastracture.\n",
    "\n",
    "**Check the shape of the data**"
   ]
  },
  {
   "cell_type": "code",
   "execution_count": 226,
   "metadata": {},
   "outputs": [
    {
     "output_type": "execute_result",
     "data": {
      "text/plain": "(53940, 10)"
     },
     "metadata": {},
     "execution_count": 226
    }
   ],
   "source": [
    "diamonds.shape"
   ]
  },
  {
   "cell_type": "markdown",
   "metadata": {},
   "source": [
    "The `clarity` column is confusing because we are not diamond experts. Let's create a new column with a new scale that is more understandable for us.\n",
    "\n",
    "**Create a new column with numbers from 0 to 7. The lowest would be 0 with value `I1` and the greatest 7 with value `IF`**"
   ]
  },
  {
   "cell_type": "code",
   "execution_count": 227,
   "metadata": {},
   "outputs": [
    {
     "output_type": "execute_result",
     "data": {
      "text/plain": "   carat      cut color clarity  depth  table  price     x     y     z  \\\n0   0.23    Ideal     E     SI2   61.5   55.0    326  3.95  3.98  2.43   \n1   0.21  Premium     E     SI1   59.8   61.0    326  3.89  3.84  2.31   \n2   0.23     Good     E     VS1   56.9   65.0    327  4.05  4.07  2.31   \n3   0.29  Premium     I     VS2   62.4   58.0    334  4.20  4.23  2.63   \n4   0.31     Good     J     SI2   63.3   58.0    335  4.34  4.35  2.75   \n\n   clarity_scale  \n0              1  \n1              2  \n2              4  \n3              3  \n4              1  ",
      "text/html": "<div>\n<style scoped>\n    .dataframe tbody tr th:only-of-type {\n        vertical-align: middle;\n    }\n\n    .dataframe tbody tr th {\n        vertical-align: top;\n    }\n\n    .dataframe thead th {\n        text-align: right;\n    }\n</style>\n<table border=\"1\" class=\"dataframe\">\n  <thead>\n    <tr style=\"text-align: right;\">\n      <th></th>\n      <th>carat</th>\n      <th>cut</th>\n      <th>color</th>\n      <th>clarity</th>\n      <th>depth</th>\n      <th>table</th>\n      <th>price</th>\n      <th>x</th>\n      <th>y</th>\n      <th>z</th>\n      <th>clarity_scale</th>\n    </tr>\n  </thead>\n  <tbody>\n    <tr>\n      <th>0</th>\n      <td>0.23</td>\n      <td>Ideal</td>\n      <td>E</td>\n      <td>SI2</td>\n      <td>61.5</td>\n      <td>55.0</td>\n      <td>326</td>\n      <td>3.95</td>\n      <td>3.98</td>\n      <td>2.43</td>\n      <td>1</td>\n    </tr>\n    <tr>\n      <th>1</th>\n      <td>0.21</td>\n      <td>Premium</td>\n      <td>E</td>\n      <td>SI1</td>\n      <td>59.8</td>\n      <td>61.0</td>\n      <td>326</td>\n      <td>3.89</td>\n      <td>3.84</td>\n      <td>2.31</td>\n      <td>2</td>\n    </tr>\n    <tr>\n      <th>2</th>\n      <td>0.23</td>\n      <td>Good</td>\n      <td>E</td>\n      <td>VS1</td>\n      <td>56.9</td>\n      <td>65.0</td>\n      <td>327</td>\n      <td>4.05</td>\n      <td>4.07</td>\n      <td>2.31</td>\n      <td>4</td>\n    </tr>\n    <tr>\n      <th>3</th>\n      <td>0.29</td>\n      <td>Premium</td>\n      <td>I</td>\n      <td>VS2</td>\n      <td>62.4</td>\n      <td>58.0</td>\n      <td>334</td>\n      <td>4.20</td>\n      <td>4.23</td>\n      <td>2.63</td>\n      <td>3</td>\n    </tr>\n    <tr>\n      <th>4</th>\n      <td>0.31</td>\n      <td>Good</td>\n      <td>J</td>\n      <td>SI2</td>\n      <td>63.3</td>\n      <td>58.0</td>\n      <td>335</td>\n      <td>4.34</td>\n      <td>4.35</td>\n      <td>2.75</td>\n      <td>1</td>\n    </tr>\n  </tbody>\n</table>\n</div>"
     },
     "metadata": {},
     "execution_count": 227
    }
   ],
   "source": [
    "def clarity_label (row): \n",
    "    if row['clarity'] == \"I1\": \n",
    "        return 0 \n",
    "    if row['clarity'] == \"SI2\":\n",
    "        return 1\n",
    "    if row['clarity'] == \"SI1\":\n",
    "        return 2\n",
    "    if row['clarity'] == \"VS2\":\n",
    "        return 3\n",
    "    if row['clarity'] == \"VS1\":\n",
    "        return 4\n",
    "    if row['clarity'] == \"VVS2\":\n",
    "        return 5\n",
    "    if row['clarity'] == \"VVS1\":\n",
    "        return 6\n",
    "    if row['clarity'] == \"IF\":\n",
    "        return 7\n",
    "\n",
    "diamonds['clarity_scale'] = diamonds.apply(lambda row: clarity_label(row), axis=1)\n",
    "diamonds.head()\n",
    "\n",
    "#Comments: First I've made a function to specify every new variable. After I completed my function I used the 'Apply' method to the DataFrame and I used a lambda to iterate over all the rows. --> axis=1 means here in the apply function --> Apply function to each row. "
   ]
  },
  {
   "cell_type": "markdown",
   "metadata": {},
   "source": [
    "It makes sense to do the same with the `color` column.\n",
    "\n",
    "**Do the same with values from 0 to 6. Read the codebook to see the match**"
   ]
  },
  {
   "cell_type": "code",
   "execution_count": 228,
   "metadata": {
    "tags": []
   },
   "outputs": [
    {
     "output_type": "execute_result",
     "data": {
      "text/plain": "   carat      cut color clarity  depth  table  price     x     y     z  \\\n0   0.23    Ideal     E     SI2   61.5   55.0    326  3.95  3.98  2.43   \n1   0.21  Premium     E     SI1   59.8   61.0    326  3.89  3.84  2.31   \n2   0.23     Good     E     VS1   56.9   65.0    327  4.05  4.07  2.31   \n3   0.29  Premium     I     VS2   62.4   58.0    334  4.20  4.23  2.63   \n4   0.31     Good     J     SI2   63.3   58.0    335  4.34  4.35  2.75   \n\n   clarity_scale  color_scale  \n0              1            5  \n1              2            5  \n2              4            5  \n3              3            1  \n4              1            0  ",
      "text/html": "<div>\n<style scoped>\n    .dataframe tbody tr th:only-of-type {\n        vertical-align: middle;\n    }\n\n    .dataframe tbody tr th {\n        vertical-align: top;\n    }\n\n    .dataframe thead th {\n        text-align: right;\n    }\n</style>\n<table border=\"1\" class=\"dataframe\">\n  <thead>\n    <tr style=\"text-align: right;\">\n      <th></th>\n      <th>carat</th>\n      <th>cut</th>\n      <th>color</th>\n      <th>clarity</th>\n      <th>depth</th>\n      <th>table</th>\n      <th>price</th>\n      <th>x</th>\n      <th>y</th>\n      <th>z</th>\n      <th>clarity_scale</th>\n      <th>color_scale</th>\n    </tr>\n  </thead>\n  <tbody>\n    <tr>\n      <th>0</th>\n      <td>0.23</td>\n      <td>Ideal</td>\n      <td>E</td>\n      <td>SI2</td>\n      <td>61.5</td>\n      <td>55.0</td>\n      <td>326</td>\n      <td>3.95</td>\n      <td>3.98</td>\n      <td>2.43</td>\n      <td>1</td>\n      <td>5</td>\n    </tr>\n    <tr>\n      <th>1</th>\n      <td>0.21</td>\n      <td>Premium</td>\n      <td>E</td>\n      <td>SI1</td>\n      <td>59.8</td>\n      <td>61.0</td>\n      <td>326</td>\n      <td>3.89</td>\n      <td>3.84</td>\n      <td>2.31</td>\n      <td>2</td>\n      <td>5</td>\n    </tr>\n    <tr>\n      <th>2</th>\n      <td>0.23</td>\n      <td>Good</td>\n      <td>E</td>\n      <td>VS1</td>\n      <td>56.9</td>\n      <td>65.0</td>\n      <td>327</td>\n      <td>4.05</td>\n      <td>4.07</td>\n      <td>2.31</td>\n      <td>4</td>\n      <td>5</td>\n    </tr>\n    <tr>\n      <th>3</th>\n      <td>0.29</td>\n      <td>Premium</td>\n      <td>I</td>\n      <td>VS2</td>\n      <td>62.4</td>\n      <td>58.0</td>\n      <td>334</td>\n      <td>4.20</td>\n      <td>4.23</td>\n      <td>2.63</td>\n      <td>3</td>\n      <td>1</td>\n    </tr>\n    <tr>\n      <th>4</th>\n      <td>0.31</td>\n      <td>Good</td>\n      <td>J</td>\n      <td>SI2</td>\n      <td>63.3</td>\n      <td>58.0</td>\n      <td>335</td>\n      <td>4.34</td>\n      <td>4.35</td>\n      <td>2.75</td>\n      <td>1</td>\n      <td>0</td>\n    </tr>\n  </tbody>\n</table>\n</div>"
     },
     "metadata": {},
     "execution_count": 228
    }
   ],
   "source": [
    "def color_label (row): \n",
    "    if row['color'] == \"J\": \n",
    "        return 0 \n",
    "    if row['color'] == \"I\":\n",
    "        return 1\n",
    "    if row['color'] == \"H\":\n",
    "        return 2\n",
    "    if row['color'] == \"G\":\n",
    "        return 3\n",
    "    if row['color'] == \"F\":\n",
    "        return 4\n",
    "    if row['color'] == \"E\":\n",
    "        return 5\n",
    "    if row['color'] == \"D\":\n",
    "        return 6\n",
    "\n",
    "diamonds['color_scale'] = diamonds.apply(lambda row: color_label(row), axis=1)\n",
    "diamonds.head()\n"
   ]
  },
  {
   "cell_type": "markdown",
   "metadata": {},
   "source": [
    "With the `info` method, we can see the features of the dataset, and the amount of observations (rows) that have a non-null value and the types of the features. \n",
    "\n",
    "**Now use the `info` method and comparing with the shape, comment on what you see**"
   ]
  },
  {
   "cell_type": "code",
   "execution_count": 229,
   "metadata": {
    "tags": []
   },
   "outputs": [
    {
     "output_type": "stream",
     "name": "stdout",
     "text": "<class 'pandas.core.frame.DataFrame'>\nRangeIndex: 53940 entries, 0 to 53939\nData columns (total 12 columns):\n #   Column         Non-Null Count  Dtype  \n---  ------         --------------  -----  \n 0   carat          53940 non-null  float64\n 1   cut            53940 non-null  object \n 2   color          53940 non-null  object \n 3   clarity        53940 non-null  object \n 4   depth          53940 non-null  float64\n 5   table          53940 non-null  float64\n 6   price          53940 non-null  int64  \n 7   x              53940 non-null  float64\n 8   y              53940 non-null  float64\n 9   z              53940 non-null  float64\n 10  clarity_scale  53940 non-null  int64  \n 11  color_scale    53940 non-null  int64  \ndtypes: float64(6), int64(3), object(3)\nmemory usage: 4.9+ MB\n"
    }
   ],
   "source": [
    "diamonds.info()"
   ]
  },
  {
   "cell_type": "code",
   "execution_count": 230,
   "metadata": {},
   "outputs": [
    {
     "output_type": "execute_result",
     "data": {
      "text/plain": "(53940, 12)"
     },
     "metadata": {},
     "execution_count": 230
    }
   ],
   "source": [
    "diamonds.shape"
   ]
  },
  {
   "cell_type": "code",
   "execution_count": null,
   "metadata": {},
   "outputs": [],
   "source": [
    "\"\"\"\n",
    "If we compare the info() method to shape() method we can see that number of rows identical and that is also what we expect. \n",
    "\"\"\""
   ]
  },
  {
   "cell_type": "markdown",
   "metadata": {},
   "source": [
    "In the last line of the info output, you have some information about the types of the columns. As you know, it is a good idea to check if the types of each column is what you expect. If a column has the right type, we will be able to do all the operations that we want to do. \n",
    "\n",
    "For instance, if we have a column that is a `date` with a `string` format, we will have the data but we won't be able to do a simple operation, such as format the date the way that we would like.\n",
    "\n",
    "Changing the data type to the one we needs can help us to solve a lot of problems in our data.\n",
    "\n",
    "**Check the types of each column and comment if it matches with the expected**"
   ]
  },
  {
   "cell_type": "code",
   "execution_count": 231,
   "metadata": {},
   "outputs": [
    {
     "output_type": "execute_result",
     "data": {
      "text/plain": "carat            float64\ncut               object\ncolor             object\nclarity           object\ndepth            float64\ntable            float64\nprice            float64\nx                float64\ny                float64\nz                float64\nclarity_scale      int64\ncolor_scale        int64\ndtype: object"
     },
     "metadata": {},
     "execution_count": 231
    }
   ],
   "source": [
    "#Here I change the datatype for a price because a price is not always an integer. \n",
    "diamonds.astype({'price': 'float64'}).dtypes"
   ]
  },
  {
   "cell_type": "markdown",
   "metadata": {},
   "source": [
    "# 2. A deeper look: checking the basic statistics.\n",
    "\n",
    "The `describe` method gives us an overview of our data. From here we can see all the descriptive metrics for our variables.\n",
    "\n",
    "**Use the `describe` method and comment on what you see**"
   ]
  },
  {
   "cell_type": "code",
   "execution_count": 232,
   "metadata": {},
   "outputs": [
    {
     "output_type": "execute_result",
     "data": {
      "text/plain": "                 count         mean          std    min     25%      50%  \\\ncarat          53940.0     0.797940     0.474011    0.2    0.40     0.70   \ndepth          53940.0    61.749405     1.432621   43.0   61.00    61.80   \ntable          53940.0    57.457184     2.234491   43.0   56.00    57.00   \nprice          53940.0  3932.799722  3989.439738  326.0  950.00  2401.00   \nx              53940.0     5.731157     1.121761    0.0    4.71     5.70   \ny              53940.0     5.734526     1.142135    0.0    4.72     5.71   \nz              53940.0     3.538734     0.705699    0.0    2.91     3.53   \nclarity_scale  53940.0     3.051020     1.647136    0.0    2.00     3.00   \ncolor_scale    53940.0     3.405803     1.701105    0.0    2.00     3.00   \n\n                   75%       max  \ncarat             1.04      5.01  \ndepth            62.50     79.00  \ntable            59.00     95.00  \nprice          5324.25  18823.00  \nx                 6.54     10.74  \ny                 6.54     58.90  \nz                 4.04     31.80  \nclarity_scale     4.00      7.00  \ncolor_scale       5.00      6.00  ",
      "text/html": "<div>\n<style scoped>\n    .dataframe tbody tr th:only-of-type {\n        vertical-align: middle;\n    }\n\n    .dataframe tbody tr th {\n        vertical-align: top;\n    }\n\n    .dataframe thead th {\n        text-align: right;\n    }\n</style>\n<table border=\"1\" class=\"dataframe\">\n  <thead>\n    <tr style=\"text-align: right;\">\n      <th></th>\n      <th>count</th>\n      <th>mean</th>\n      <th>std</th>\n      <th>min</th>\n      <th>25%</th>\n      <th>50%</th>\n      <th>75%</th>\n      <th>max</th>\n    </tr>\n  </thead>\n  <tbody>\n    <tr>\n      <th>carat</th>\n      <td>53940.0</td>\n      <td>0.797940</td>\n      <td>0.474011</td>\n      <td>0.2</td>\n      <td>0.40</td>\n      <td>0.70</td>\n      <td>1.04</td>\n      <td>5.01</td>\n    </tr>\n    <tr>\n      <th>depth</th>\n      <td>53940.0</td>\n      <td>61.749405</td>\n      <td>1.432621</td>\n      <td>43.0</td>\n      <td>61.00</td>\n      <td>61.80</td>\n      <td>62.50</td>\n      <td>79.00</td>\n    </tr>\n    <tr>\n      <th>table</th>\n      <td>53940.0</td>\n      <td>57.457184</td>\n      <td>2.234491</td>\n      <td>43.0</td>\n      <td>56.00</td>\n      <td>57.00</td>\n      <td>59.00</td>\n      <td>95.00</td>\n    </tr>\n    <tr>\n      <th>price</th>\n      <td>53940.0</td>\n      <td>3932.799722</td>\n      <td>3989.439738</td>\n      <td>326.0</td>\n      <td>950.00</td>\n      <td>2401.00</td>\n      <td>5324.25</td>\n      <td>18823.00</td>\n    </tr>\n    <tr>\n      <th>x</th>\n      <td>53940.0</td>\n      <td>5.731157</td>\n      <td>1.121761</td>\n      <td>0.0</td>\n      <td>4.71</td>\n      <td>5.70</td>\n      <td>6.54</td>\n      <td>10.74</td>\n    </tr>\n    <tr>\n      <th>y</th>\n      <td>53940.0</td>\n      <td>5.734526</td>\n      <td>1.142135</td>\n      <td>0.0</td>\n      <td>4.72</td>\n      <td>5.71</td>\n      <td>6.54</td>\n      <td>58.90</td>\n    </tr>\n    <tr>\n      <th>z</th>\n      <td>53940.0</td>\n      <td>3.538734</td>\n      <td>0.705699</td>\n      <td>0.0</td>\n      <td>2.91</td>\n      <td>3.53</td>\n      <td>4.04</td>\n      <td>31.80</td>\n    </tr>\n    <tr>\n      <th>clarity_scale</th>\n      <td>53940.0</td>\n      <td>3.051020</td>\n      <td>1.647136</td>\n      <td>0.0</td>\n      <td>2.00</td>\n      <td>3.00</td>\n      <td>4.00</td>\n      <td>7.00</td>\n    </tr>\n    <tr>\n      <th>color_scale</th>\n      <td>53940.0</td>\n      <td>3.405803</td>\n      <td>1.701105</td>\n      <td>0.0</td>\n      <td>2.00</td>\n      <td>3.00</td>\n      <td>5.00</td>\n      <td>6.00</td>\n    </tr>\n  </tbody>\n</table>\n</div>"
     },
     "metadata": {},
     "execution_count": 232
    }
   ],
   "source": [
    "diamonds.describe().transpose()"
   ]
  },
  {
   "cell_type": "code",
   "execution_count": null,
   "metadata": {},
   "outputs": [],
   "source": [
    "\"\"\"\n",
    "Here we see quick several statistical definitions. \n",
    "So we can have a quick impression of the data. \n",
    "\"\"\""
   ]
  },
  {
   "cell_type": "markdown",
   "metadata": {},
   "source": [
    "You have probably noticed that the columns x, y and z have a minimum value of 0. This means that there are one or more rows (or observations) in our dataset that are supposedly representing a diamond that has lenght, width or depth of 0. Considering that we're talking about a physical object, this is impossible!\n",
    "\n",
    "Now let's proceed to check the rows that have a value of 0 in any of the x, y or z columns. By doing this we want to check if the data we are missing can be obtained using the data that we do have.\n",
    "\n",
    "**Check the columns with `x`, `y` and `z` with value 0 in all of them and comment what you see**"
   ]
  },
  {
   "cell_type": "code",
   "execution_count": 233,
   "metadata": {},
   "outputs": [
    {
     "output_type": "execute_result",
     "data": {
      "text/plain": "       carat        cut color clarity  depth  table  price     x     y    z  \\\n2207    1.00    Premium     G     SI2   59.1   59.0   3142  6.55  6.48  0.0   \n2314    1.01    Premium     H      I1   58.1   59.0   3167  6.66  6.60  0.0   \n4791    1.10    Premium     G     SI2   63.0   59.0   3696  6.50  6.47  0.0   \n5471    1.01    Premium     F     SI2   59.2   58.0   3837  6.50  6.47  0.0   \n10167   1.50       Good     G      I1   64.0   61.0   4731  7.15  7.04  0.0   \n11182   1.07      Ideal     F     SI2   61.6   56.0   4954  0.00  6.62  0.0   \n11963   1.00  Very Good     H     VS2   63.3   53.0   5139  0.00  0.00  0.0   \n13601   1.15      Ideal     G     VS2   59.2   56.0   5564  6.88  6.83  0.0   \n15951   1.14       Fair     G     VS1   57.5   67.0   6381  0.00  0.00  0.0   \n24394   2.18    Premium     H     SI2   59.4   61.0  12631  8.49  8.45  0.0   \n24520   1.56      Ideal     G     VS2   62.2   54.0  12800  0.00  0.00  0.0   \n26123   2.25    Premium     I     SI1   61.3   58.0  15397  8.52  8.42  0.0   \n26243   1.20    Premium     D    VVS1   62.1   59.0  15686  0.00  0.00  0.0   \n27112   2.20    Premium     H     SI1   61.2   59.0  17265  8.42  8.37  0.0   \n27429   2.25    Premium     H     SI2   62.8   59.0  18034  0.00  0.00  0.0   \n27503   2.02    Premium     H     VS2   62.7   53.0  18207  8.02  7.95  0.0   \n27739   2.80       Good     G     SI2   63.8   58.0  18788  8.90  8.85  0.0   \n49556   0.71       Good     F     SI2   64.1   60.0   2130  0.00  0.00  0.0   \n49557   0.71       Good     F     SI2   64.1   60.0   2130  0.00  0.00  0.0   \n51506   1.12    Premium     G      I1   60.4   59.0   2383  6.71  6.67  0.0   \n\n       clarity_scale  color_scale  \n2207               1            3  \n2314               0            2  \n4791               1            3  \n5471               1            4  \n10167              0            3  \n11182              1            4  \n11963              3            2  \n13601              3            3  \n15951              4            3  \n24394              1            2  \n24520              3            3  \n26123              2            1  \n26243              6            6  \n27112              2            2  \n27429              1            2  \n27503              3            2  \n27739              1            3  \n49556              1            4  \n49557              1            4  \n51506              0            3  ",
      "text/html": "<div>\n<style scoped>\n    .dataframe tbody tr th:only-of-type {\n        vertical-align: middle;\n    }\n\n    .dataframe tbody tr th {\n        vertical-align: top;\n    }\n\n    .dataframe thead th {\n        text-align: right;\n    }\n</style>\n<table border=\"1\" class=\"dataframe\">\n  <thead>\n    <tr style=\"text-align: right;\">\n      <th></th>\n      <th>carat</th>\n      <th>cut</th>\n      <th>color</th>\n      <th>clarity</th>\n      <th>depth</th>\n      <th>table</th>\n      <th>price</th>\n      <th>x</th>\n      <th>y</th>\n      <th>z</th>\n      <th>clarity_scale</th>\n      <th>color_scale</th>\n    </tr>\n  </thead>\n  <tbody>\n    <tr>\n      <th>2207</th>\n      <td>1.00</td>\n      <td>Premium</td>\n      <td>G</td>\n      <td>SI2</td>\n      <td>59.1</td>\n      <td>59.0</td>\n      <td>3142</td>\n      <td>6.55</td>\n      <td>6.48</td>\n      <td>0.0</td>\n      <td>1</td>\n      <td>3</td>\n    </tr>\n    <tr>\n      <th>2314</th>\n      <td>1.01</td>\n      <td>Premium</td>\n      <td>H</td>\n      <td>I1</td>\n      <td>58.1</td>\n      <td>59.0</td>\n      <td>3167</td>\n      <td>6.66</td>\n      <td>6.60</td>\n      <td>0.0</td>\n      <td>0</td>\n      <td>2</td>\n    </tr>\n    <tr>\n      <th>4791</th>\n      <td>1.10</td>\n      <td>Premium</td>\n      <td>G</td>\n      <td>SI2</td>\n      <td>63.0</td>\n      <td>59.0</td>\n      <td>3696</td>\n      <td>6.50</td>\n      <td>6.47</td>\n      <td>0.0</td>\n      <td>1</td>\n      <td>3</td>\n    </tr>\n    <tr>\n      <th>5471</th>\n      <td>1.01</td>\n      <td>Premium</td>\n      <td>F</td>\n      <td>SI2</td>\n      <td>59.2</td>\n      <td>58.0</td>\n      <td>3837</td>\n      <td>6.50</td>\n      <td>6.47</td>\n      <td>0.0</td>\n      <td>1</td>\n      <td>4</td>\n    </tr>\n    <tr>\n      <th>10167</th>\n      <td>1.50</td>\n      <td>Good</td>\n      <td>G</td>\n      <td>I1</td>\n      <td>64.0</td>\n      <td>61.0</td>\n      <td>4731</td>\n      <td>7.15</td>\n      <td>7.04</td>\n      <td>0.0</td>\n      <td>0</td>\n      <td>3</td>\n    </tr>\n    <tr>\n      <th>11182</th>\n      <td>1.07</td>\n      <td>Ideal</td>\n      <td>F</td>\n      <td>SI2</td>\n      <td>61.6</td>\n      <td>56.0</td>\n      <td>4954</td>\n      <td>0.00</td>\n      <td>6.62</td>\n      <td>0.0</td>\n      <td>1</td>\n      <td>4</td>\n    </tr>\n    <tr>\n      <th>11963</th>\n      <td>1.00</td>\n      <td>Very Good</td>\n      <td>H</td>\n      <td>VS2</td>\n      <td>63.3</td>\n      <td>53.0</td>\n      <td>5139</td>\n      <td>0.00</td>\n      <td>0.00</td>\n      <td>0.0</td>\n      <td>3</td>\n      <td>2</td>\n    </tr>\n    <tr>\n      <th>13601</th>\n      <td>1.15</td>\n      <td>Ideal</td>\n      <td>G</td>\n      <td>VS2</td>\n      <td>59.2</td>\n      <td>56.0</td>\n      <td>5564</td>\n      <td>6.88</td>\n      <td>6.83</td>\n      <td>0.0</td>\n      <td>3</td>\n      <td>3</td>\n    </tr>\n    <tr>\n      <th>15951</th>\n      <td>1.14</td>\n      <td>Fair</td>\n      <td>G</td>\n      <td>VS1</td>\n      <td>57.5</td>\n      <td>67.0</td>\n      <td>6381</td>\n      <td>0.00</td>\n      <td>0.00</td>\n      <td>0.0</td>\n      <td>4</td>\n      <td>3</td>\n    </tr>\n    <tr>\n      <th>24394</th>\n      <td>2.18</td>\n      <td>Premium</td>\n      <td>H</td>\n      <td>SI2</td>\n      <td>59.4</td>\n      <td>61.0</td>\n      <td>12631</td>\n      <td>8.49</td>\n      <td>8.45</td>\n      <td>0.0</td>\n      <td>1</td>\n      <td>2</td>\n    </tr>\n    <tr>\n      <th>24520</th>\n      <td>1.56</td>\n      <td>Ideal</td>\n      <td>G</td>\n      <td>VS2</td>\n      <td>62.2</td>\n      <td>54.0</td>\n      <td>12800</td>\n      <td>0.00</td>\n      <td>0.00</td>\n      <td>0.0</td>\n      <td>3</td>\n      <td>3</td>\n    </tr>\n    <tr>\n      <th>26123</th>\n      <td>2.25</td>\n      <td>Premium</td>\n      <td>I</td>\n      <td>SI1</td>\n      <td>61.3</td>\n      <td>58.0</td>\n      <td>15397</td>\n      <td>8.52</td>\n      <td>8.42</td>\n      <td>0.0</td>\n      <td>2</td>\n      <td>1</td>\n    </tr>\n    <tr>\n      <th>26243</th>\n      <td>1.20</td>\n      <td>Premium</td>\n      <td>D</td>\n      <td>VVS1</td>\n      <td>62.1</td>\n      <td>59.0</td>\n      <td>15686</td>\n      <td>0.00</td>\n      <td>0.00</td>\n      <td>0.0</td>\n      <td>6</td>\n      <td>6</td>\n    </tr>\n    <tr>\n      <th>27112</th>\n      <td>2.20</td>\n      <td>Premium</td>\n      <td>H</td>\n      <td>SI1</td>\n      <td>61.2</td>\n      <td>59.0</td>\n      <td>17265</td>\n      <td>8.42</td>\n      <td>8.37</td>\n      <td>0.0</td>\n      <td>2</td>\n      <td>2</td>\n    </tr>\n    <tr>\n      <th>27429</th>\n      <td>2.25</td>\n      <td>Premium</td>\n      <td>H</td>\n      <td>SI2</td>\n      <td>62.8</td>\n      <td>59.0</td>\n      <td>18034</td>\n      <td>0.00</td>\n      <td>0.00</td>\n      <td>0.0</td>\n      <td>1</td>\n      <td>2</td>\n    </tr>\n    <tr>\n      <th>27503</th>\n      <td>2.02</td>\n      <td>Premium</td>\n      <td>H</td>\n      <td>VS2</td>\n      <td>62.7</td>\n      <td>53.0</td>\n      <td>18207</td>\n      <td>8.02</td>\n      <td>7.95</td>\n      <td>0.0</td>\n      <td>3</td>\n      <td>2</td>\n    </tr>\n    <tr>\n      <th>27739</th>\n      <td>2.80</td>\n      <td>Good</td>\n      <td>G</td>\n      <td>SI2</td>\n      <td>63.8</td>\n      <td>58.0</td>\n      <td>18788</td>\n      <td>8.90</td>\n      <td>8.85</td>\n      <td>0.0</td>\n      <td>1</td>\n      <td>3</td>\n    </tr>\n    <tr>\n      <th>49556</th>\n      <td>0.71</td>\n      <td>Good</td>\n      <td>F</td>\n      <td>SI2</td>\n      <td>64.1</td>\n      <td>60.0</td>\n      <td>2130</td>\n      <td>0.00</td>\n      <td>0.00</td>\n      <td>0.0</td>\n      <td>1</td>\n      <td>4</td>\n    </tr>\n    <tr>\n      <th>49557</th>\n      <td>0.71</td>\n      <td>Good</td>\n      <td>F</td>\n      <td>SI2</td>\n      <td>64.1</td>\n      <td>60.0</td>\n      <td>2130</td>\n      <td>0.00</td>\n      <td>0.00</td>\n      <td>0.0</td>\n      <td>1</td>\n      <td>4</td>\n    </tr>\n    <tr>\n      <th>51506</th>\n      <td>1.12</td>\n      <td>Premium</td>\n      <td>G</td>\n      <td>I1</td>\n      <td>60.4</td>\n      <td>59.0</td>\n      <td>2383</td>\n      <td>6.71</td>\n      <td>6.67</td>\n      <td>0.0</td>\n      <td>0</td>\n      <td>3</td>\n    </tr>\n  </tbody>\n</table>\n</div>"
     },
     "metadata": {},
     "execution_count": 233
    }
   ],
   "source": [
    "x_null = diamonds[diamonds['x'] == 0]\n",
    "y_null = diamonds[diamonds['y'] == 0]\n",
    "z_null = diamonds[diamonds['z'] == 0]\n",
    "z_null\n",
    "\n",
    "#I have used count to count the different sets of the missing values. \n",
    "# x = 8 --> Everywhere where x == 0 z is also == 0 but there is one value where y has value\n",
    "# y = 7 --> Everywhere where y == 0 also x & z == 0 \n",
    "# z = 20 --> sometimes there is a value for x & y where z is equal to 0"
   ]
  },
  {
   "cell_type": "markdown",
   "metadata": {},
   "source": [
    "As you can see, we have 20 rows that have a value of 0 in some or all the aforementioned columns.\n",
    "Most of them (12) are missing the z value, which we can obtain using the columns depth, x and y. \n",
    "\n",
    "20 rows with issues represent just 0.03% of our data (20 out of 53940) so it wouldn't be a big deal to remove them. Still, lets try to keep all the data we have. \n",
    "\n",
    "For those 12 rows, we will create a function that applies the formula given in the codebook and get the value of z. We will drop the other rows (8), since they are missing all 3 values or 2 of them.\n",
    "\n",
    "**Create a function named `calculate_z` that applies the function in the codebook to one single row you give to the function**"
   ]
  },
  {
   "cell_type": "code",
   "execution_count": 234,
   "metadata": {},
   "outputs": [],
   "source": [
    "def calculate_z (row):\n",
    "    if row['z'] > 0: \n",
    "        return row['z']\n",
    "    elif row['z'] == 0 and row['x'] != 0 and row['y'] != 0:\n",
    "        som = row['x']+row['y'] \n",
    "        return row['depth']*som/200\n",
    "\n",
    "\n"
   ]
  },
  {
   "cell_type": "markdown",
   "metadata": {},
   "source": [
    "**Apply it just to the rows with incorrect values**"
   ]
  },
  {
   "cell_type": "code",
   "execution_count": 235,
   "metadata": {},
   "outputs": [
    {
     "output_type": "execute_result",
     "data": {
      "text/plain": "    carat        cut color clarity  depth  table  price     x     y     z  \\\n0    0.23      Ideal     E     SI2   61.5   55.0    326  3.95  3.98  2.43   \n1    0.21    Premium     E     SI1   59.8   61.0    326  3.89  3.84  2.31   \n2    0.23       Good     E     VS1   56.9   65.0    327  4.05  4.07  2.31   \n3    0.29    Premium     I     VS2   62.4   58.0    334  4.20  4.23  2.63   \n4    0.31       Good     J     SI2   63.3   58.0    335  4.34  4.35  2.75   \n5    0.24  Very Good     J    VVS2   62.8   57.0    336  3.94  3.96  2.48   \n6    0.24  Very Good     I    VVS1   62.3   57.0    336  3.95  3.98  2.47   \n7    0.26  Very Good     H     SI1   61.9   55.0    337  4.07  4.11  2.53   \n8    0.22       Fair     E     VS2   65.1   61.0    337  3.87  3.78  2.49   \n9    0.23  Very Good     H     VS1   59.4   61.0    338  4.00  4.05  2.39   \n10   0.30       Good     J     SI1   64.0   55.0    339  4.25  4.28  2.73   \n11   0.23      Ideal     J     VS1   62.8   56.0    340  3.93  3.90  2.46   \n12   0.22    Premium     F     SI1   60.4   61.0    342  3.88  3.84  2.33   \n13   0.31      Ideal     J     SI2   62.2   54.0    344  4.35  4.37  2.71   \n14   0.20    Premium     E     SI2   60.2   62.0    345  3.79  3.75  2.27   \n15   0.32    Premium     E      I1   60.9   58.0    345  4.38  4.42  2.68   \n16   0.30      Ideal     I     SI2   62.0   54.0    348  4.31  4.34  2.68   \n17   0.30       Good     J     SI1   63.4   54.0    351  4.23  4.29  2.70   \n18   0.30       Good     J     SI1   63.8   56.0    351  4.23  4.26  2.71   \n19   0.30  Very Good     J     SI1   62.7   59.0    351  4.21  4.27  2.66   \n20   0.30       Good     I     SI2   63.3   56.0    351  4.26  4.30  2.71   \n21   0.23  Very Good     E     VS2   63.8   55.0    352  3.85  3.92  2.48   \n22   0.23  Very Good     H     VS1   61.0   57.0    353  3.94  3.96  2.41   \n23   0.31  Very Good     J     SI1   59.4   62.0    353  4.39  4.43  2.62   \n24   0.31  Very Good     J     SI1   58.1   62.0    353  4.44  4.47  2.59   \n25   0.23  Very Good     G    VVS2   60.4   58.0    354  3.97  4.01  2.41   \n26   0.24    Premium     I     VS1   62.5   57.0    355  3.97  3.94  2.47   \n27   0.30  Very Good     J     VS2   62.2   57.0    357  4.28  4.30  2.67   \n28   0.23  Very Good     D     VS2   60.5   61.0    357  3.96  3.97  2.40   \n29   0.23  Very Good     F     VS1   60.9   57.0    357  3.96  3.99  2.42   \n30   0.23  Very Good     F     VS1   60.0   57.0    402  4.00  4.03  2.41   \n31   0.23  Very Good     F     VS1   59.8   57.0    402  4.04  4.06  2.42   \n32   0.23  Very Good     E     VS1   60.7   59.0    402  3.97  4.01  2.42   \n33   0.23  Very Good     E     VS1   59.5   58.0    402  4.01  4.06  2.40   \n34   0.23  Very Good     D     VS1   61.9   58.0    402  3.92  3.96  2.44   \n35   0.23       Good     F     VS1   58.2   59.0    402  4.06  4.08  2.37   \n36   0.23       Good     E     VS1   64.1   59.0    402  3.83  3.85  2.46   \n37   0.31       Good     H     SI1   64.0   54.0    402  4.29  4.31  2.75   \n38   0.26  Very Good     D     VS2   60.8   59.0    403  4.13  4.16  2.52   \n39   0.33      Ideal     I     SI2   61.8   55.0    403  4.49  4.51  2.78   \n40   0.33      Ideal     I     SI2   61.2   56.0    403  4.49  4.50  2.75   \n41   0.33      Ideal     J     SI1   61.1   56.0    403  4.49  4.55  2.76   \n42   0.26       Good     D     VS2   65.2   56.0    403  3.99  4.02  2.61   \n43   0.26       Good     D     VS1   58.4   63.0    403  4.19  4.24  2.46   \n44   0.32       Good     H     SI2   63.1   56.0    403  4.34  4.37  2.75   \n45   0.29    Premium     F     SI1   62.4   58.0    403  4.24  4.26  2.65   \n46   0.32  Very Good     H     SI2   61.8   55.0    403  4.35  4.42  2.71   \n47   0.32       Good     H     SI2   63.8   56.0    403  4.36  4.38  2.79   \n48   0.25  Very Good     E     VS2   63.3   60.0    404  4.00  4.03  2.54   \n49   0.29  Very Good     H     SI2   60.7   60.0    404  4.33  4.37  2.64   \n\n    clarity_scale  color_scale  \n0               1            5  \n1               2            5  \n2               4            5  \n3               3            1  \n4               1            0  \n5               5            0  \n6               6            1  \n7               2            2  \n8               3            5  \n9               4            2  \n10              2            0  \n11              4            0  \n12              2            4  \n13              1            0  \n14              1            5  \n15              0            5  \n16              1            1  \n17              2            0  \n18              2            0  \n19              2            0  \n20              1            1  \n21              3            5  \n22              4            2  \n23              2            0  \n24              2            0  \n25              5            3  \n26              4            1  \n27              3            0  \n28              3            6  \n29              4            4  \n30              4            4  \n31              4            4  \n32              4            5  \n33              4            5  \n34              4            6  \n35              4            4  \n36              4            5  \n37              2            2  \n38              3            6  \n39              1            1  \n40              1            1  \n41              2            0  \n42              3            6  \n43              4            6  \n44              1            2  \n45              2            4  \n46              1            2  \n47              1            2  \n48              3            5  \n49              1            2  ",
      "text/html": "<div>\n<style scoped>\n    .dataframe tbody tr th:only-of-type {\n        vertical-align: middle;\n    }\n\n    .dataframe tbody tr th {\n        vertical-align: top;\n    }\n\n    .dataframe thead th {\n        text-align: right;\n    }\n</style>\n<table border=\"1\" class=\"dataframe\">\n  <thead>\n    <tr style=\"text-align: right;\">\n      <th></th>\n      <th>carat</th>\n      <th>cut</th>\n      <th>color</th>\n      <th>clarity</th>\n      <th>depth</th>\n      <th>table</th>\n      <th>price</th>\n      <th>x</th>\n      <th>y</th>\n      <th>z</th>\n      <th>clarity_scale</th>\n      <th>color_scale</th>\n    </tr>\n  </thead>\n  <tbody>\n    <tr>\n      <th>0</th>\n      <td>0.23</td>\n      <td>Ideal</td>\n      <td>E</td>\n      <td>SI2</td>\n      <td>61.5</td>\n      <td>55.0</td>\n      <td>326</td>\n      <td>3.95</td>\n      <td>3.98</td>\n      <td>2.43</td>\n      <td>1</td>\n      <td>5</td>\n    </tr>\n    <tr>\n      <th>1</th>\n      <td>0.21</td>\n      <td>Premium</td>\n      <td>E</td>\n      <td>SI1</td>\n      <td>59.8</td>\n      <td>61.0</td>\n      <td>326</td>\n      <td>3.89</td>\n      <td>3.84</td>\n      <td>2.31</td>\n      <td>2</td>\n      <td>5</td>\n    </tr>\n    <tr>\n      <th>2</th>\n      <td>0.23</td>\n      <td>Good</td>\n      <td>E</td>\n      <td>VS1</td>\n      <td>56.9</td>\n      <td>65.0</td>\n      <td>327</td>\n      <td>4.05</td>\n      <td>4.07</td>\n      <td>2.31</td>\n      <td>4</td>\n      <td>5</td>\n    </tr>\n    <tr>\n      <th>3</th>\n      <td>0.29</td>\n      <td>Premium</td>\n      <td>I</td>\n      <td>VS2</td>\n      <td>62.4</td>\n      <td>58.0</td>\n      <td>334</td>\n      <td>4.20</td>\n      <td>4.23</td>\n      <td>2.63</td>\n      <td>3</td>\n      <td>1</td>\n    </tr>\n    <tr>\n      <th>4</th>\n      <td>0.31</td>\n      <td>Good</td>\n      <td>J</td>\n      <td>SI2</td>\n      <td>63.3</td>\n      <td>58.0</td>\n      <td>335</td>\n      <td>4.34</td>\n      <td>4.35</td>\n      <td>2.75</td>\n      <td>1</td>\n      <td>0</td>\n    </tr>\n    <tr>\n      <th>5</th>\n      <td>0.24</td>\n      <td>Very Good</td>\n      <td>J</td>\n      <td>VVS2</td>\n      <td>62.8</td>\n      <td>57.0</td>\n      <td>336</td>\n      <td>3.94</td>\n      <td>3.96</td>\n      <td>2.48</td>\n      <td>5</td>\n      <td>0</td>\n    </tr>\n    <tr>\n      <th>6</th>\n      <td>0.24</td>\n      <td>Very Good</td>\n      <td>I</td>\n      <td>VVS1</td>\n      <td>62.3</td>\n      <td>57.0</td>\n      <td>336</td>\n      <td>3.95</td>\n      <td>3.98</td>\n      <td>2.47</td>\n      <td>6</td>\n      <td>1</td>\n    </tr>\n    <tr>\n      <th>7</th>\n      <td>0.26</td>\n      <td>Very Good</td>\n      <td>H</td>\n      <td>SI1</td>\n      <td>61.9</td>\n      <td>55.0</td>\n      <td>337</td>\n      <td>4.07</td>\n      <td>4.11</td>\n      <td>2.53</td>\n      <td>2</td>\n      <td>2</td>\n    </tr>\n    <tr>\n      <th>8</th>\n      <td>0.22</td>\n      <td>Fair</td>\n      <td>E</td>\n      <td>VS2</td>\n      <td>65.1</td>\n      <td>61.0</td>\n      <td>337</td>\n      <td>3.87</td>\n      <td>3.78</td>\n      <td>2.49</td>\n      <td>3</td>\n      <td>5</td>\n    </tr>\n    <tr>\n      <th>9</th>\n      <td>0.23</td>\n      <td>Very Good</td>\n      <td>H</td>\n      <td>VS1</td>\n      <td>59.4</td>\n      <td>61.0</td>\n      <td>338</td>\n      <td>4.00</td>\n      <td>4.05</td>\n      <td>2.39</td>\n      <td>4</td>\n      <td>2</td>\n    </tr>\n    <tr>\n      <th>10</th>\n      <td>0.30</td>\n      <td>Good</td>\n      <td>J</td>\n      <td>SI1</td>\n      <td>64.0</td>\n      <td>55.0</td>\n      <td>339</td>\n      <td>4.25</td>\n      <td>4.28</td>\n      <td>2.73</td>\n      <td>2</td>\n      <td>0</td>\n    </tr>\n    <tr>\n      <th>11</th>\n      <td>0.23</td>\n      <td>Ideal</td>\n      <td>J</td>\n      <td>VS1</td>\n      <td>62.8</td>\n      <td>56.0</td>\n      <td>340</td>\n      <td>3.93</td>\n      <td>3.90</td>\n      <td>2.46</td>\n      <td>4</td>\n      <td>0</td>\n    </tr>\n    <tr>\n      <th>12</th>\n      <td>0.22</td>\n      <td>Premium</td>\n      <td>F</td>\n      <td>SI1</td>\n      <td>60.4</td>\n      <td>61.0</td>\n      <td>342</td>\n      <td>3.88</td>\n      <td>3.84</td>\n      <td>2.33</td>\n      <td>2</td>\n      <td>4</td>\n    </tr>\n    <tr>\n      <th>13</th>\n      <td>0.31</td>\n      <td>Ideal</td>\n      <td>J</td>\n      <td>SI2</td>\n      <td>62.2</td>\n      <td>54.0</td>\n      <td>344</td>\n      <td>4.35</td>\n      <td>4.37</td>\n      <td>2.71</td>\n      <td>1</td>\n      <td>0</td>\n    </tr>\n    <tr>\n      <th>14</th>\n      <td>0.20</td>\n      <td>Premium</td>\n      <td>E</td>\n      <td>SI2</td>\n      <td>60.2</td>\n      <td>62.0</td>\n      <td>345</td>\n      <td>3.79</td>\n      <td>3.75</td>\n      <td>2.27</td>\n      <td>1</td>\n      <td>5</td>\n    </tr>\n    <tr>\n      <th>15</th>\n      <td>0.32</td>\n      <td>Premium</td>\n      <td>E</td>\n      <td>I1</td>\n      <td>60.9</td>\n      <td>58.0</td>\n      <td>345</td>\n      <td>4.38</td>\n      <td>4.42</td>\n      <td>2.68</td>\n      <td>0</td>\n      <td>5</td>\n    </tr>\n    <tr>\n      <th>16</th>\n      <td>0.30</td>\n      <td>Ideal</td>\n      <td>I</td>\n      <td>SI2</td>\n      <td>62.0</td>\n      <td>54.0</td>\n      <td>348</td>\n      <td>4.31</td>\n      <td>4.34</td>\n      <td>2.68</td>\n      <td>1</td>\n      <td>1</td>\n    </tr>\n    <tr>\n      <th>17</th>\n      <td>0.30</td>\n      <td>Good</td>\n      <td>J</td>\n      <td>SI1</td>\n      <td>63.4</td>\n      <td>54.0</td>\n      <td>351</td>\n      <td>4.23</td>\n      <td>4.29</td>\n      <td>2.70</td>\n      <td>2</td>\n      <td>0</td>\n    </tr>\n    <tr>\n      <th>18</th>\n      <td>0.30</td>\n      <td>Good</td>\n      <td>J</td>\n      <td>SI1</td>\n      <td>63.8</td>\n      <td>56.0</td>\n      <td>351</td>\n      <td>4.23</td>\n      <td>4.26</td>\n      <td>2.71</td>\n      <td>2</td>\n      <td>0</td>\n    </tr>\n    <tr>\n      <th>19</th>\n      <td>0.30</td>\n      <td>Very Good</td>\n      <td>J</td>\n      <td>SI1</td>\n      <td>62.7</td>\n      <td>59.0</td>\n      <td>351</td>\n      <td>4.21</td>\n      <td>4.27</td>\n      <td>2.66</td>\n      <td>2</td>\n      <td>0</td>\n    </tr>\n    <tr>\n      <th>20</th>\n      <td>0.30</td>\n      <td>Good</td>\n      <td>I</td>\n      <td>SI2</td>\n      <td>63.3</td>\n      <td>56.0</td>\n      <td>351</td>\n      <td>4.26</td>\n      <td>4.30</td>\n      <td>2.71</td>\n      <td>1</td>\n      <td>1</td>\n    </tr>\n    <tr>\n      <th>21</th>\n      <td>0.23</td>\n      <td>Very Good</td>\n      <td>E</td>\n      <td>VS2</td>\n      <td>63.8</td>\n      <td>55.0</td>\n      <td>352</td>\n      <td>3.85</td>\n      <td>3.92</td>\n      <td>2.48</td>\n      <td>3</td>\n      <td>5</td>\n    </tr>\n    <tr>\n      <th>22</th>\n      <td>0.23</td>\n      <td>Very Good</td>\n      <td>H</td>\n      <td>VS1</td>\n      <td>61.0</td>\n      <td>57.0</td>\n      <td>353</td>\n      <td>3.94</td>\n      <td>3.96</td>\n      <td>2.41</td>\n      <td>4</td>\n      <td>2</td>\n    </tr>\n    <tr>\n      <th>23</th>\n      <td>0.31</td>\n      <td>Very Good</td>\n      <td>J</td>\n      <td>SI1</td>\n      <td>59.4</td>\n      <td>62.0</td>\n      <td>353</td>\n      <td>4.39</td>\n      <td>4.43</td>\n      <td>2.62</td>\n      <td>2</td>\n      <td>0</td>\n    </tr>\n    <tr>\n      <th>24</th>\n      <td>0.31</td>\n      <td>Very Good</td>\n      <td>J</td>\n      <td>SI1</td>\n      <td>58.1</td>\n      <td>62.0</td>\n      <td>353</td>\n      <td>4.44</td>\n      <td>4.47</td>\n      <td>2.59</td>\n      <td>2</td>\n      <td>0</td>\n    </tr>\n    <tr>\n      <th>25</th>\n      <td>0.23</td>\n      <td>Very Good</td>\n      <td>G</td>\n      <td>VVS2</td>\n      <td>60.4</td>\n      <td>58.0</td>\n      <td>354</td>\n      <td>3.97</td>\n      <td>4.01</td>\n      <td>2.41</td>\n      <td>5</td>\n      <td>3</td>\n    </tr>\n    <tr>\n      <th>26</th>\n      <td>0.24</td>\n      <td>Premium</td>\n      <td>I</td>\n      <td>VS1</td>\n      <td>62.5</td>\n      <td>57.0</td>\n      <td>355</td>\n      <td>3.97</td>\n      <td>3.94</td>\n      <td>2.47</td>\n      <td>4</td>\n      <td>1</td>\n    </tr>\n    <tr>\n      <th>27</th>\n      <td>0.30</td>\n      <td>Very Good</td>\n      <td>J</td>\n      <td>VS2</td>\n      <td>62.2</td>\n      <td>57.0</td>\n      <td>357</td>\n      <td>4.28</td>\n      <td>4.30</td>\n      <td>2.67</td>\n      <td>3</td>\n      <td>0</td>\n    </tr>\n    <tr>\n      <th>28</th>\n      <td>0.23</td>\n      <td>Very Good</td>\n      <td>D</td>\n      <td>VS2</td>\n      <td>60.5</td>\n      <td>61.0</td>\n      <td>357</td>\n      <td>3.96</td>\n      <td>3.97</td>\n      <td>2.40</td>\n      <td>3</td>\n      <td>6</td>\n    </tr>\n    <tr>\n      <th>29</th>\n      <td>0.23</td>\n      <td>Very Good</td>\n      <td>F</td>\n      <td>VS1</td>\n      <td>60.9</td>\n      <td>57.0</td>\n      <td>357</td>\n      <td>3.96</td>\n      <td>3.99</td>\n      <td>2.42</td>\n      <td>4</td>\n      <td>4</td>\n    </tr>\n    <tr>\n      <th>30</th>\n      <td>0.23</td>\n      <td>Very Good</td>\n      <td>F</td>\n      <td>VS1</td>\n      <td>60.0</td>\n      <td>57.0</td>\n      <td>402</td>\n      <td>4.00</td>\n      <td>4.03</td>\n      <td>2.41</td>\n      <td>4</td>\n      <td>4</td>\n    </tr>\n    <tr>\n      <th>31</th>\n      <td>0.23</td>\n      <td>Very Good</td>\n      <td>F</td>\n      <td>VS1</td>\n      <td>59.8</td>\n      <td>57.0</td>\n      <td>402</td>\n      <td>4.04</td>\n      <td>4.06</td>\n      <td>2.42</td>\n      <td>4</td>\n      <td>4</td>\n    </tr>\n    <tr>\n      <th>32</th>\n      <td>0.23</td>\n      <td>Very Good</td>\n      <td>E</td>\n      <td>VS1</td>\n      <td>60.7</td>\n      <td>59.0</td>\n      <td>402</td>\n      <td>3.97</td>\n      <td>4.01</td>\n      <td>2.42</td>\n      <td>4</td>\n      <td>5</td>\n    </tr>\n    <tr>\n      <th>33</th>\n      <td>0.23</td>\n      <td>Very Good</td>\n      <td>E</td>\n      <td>VS1</td>\n      <td>59.5</td>\n      <td>58.0</td>\n      <td>402</td>\n      <td>4.01</td>\n      <td>4.06</td>\n      <td>2.40</td>\n      <td>4</td>\n      <td>5</td>\n    </tr>\n    <tr>\n      <th>34</th>\n      <td>0.23</td>\n      <td>Very Good</td>\n      <td>D</td>\n      <td>VS1</td>\n      <td>61.9</td>\n      <td>58.0</td>\n      <td>402</td>\n      <td>3.92</td>\n      <td>3.96</td>\n      <td>2.44</td>\n      <td>4</td>\n      <td>6</td>\n    </tr>\n    <tr>\n      <th>35</th>\n      <td>0.23</td>\n      <td>Good</td>\n      <td>F</td>\n      <td>VS1</td>\n      <td>58.2</td>\n      <td>59.0</td>\n      <td>402</td>\n      <td>4.06</td>\n      <td>4.08</td>\n      <td>2.37</td>\n      <td>4</td>\n      <td>4</td>\n    </tr>\n    <tr>\n      <th>36</th>\n      <td>0.23</td>\n      <td>Good</td>\n      <td>E</td>\n      <td>VS1</td>\n      <td>64.1</td>\n      <td>59.0</td>\n      <td>402</td>\n      <td>3.83</td>\n      <td>3.85</td>\n      <td>2.46</td>\n      <td>4</td>\n      <td>5</td>\n    </tr>\n    <tr>\n      <th>37</th>\n      <td>0.31</td>\n      <td>Good</td>\n      <td>H</td>\n      <td>SI1</td>\n      <td>64.0</td>\n      <td>54.0</td>\n      <td>402</td>\n      <td>4.29</td>\n      <td>4.31</td>\n      <td>2.75</td>\n      <td>2</td>\n      <td>2</td>\n    </tr>\n    <tr>\n      <th>38</th>\n      <td>0.26</td>\n      <td>Very Good</td>\n      <td>D</td>\n      <td>VS2</td>\n      <td>60.8</td>\n      <td>59.0</td>\n      <td>403</td>\n      <td>4.13</td>\n      <td>4.16</td>\n      <td>2.52</td>\n      <td>3</td>\n      <td>6</td>\n    </tr>\n    <tr>\n      <th>39</th>\n      <td>0.33</td>\n      <td>Ideal</td>\n      <td>I</td>\n      <td>SI2</td>\n      <td>61.8</td>\n      <td>55.0</td>\n      <td>403</td>\n      <td>4.49</td>\n      <td>4.51</td>\n      <td>2.78</td>\n      <td>1</td>\n      <td>1</td>\n    </tr>\n    <tr>\n      <th>40</th>\n      <td>0.33</td>\n      <td>Ideal</td>\n      <td>I</td>\n      <td>SI2</td>\n      <td>61.2</td>\n      <td>56.0</td>\n      <td>403</td>\n      <td>4.49</td>\n      <td>4.50</td>\n      <td>2.75</td>\n      <td>1</td>\n      <td>1</td>\n    </tr>\n    <tr>\n      <th>41</th>\n      <td>0.33</td>\n      <td>Ideal</td>\n      <td>J</td>\n      <td>SI1</td>\n      <td>61.1</td>\n      <td>56.0</td>\n      <td>403</td>\n      <td>4.49</td>\n      <td>4.55</td>\n      <td>2.76</td>\n      <td>2</td>\n      <td>0</td>\n    </tr>\n    <tr>\n      <th>42</th>\n      <td>0.26</td>\n      <td>Good</td>\n      <td>D</td>\n      <td>VS2</td>\n      <td>65.2</td>\n      <td>56.0</td>\n      <td>403</td>\n      <td>3.99</td>\n      <td>4.02</td>\n      <td>2.61</td>\n      <td>3</td>\n      <td>6</td>\n    </tr>\n    <tr>\n      <th>43</th>\n      <td>0.26</td>\n      <td>Good</td>\n      <td>D</td>\n      <td>VS1</td>\n      <td>58.4</td>\n      <td>63.0</td>\n      <td>403</td>\n      <td>4.19</td>\n      <td>4.24</td>\n      <td>2.46</td>\n      <td>4</td>\n      <td>6</td>\n    </tr>\n    <tr>\n      <th>44</th>\n      <td>0.32</td>\n      <td>Good</td>\n      <td>H</td>\n      <td>SI2</td>\n      <td>63.1</td>\n      <td>56.0</td>\n      <td>403</td>\n      <td>4.34</td>\n      <td>4.37</td>\n      <td>2.75</td>\n      <td>1</td>\n      <td>2</td>\n    </tr>\n    <tr>\n      <th>45</th>\n      <td>0.29</td>\n      <td>Premium</td>\n      <td>F</td>\n      <td>SI1</td>\n      <td>62.4</td>\n      <td>58.0</td>\n      <td>403</td>\n      <td>4.24</td>\n      <td>4.26</td>\n      <td>2.65</td>\n      <td>2</td>\n      <td>4</td>\n    </tr>\n    <tr>\n      <th>46</th>\n      <td>0.32</td>\n      <td>Very Good</td>\n      <td>H</td>\n      <td>SI2</td>\n      <td>61.8</td>\n      <td>55.0</td>\n      <td>403</td>\n      <td>4.35</td>\n      <td>4.42</td>\n      <td>2.71</td>\n      <td>1</td>\n      <td>2</td>\n    </tr>\n    <tr>\n      <th>47</th>\n      <td>0.32</td>\n      <td>Good</td>\n      <td>H</td>\n      <td>SI2</td>\n      <td>63.8</td>\n      <td>56.0</td>\n      <td>403</td>\n      <td>4.36</td>\n      <td>4.38</td>\n      <td>2.79</td>\n      <td>1</td>\n      <td>2</td>\n    </tr>\n    <tr>\n      <th>48</th>\n      <td>0.25</td>\n      <td>Very Good</td>\n      <td>E</td>\n      <td>VS2</td>\n      <td>63.3</td>\n      <td>60.0</td>\n      <td>404</td>\n      <td>4.00</td>\n      <td>4.03</td>\n      <td>2.54</td>\n      <td>3</td>\n      <td>5</td>\n    </tr>\n    <tr>\n      <th>49</th>\n      <td>0.29</td>\n      <td>Very Good</td>\n      <td>H</td>\n      <td>SI2</td>\n      <td>60.7</td>\n      <td>60.0</td>\n      <td>404</td>\n      <td>4.33</td>\n      <td>4.37</td>\n      <td>2.64</td>\n      <td>1</td>\n      <td>2</td>\n    </tr>\n  </tbody>\n</table>\n</div>"
     },
     "metadata": {},
     "execution_count": 235
    }
   ],
   "source": [
    "diamonds['z'] = diamonds.apply(lambda row: calculate_z(row), axis=1)\n",
    "diamonds.head(50)\n"
   ]
  },
  {
   "cell_type": "markdown",
   "metadata": {},
   "source": [
    "If we leave the other 8 values as they are, it would negatively affect our analysis, because these are data that do not make logical sense. Therefore it is better to consider those values as NaN values, since they are probably the result of a mistake or error during process of measuring and storing these values in a dataset.\n",
    "\n",
    "To replace them we can use the pandas .replace() method and np.NaN.\n",
    "\n",
    "**Replace the zero values in the `z` column for a NaN**"
   ]
  },
  {
   "cell_type": "code",
   "execution_count": 236,
   "metadata": {},
   "outputs": [],
   "source": [
    "#diamonds['z'].isnull().sum()\n",
    "\n",
    "def calculate_x (row):\n",
    "    if row['x'] > 0: \n",
    "        return row['x']\n",
    "\n",
    "\n",
    "diamonds['x'] = diamonds.apply(lambda row: calculate_x(row), axis=1)\n",
    "\n",
    "#This is the formula to check if there are any NaN values an as you can see, we have 8\n",
    "#Thanks to my previous formula I don't need to change anything. "
   ]
  },
  {
   "cell_type": "code",
   "execution_count": 237,
   "metadata": {},
   "outputs": [],
   "source": [
    "def calculate_y (row):\n",
    "    if row['y'] > 0: \n",
    "        return row['y']\n",
    "\n",
    "diamonds['y'] = diamonds.apply(lambda row: calculate_y(row), axis=1)"
   ]
  },
  {
   "cell_type": "markdown",
   "metadata": {},
   "source": [
    "----\n",
    "# Bonus: check the new z values\n",
    "Since we need to be 100% sure of our data, let's create a function that validates our z. To do so, we will use the same formula, but this time we will calculate the value of depth with the new value assigned to z.\n",
    "\n",
    "**Create a function named `validate_z` that compares the `z`  in cells above with the one thrown by the formula and run it with the rows you changed in the cells above**"
   ]
  },
  {
   "cell_type": "code",
   "execution_count": 238,
   "metadata": {},
   "outputs": [
    {
     "output_type": "execute_result",
     "data": {
      "text/plain": "                 count         mean          std     min     25%      50%  \\\ncarat          53940.0     0.797940     0.474011    0.20    0.40     0.70   \ndepth          53940.0    61.749405     1.432621   43.00   61.00    61.80   \ntable          53940.0    57.457184     2.234491   43.00   56.00    57.00   \nprice          53940.0  3932.799722  3989.439738  326.00  950.00  2401.00   \nx              53932.0     5.732007     1.119670    3.73    4.71     5.70   \ny              53933.0     5.735270     1.140339    3.68    4.72     5.71   \nz              53932.0     3.540265     0.702667    1.07    2.91     3.53   \nclarity_scale  53940.0     3.051020     1.647136    0.00    2.00     3.00   \ncolor_scale    53940.0     3.405803     1.701105    0.00    2.00     3.00   \n\n                   75%       max  \ncarat             1.04      5.01  \ndepth            62.50     79.00  \ntable            59.00     95.00  \nprice          5324.25  18823.00  \nx                 6.54     10.74  \ny                 6.54     58.90  \nz                 4.04     31.80  \nclarity_scale     4.00      7.00  \ncolor_scale       5.00      6.00  ",
      "text/html": "<div>\n<style scoped>\n    .dataframe tbody tr th:only-of-type {\n        vertical-align: middle;\n    }\n\n    .dataframe tbody tr th {\n        vertical-align: top;\n    }\n\n    .dataframe thead th {\n        text-align: right;\n    }\n</style>\n<table border=\"1\" class=\"dataframe\">\n  <thead>\n    <tr style=\"text-align: right;\">\n      <th></th>\n      <th>count</th>\n      <th>mean</th>\n      <th>std</th>\n      <th>min</th>\n      <th>25%</th>\n      <th>50%</th>\n      <th>75%</th>\n      <th>max</th>\n    </tr>\n  </thead>\n  <tbody>\n    <tr>\n      <th>carat</th>\n      <td>53940.0</td>\n      <td>0.797940</td>\n      <td>0.474011</td>\n      <td>0.20</td>\n      <td>0.40</td>\n      <td>0.70</td>\n      <td>1.04</td>\n      <td>5.01</td>\n    </tr>\n    <tr>\n      <th>depth</th>\n      <td>53940.0</td>\n      <td>61.749405</td>\n      <td>1.432621</td>\n      <td>43.00</td>\n      <td>61.00</td>\n      <td>61.80</td>\n      <td>62.50</td>\n      <td>79.00</td>\n    </tr>\n    <tr>\n      <th>table</th>\n      <td>53940.0</td>\n      <td>57.457184</td>\n      <td>2.234491</td>\n      <td>43.00</td>\n      <td>56.00</td>\n      <td>57.00</td>\n      <td>59.00</td>\n      <td>95.00</td>\n    </tr>\n    <tr>\n      <th>price</th>\n      <td>53940.0</td>\n      <td>3932.799722</td>\n      <td>3989.439738</td>\n      <td>326.00</td>\n      <td>950.00</td>\n      <td>2401.00</td>\n      <td>5324.25</td>\n      <td>18823.00</td>\n    </tr>\n    <tr>\n      <th>x</th>\n      <td>53932.0</td>\n      <td>5.732007</td>\n      <td>1.119670</td>\n      <td>3.73</td>\n      <td>4.71</td>\n      <td>5.70</td>\n      <td>6.54</td>\n      <td>10.74</td>\n    </tr>\n    <tr>\n      <th>y</th>\n      <td>53933.0</td>\n      <td>5.735270</td>\n      <td>1.140339</td>\n      <td>3.68</td>\n      <td>4.72</td>\n      <td>5.71</td>\n      <td>6.54</td>\n      <td>58.90</td>\n    </tr>\n    <tr>\n      <th>z</th>\n      <td>53932.0</td>\n      <td>3.540265</td>\n      <td>0.702667</td>\n      <td>1.07</td>\n      <td>2.91</td>\n      <td>3.53</td>\n      <td>4.04</td>\n      <td>31.80</td>\n    </tr>\n    <tr>\n      <th>clarity_scale</th>\n      <td>53940.0</td>\n      <td>3.051020</td>\n      <td>1.647136</td>\n      <td>0.00</td>\n      <td>2.00</td>\n      <td>3.00</td>\n      <td>4.00</td>\n      <td>7.00</td>\n    </tr>\n    <tr>\n      <th>color_scale</th>\n      <td>53940.0</td>\n      <td>3.405803</td>\n      <td>1.701105</td>\n      <td>0.00</td>\n      <td>2.00</td>\n      <td>3.00</td>\n      <td>5.00</td>\n      <td>6.00</td>\n    </tr>\n  </tbody>\n</table>\n</div>"
     },
     "metadata": {},
     "execution_count": 238
    }
   ],
   "source": [
    "diamonds.describe().transpose()\n"
   ]
  },
  {
   "cell_type": "code",
   "execution_count": null,
   "metadata": {},
   "outputs": [],
   "source": [
    "#test = diamonds[diamonds['z'] > 20 ]\n",
    "#test\n",
    "#This was just a random test of me. "
   ]
  },
  {
   "cell_type": "markdown",
   "metadata": {},
   "source": [
    "Let's check the data again with the `describe()` method."
   ]
  },
  {
   "cell_type": "markdown",
   "metadata": {},
   "source": [
    "The minimum value for x, y and z should now be a positive number, as it should be for the physical measurements of an object."
   ]
  },
  {
   "cell_type": "markdown",
   "metadata": {},
   "source": [
    "Let's finish by checking for NaN values in the data. Since we introduced them ourselves using 'replace', we will surely find some, but there may be more that are unrelated to the x, y and z columns. Checking NaNs is a fundamental part of data cleaning and it's always better to do this kind of operations before proceeding with analysis.\n",
    "\n",
    "**Check how many NaNs do you have, comment what you would do with those values, and then do so**"
   ]
  },
  {
   "cell_type": "code",
   "execution_count": 239,
   "metadata": {},
   "outputs": [
    {
     "output_type": "execute_result",
     "data": {
      "text/plain": "carat            0\ncut              0\ncolor            0\nclarity          0\ndepth            0\ntable            0\nprice            0\nx                8\ny                7\nz                8\nclarity_scale    0\ncolor_scale      0\ndtype: int64"
     },
     "metadata": {},
     "execution_count": 239
    }
   ],
   "source": [
    "check_nan = diamonds.isnull().sum()\n",
    "check_nan"
   ]
  },
  {
   "cell_type": "code",
   "execution_count": 240,
   "metadata": {},
   "outputs": [
    {
     "output_type": "execute_result",
     "data": {
      "text/plain": "53932"
     },
     "metadata": {},
     "execution_count": 240
    }
   ],
   "source": [
    "#Here we see that there are 8 NaN value in the x & z column and 7 in the y-column. \n",
    "#I drop those columns because I need to calculate with those mayby... \n",
    "\n",
    "diamonds2 = diamonds[diamonds['x'].notnull()]\n",
    "check_nan = diamonds2.isnull().sum()\n",
    "check_nan\n",
    "len(diamonds2)"
   ]
  },
  {
   "cell_type": "markdown",
   "metadata": {},
   "source": [
    "# 3. Checking for outliers\n",
    "Now we are going to revisit the summary table to check for outliers.\n",
    "\n",
    "**Use the `describe` method again and comment on what you see. After that, check if you have any outliers** "
   ]
  },
  {
   "cell_type": "code",
   "execution_count": 241,
   "metadata": {},
   "outputs": [
    {
     "output_type": "execute_result",
     "data": {
      "text/plain": "                 count         mean          std     min     25%      50%  \\\ncarat          53932.0     0.797879     0.473986    0.20    0.40     0.70   \ndepth          53932.0    61.749336     1.432514   43.00   61.00    61.80   \ntable          53932.0    57.457029     2.234064   43.00   56.00    57.00   \nprice          53932.0  3932.136079  3988.734835  326.00  949.75  2401.00   \nx              53932.0     5.732007     1.119670    3.73    4.71     5.70   \ny              53932.0     5.735254     1.140343    3.68    4.72     5.71   \nz              53932.0     3.540265     0.702667    1.07    2.91     3.53   \nclarity_scale  53932.0     3.051101     1.647109    0.00    2.00     3.00   \ncolor_scale    53932.0     3.405789     1.701165    0.00    2.00     3.00   \n\n                   75%       max  \ncarat             1.04      5.01  \ndepth            62.50     79.00  \ntable            59.00     95.00  \nprice          5324.00  18823.00  \nx                 6.54     10.74  \ny                 6.54     58.90  \nz                 4.04     31.80  \nclarity_scale     4.00      7.00  \ncolor_scale       5.00      6.00  ",
      "text/html": "<div>\n<style scoped>\n    .dataframe tbody tr th:only-of-type {\n        vertical-align: middle;\n    }\n\n    .dataframe tbody tr th {\n        vertical-align: top;\n    }\n\n    .dataframe thead th {\n        text-align: right;\n    }\n</style>\n<table border=\"1\" class=\"dataframe\">\n  <thead>\n    <tr style=\"text-align: right;\">\n      <th></th>\n      <th>count</th>\n      <th>mean</th>\n      <th>std</th>\n      <th>min</th>\n      <th>25%</th>\n      <th>50%</th>\n      <th>75%</th>\n      <th>max</th>\n    </tr>\n  </thead>\n  <tbody>\n    <tr>\n      <th>carat</th>\n      <td>53932.0</td>\n      <td>0.797879</td>\n      <td>0.473986</td>\n      <td>0.20</td>\n      <td>0.40</td>\n      <td>0.70</td>\n      <td>1.04</td>\n      <td>5.01</td>\n    </tr>\n    <tr>\n      <th>depth</th>\n      <td>53932.0</td>\n      <td>61.749336</td>\n      <td>1.432514</td>\n      <td>43.00</td>\n      <td>61.00</td>\n      <td>61.80</td>\n      <td>62.50</td>\n      <td>79.00</td>\n    </tr>\n    <tr>\n      <th>table</th>\n      <td>53932.0</td>\n      <td>57.457029</td>\n      <td>2.234064</td>\n      <td>43.00</td>\n      <td>56.00</td>\n      <td>57.00</td>\n      <td>59.00</td>\n      <td>95.00</td>\n    </tr>\n    <tr>\n      <th>price</th>\n      <td>53932.0</td>\n      <td>3932.136079</td>\n      <td>3988.734835</td>\n      <td>326.00</td>\n      <td>949.75</td>\n      <td>2401.00</td>\n      <td>5324.00</td>\n      <td>18823.00</td>\n    </tr>\n    <tr>\n      <th>x</th>\n      <td>53932.0</td>\n      <td>5.732007</td>\n      <td>1.119670</td>\n      <td>3.73</td>\n      <td>4.71</td>\n      <td>5.70</td>\n      <td>6.54</td>\n      <td>10.74</td>\n    </tr>\n    <tr>\n      <th>y</th>\n      <td>53932.0</td>\n      <td>5.735254</td>\n      <td>1.140343</td>\n      <td>3.68</td>\n      <td>4.72</td>\n      <td>5.71</td>\n      <td>6.54</td>\n      <td>58.90</td>\n    </tr>\n    <tr>\n      <th>z</th>\n      <td>53932.0</td>\n      <td>3.540265</td>\n      <td>0.702667</td>\n      <td>1.07</td>\n      <td>2.91</td>\n      <td>3.53</td>\n      <td>4.04</td>\n      <td>31.80</td>\n    </tr>\n    <tr>\n      <th>clarity_scale</th>\n      <td>53932.0</td>\n      <td>3.051101</td>\n      <td>1.647109</td>\n      <td>0.00</td>\n      <td>2.00</td>\n      <td>3.00</td>\n      <td>4.00</td>\n      <td>7.00</td>\n    </tr>\n    <tr>\n      <th>color_scale</th>\n      <td>53932.0</td>\n      <td>3.405789</td>\n      <td>1.701165</td>\n      <td>0.00</td>\n      <td>2.00</td>\n      <td>3.00</td>\n      <td>5.00</td>\n      <td>6.00</td>\n    </tr>\n  </tbody>\n</table>\n</div>"
     },
     "metadata": {},
     "execution_count": 241
    }
   ],
   "source": [
    "diamonds2.describe().transpose()"
   ]
  },
  {
   "cell_type": "code",
   "execution_count": null,
   "metadata": {},
   "outputs": [],
   "source": [
    "#We see that the count has changed --> there is a decrease of 8 rows but that is because we drop the NaN values. \n",
    "#Min in x, y, z is not 0 anymore. \n",
    "#Price label has a very large standard variation. "
   ]
  },
  {
   "cell_type": "markdown",
   "metadata": {},
   "source": [
    "To manage these outliers, we are going to filter our DataFrame, we're going to take all the values that have a price higher than the 75th percentile.\n",
    "\n",
    "**Look for that quantile and filter the dataframe to clearly see the outliers. What do you think?**"
   ]
  },
  {
   "cell_type": "code",
   "execution_count": 242,
   "metadata": {},
   "outputs": [
    {
     "output_type": "execute_result",
     "data": {
      "text/plain": "       carat        cut color clarity  depth  table  price     x     y     z  \\\n12765   1.07      Ideal     E     SI2   62.2   55.0   5325  6.54  6.58  4.08   \n12766   1.11      Ideal     H     SI1   60.6   59.0   5325  6.75  6.71  4.08   \n12767   1.14    Premium     G     SI1   62.2   58.0   5326  6.64  6.70  4.15   \n12768   1.07    Premium     H     VS2   62.1   59.0   5327  6.52  6.56  4.06   \n12769   1.33  Very Good     J     SI1   64.0   53.0   5327  6.93  7.01  4.46   \n...      ...        ...   ...     ...    ...    ...    ...   ...   ...   ...   \n27745   2.00  Very Good     H     SI1   62.8   57.0  18803  7.95  8.00  5.01   \n27746   2.07      Ideal     G     SI2   62.5   55.0  18804  8.20  8.13  5.11   \n27747   1.51      Ideal     G      IF   61.7   55.0  18806  7.37  7.41  4.56   \n27748   2.00  Very Good     G     SI1   63.5   56.0  18818  7.90  7.97  5.04   \n27749   2.29    Premium     I     VS2   60.8   60.0  18823  8.50  8.47  5.16   \n\n       clarity_scale  color_scale  \n12765              1            5  \n12766              2            2  \n12767              2            3  \n12768              3            2  \n12769              2            0  \n...              ...          ...  \n27745              2            2  \n27746              1            3  \n27747              7            3  \n27748              2            3  \n27749              3            1  \n\n[13481 rows x 12 columns]",
      "text/html": "<div>\n<style scoped>\n    .dataframe tbody tr th:only-of-type {\n        vertical-align: middle;\n    }\n\n    .dataframe tbody tr th {\n        vertical-align: top;\n    }\n\n    .dataframe thead th {\n        text-align: right;\n    }\n</style>\n<table border=\"1\" class=\"dataframe\">\n  <thead>\n    <tr style=\"text-align: right;\">\n      <th></th>\n      <th>carat</th>\n      <th>cut</th>\n      <th>color</th>\n      <th>clarity</th>\n      <th>depth</th>\n      <th>table</th>\n      <th>price</th>\n      <th>x</th>\n      <th>y</th>\n      <th>z</th>\n      <th>clarity_scale</th>\n      <th>color_scale</th>\n    </tr>\n  </thead>\n  <tbody>\n    <tr>\n      <th>12765</th>\n      <td>1.07</td>\n      <td>Ideal</td>\n      <td>E</td>\n      <td>SI2</td>\n      <td>62.2</td>\n      <td>55.0</td>\n      <td>5325</td>\n      <td>6.54</td>\n      <td>6.58</td>\n      <td>4.08</td>\n      <td>1</td>\n      <td>5</td>\n    </tr>\n    <tr>\n      <th>12766</th>\n      <td>1.11</td>\n      <td>Ideal</td>\n      <td>H</td>\n      <td>SI1</td>\n      <td>60.6</td>\n      <td>59.0</td>\n      <td>5325</td>\n      <td>6.75</td>\n      <td>6.71</td>\n      <td>4.08</td>\n      <td>2</td>\n      <td>2</td>\n    </tr>\n    <tr>\n      <th>12767</th>\n      <td>1.14</td>\n      <td>Premium</td>\n      <td>G</td>\n      <td>SI1</td>\n      <td>62.2</td>\n      <td>58.0</td>\n      <td>5326</td>\n      <td>6.64</td>\n      <td>6.70</td>\n      <td>4.15</td>\n      <td>2</td>\n      <td>3</td>\n    </tr>\n    <tr>\n      <th>12768</th>\n      <td>1.07</td>\n      <td>Premium</td>\n      <td>H</td>\n      <td>VS2</td>\n      <td>62.1</td>\n      <td>59.0</td>\n      <td>5327</td>\n      <td>6.52</td>\n      <td>6.56</td>\n      <td>4.06</td>\n      <td>3</td>\n      <td>2</td>\n    </tr>\n    <tr>\n      <th>12769</th>\n      <td>1.33</td>\n      <td>Very Good</td>\n      <td>J</td>\n      <td>SI1</td>\n      <td>64.0</td>\n      <td>53.0</td>\n      <td>5327</td>\n      <td>6.93</td>\n      <td>7.01</td>\n      <td>4.46</td>\n      <td>2</td>\n      <td>0</td>\n    </tr>\n    <tr>\n      <th>...</th>\n      <td>...</td>\n      <td>...</td>\n      <td>...</td>\n      <td>...</td>\n      <td>...</td>\n      <td>...</td>\n      <td>...</td>\n      <td>...</td>\n      <td>...</td>\n      <td>...</td>\n      <td>...</td>\n      <td>...</td>\n    </tr>\n    <tr>\n      <th>27745</th>\n      <td>2.00</td>\n      <td>Very Good</td>\n      <td>H</td>\n      <td>SI1</td>\n      <td>62.8</td>\n      <td>57.0</td>\n      <td>18803</td>\n      <td>7.95</td>\n      <td>8.00</td>\n      <td>5.01</td>\n      <td>2</td>\n      <td>2</td>\n    </tr>\n    <tr>\n      <th>27746</th>\n      <td>2.07</td>\n      <td>Ideal</td>\n      <td>G</td>\n      <td>SI2</td>\n      <td>62.5</td>\n      <td>55.0</td>\n      <td>18804</td>\n      <td>8.20</td>\n      <td>8.13</td>\n      <td>5.11</td>\n      <td>1</td>\n      <td>3</td>\n    </tr>\n    <tr>\n      <th>27747</th>\n      <td>1.51</td>\n      <td>Ideal</td>\n      <td>G</td>\n      <td>IF</td>\n      <td>61.7</td>\n      <td>55.0</td>\n      <td>18806</td>\n      <td>7.37</td>\n      <td>7.41</td>\n      <td>4.56</td>\n      <td>7</td>\n      <td>3</td>\n    </tr>\n    <tr>\n      <th>27748</th>\n      <td>2.00</td>\n      <td>Very Good</td>\n      <td>G</td>\n      <td>SI1</td>\n      <td>63.5</td>\n      <td>56.0</td>\n      <td>18818</td>\n      <td>7.90</td>\n      <td>7.97</td>\n      <td>5.04</td>\n      <td>2</td>\n      <td>3</td>\n    </tr>\n    <tr>\n      <th>27749</th>\n      <td>2.29</td>\n      <td>Premium</td>\n      <td>I</td>\n      <td>VS2</td>\n      <td>60.8</td>\n      <td>60.0</td>\n      <td>18823</td>\n      <td>8.50</td>\n      <td>8.47</td>\n      <td>5.16</td>\n      <td>3</td>\n      <td>1</td>\n    </tr>\n  </tbody>\n</table>\n<p>13481 rows × 12 columns</p>\n</div>"
     },
     "metadata": {},
     "execution_count": 242
    }
   ],
   "source": [
    "quantile_75 = diamonds2['price'].quantile(.75)\n",
    "diamonds_outliner = diamonds2[diamonds['price']> quantile_75]\n",
    "diamonds_outliner\n",
    "#Here we see that there are more than 13.481 prices above our 75 percentile."
   ]
  },
  {
   "cell_type": "markdown",
   "metadata": {},
   "source": [
    "Our dataset is really big and the outliers are really far apart from the rest of the values. To see this more clearly we will use a boxplot, which plots the median, 25th and 75th quartile, the maximum and minimum, as well as any outliers."
   ]
  },
  {
   "cell_type": "code",
   "execution_count": 243,
   "metadata": {},
   "outputs": [
    {
     "output_type": "display_data",
     "data": {
      "text/plain": "<Figure size 720x360 with 2 Axes>",
      "image/svg+xml": "<?xml version=\"1.0\" encoding=\"utf-8\" standalone=\"no\"?>\n<!DOCTYPE svg PUBLIC \"-//W3C//DTD SVG 1.1//EN\"\n  \"http://www.w3.org/Graphics/SVG/1.1/DTD/svg11.dtd\">\n<!-- Created with matplotlib (https://matplotlib.org/) -->\n<svg height=\"289.7pt\" version=\"1.1\" viewBox=\"0 0 605.803125 289.7\" width=\"605.803125pt\" xmlns=\"http://www.w3.org/2000/svg\" xmlns:xlink=\"http://www.w3.org/1999/xlink\">\n <defs>\n  <style type=\"text/css\">\n*{stroke-linecap:butt;stroke-linejoin:round;}\n  </style>\n </defs>\n <g id=\"figure_1\">\n  <g id=\"patch_1\">\n   <path d=\"M 0 289.7 \nL 605.803125 289.7 \nL 605.803125 0 \nL 0 0 \nz\n\" style=\"fill:none;\"/>\n  </g>\n  <g id=\"axes_1\">\n   <g id=\"patch_2\">\n    <path d=\"M 40.603125 279 \nL 263.803125 279 \nL 263.803125 7.2 \nL 40.603125 7.2 \nz\n\" style=\"fill:#ffffff;\"/>\n   </g>\n   <g id=\"patch_3\">\n    <path clip-path=\"url(#p7b5c249082)\" d=\"M 62.923125 261.991805 \nL 241.483125 261.991805 \nL 241.483125 253.847917 \nL 62.923125 253.847917 \nL 62.923125 261.991805 \nz\n\" style=\"fill:#3274a1;stroke:#3f3f3f;stroke-linejoin:miter;stroke-width:1.5;\"/>\n   </g>\n   <g id=\"matplotlib.axis_1\">\n    <g id=\"xtick_1\">\n     <g id=\"line2d_1\">\n      <defs>\n       <path d=\"M 0 0 \nL 0 3.5 \n\" id=\"mcf20b4bdce\" style=\"stroke:#000000;stroke-width:0.8;\"/>\n      </defs>\n      <g>\n       <use style=\"stroke:#000000;stroke-width:0.8;\" x=\"152.203125\" xlink:href=\"#mcf20b4bdce\" y=\"279\"/>\n      </g>\n     </g>\n    </g>\n   </g>\n   <g id=\"matplotlib.axis_2\">\n    <g id=\"ytick_1\">\n     <g id=\"line2d_2\">\n      <defs>\n       <path d=\"M 0 0 \nL -3.5 0 \n\" id=\"m5cef98c38c\" style=\"stroke:#000000;stroke-width:0.8;\"/>\n      </defs>\n      <g>\n       <use style=\"stroke:#000000;stroke-width:0.8;\" x=\"40.603125\" xlink:href=\"#m5cef98c38c\" y=\"238.365582\"/>\n      </g>\n     </g>\n     <g id=\"text_1\">\n      <!-- 10 -->\n      <defs>\n       <path d=\"M 12.40625 8.296875 \nL 28.515625 8.296875 \nL 28.515625 63.921875 \nL 10.984375 60.40625 \nL 10.984375 69.390625 \nL 28.421875 72.90625 \nL 38.28125 72.90625 \nL 38.28125 8.296875 \nL 54.390625 8.296875 \nL 54.390625 0 \nL 12.40625 0 \nz\n\" id=\"DejaVuSans-49\"/>\n       <path d=\"M 31.78125 66.40625 \nQ 24.171875 66.40625 20.328125 58.90625 \nQ 16.5 51.421875 16.5 36.375 \nQ 16.5 21.390625 20.328125 13.890625 \nQ 24.171875 6.390625 31.78125 6.390625 \nQ 39.453125 6.390625 43.28125 13.890625 \nQ 47.125 21.390625 47.125 36.375 \nQ 47.125 51.421875 43.28125 58.90625 \nQ 39.453125 66.40625 31.78125 66.40625 \nz\nM 31.78125 74.21875 \nQ 44.046875 74.21875 50.515625 64.515625 \nQ 56.984375 54.828125 56.984375 36.375 \nQ 56.984375 17.96875 50.515625 8.265625 \nQ 44.046875 -1.421875 31.78125 -1.421875 \nQ 19.53125 -1.421875 13.0625 8.265625 \nQ 6.59375 17.96875 6.59375 36.375 \nQ 6.59375 54.828125 13.0625 64.515625 \nQ 19.53125 74.21875 31.78125 74.21875 \nz\n\" id=\"DejaVuSans-48\"/>\n      </defs>\n      <g transform=\"translate(20.878125 242.164801)scale(0.1 -0.1)\">\n       <use xlink:href=\"#DejaVuSans-49\"/>\n       <use x=\"63.623047\" xlink:href=\"#DejaVuSans-48\"/>\n      </g>\n     </g>\n    </g>\n    <g id=\"ytick_2\">\n     <g id=\"line2d_3\">\n      <g>\n       <use style=\"stroke:#000000;stroke-width:0.8;\" x=\"40.603125\" xlink:href=\"#m5cef98c38c\" y=\"193.618949\"/>\n      </g>\n     </g>\n     <g id=\"text_2\">\n      <!-- 20 -->\n      <defs>\n       <path d=\"M 19.1875 8.296875 \nL 53.609375 8.296875 \nL 53.609375 0 \nL 7.328125 0 \nL 7.328125 8.296875 \nQ 12.9375 14.109375 22.625 23.890625 \nQ 32.328125 33.6875 34.8125 36.53125 \nQ 39.546875 41.84375 41.421875 45.53125 \nQ 43.3125 49.21875 43.3125 52.78125 \nQ 43.3125 58.59375 39.234375 62.25 \nQ 35.15625 65.921875 28.609375 65.921875 \nQ 23.96875 65.921875 18.8125 64.3125 \nQ 13.671875 62.703125 7.8125 59.421875 \nL 7.8125 69.390625 \nQ 13.765625 71.78125 18.9375 73 \nQ 24.125 74.21875 28.421875 74.21875 \nQ 39.75 74.21875 46.484375 68.546875 \nQ 53.21875 62.890625 53.21875 53.421875 \nQ 53.21875 48.921875 51.53125 44.890625 \nQ 49.859375 40.875 45.40625 35.40625 \nQ 44.1875 33.984375 37.640625 27.21875 \nQ 31.109375 20.453125 19.1875 8.296875 \nz\n\" id=\"DejaVuSans-50\"/>\n      </defs>\n      <g transform=\"translate(20.878125 197.418168)scale(0.1 -0.1)\">\n       <use xlink:href=\"#DejaVuSans-50\"/>\n       <use x=\"63.623047\" xlink:href=\"#DejaVuSans-48\"/>\n      </g>\n     </g>\n    </g>\n    <g id=\"ytick_3\">\n     <g id=\"line2d_4\">\n      <g>\n       <use style=\"stroke:#000000;stroke-width:0.8;\" x=\"40.603125\" xlink:href=\"#m5cef98c38c\" y=\"148.872316\"/>\n      </g>\n     </g>\n     <g id=\"text_3\">\n      <!-- 30 -->\n      <defs>\n       <path d=\"M 40.578125 39.3125 \nQ 47.65625 37.796875 51.625 33 \nQ 55.609375 28.21875 55.609375 21.1875 \nQ 55.609375 10.40625 48.1875 4.484375 \nQ 40.765625 -1.421875 27.09375 -1.421875 \nQ 22.515625 -1.421875 17.65625 -0.515625 \nQ 12.796875 0.390625 7.625 2.203125 \nL 7.625 11.71875 \nQ 11.71875 9.328125 16.59375 8.109375 \nQ 21.484375 6.890625 26.8125 6.890625 \nQ 36.078125 6.890625 40.9375 10.546875 \nQ 45.796875 14.203125 45.796875 21.1875 \nQ 45.796875 27.640625 41.28125 31.265625 \nQ 36.765625 34.90625 28.71875 34.90625 \nL 20.21875 34.90625 \nL 20.21875 43.015625 \nL 29.109375 43.015625 \nQ 36.375 43.015625 40.234375 45.921875 \nQ 44.09375 48.828125 44.09375 54.296875 \nQ 44.09375 59.90625 40.109375 62.90625 \nQ 36.140625 65.921875 28.71875 65.921875 \nQ 24.65625 65.921875 20.015625 65.03125 \nQ 15.375 64.15625 9.8125 62.3125 \nL 9.8125 71.09375 \nQ 15.4375 72.65625 20.34375 73.4375 \nQ 25.25 74.21875 29.59375 74.21875 \nQ 40.828125 74.21875 47.359375 69.109375 \nQ 53.90625 64.015625 53.90625 55.328125 \nQ 53.90625 49.265625 50.4375 45.09375 \nQ 46.96875 40.921875 40.578125 39.3125 \nz\n\" id=\"DejaVuSans-51\"/>\n      </defs>\n      <g transform=\"translate(20.878125 152.671534)scale(0.1 -0.1)\">\n       <use xlink:href=\"#DejaVuSans-51\"/>\n       <use x=\"63.623047\" xlink:href=\"#DejaVuSans-48\"/>\n      </g>\n     </g>\n    </g>\n    <g id=\"ytick_4\">\n     <g id=\"line2d_5\">\n      <g>\n       <use style=\"stroke:#000000;stroke-width:0.8;\" x=\"40.603125\" xlink:href=\"#m5cef98c38c\" y=\"104.125682\"/>\n      </g>\n     </g>\n     <g id=\"text_4\">\n      <!-- 40 -->\n      <defs>\n       <path d=\"M 37.796875 64.3125 \nL 12.890625 25.390625 \nL 37.796875 25.390625 \nz\nM 35.203125 72.90625 \nL 47.609375 72.90625 \nL 47.609375 25.390625 \nL 58.015625 25.390625 \nL 58.015625 17.1875 \nL 47.609375 17.1875 \nL 47.609375 0 \nL 37.796875 0 \nL 37.796875 17.1875 \nL 4.890625 17.1875 \nL 4.890625 26.703125 \nz\n\" id=\"DejaVuSans-52\"/>\n      </defs>\n      <g transform=\"translate(20.878125 107.924901)scale(0.1 -0.1)\">\n       <use xlink:href=\"#DejaVuSans-52\"/>\n       <use x=\"63.623047\" xlink:href=\"#DejaVuSans-48\"/>\n      </g>\n     </g>\n    </g>\n    <g id=\"ytick_5\">\n     <g id=\"line2d_6\">\n      <g>\n       <use style=\"stroke:#000000;stroke-width:0.8;\" x=\"40.603125\" xlink:href=\"#m5cef98c38c\" y=\"59.379049\"/>\n      </g>\n     </g>\n     <g id=\"text_5\">\n      <!-- 50 -->\n      <defs>\n       <path d=\"M 10.796875 72.90625 \nL 49.515625 72.90625 \nL 49.515625 64.59375 \nL 19.828125 64.59375 \nL 19.828125 46.734375 \nQ 21.96875 47.46875 24.109375 47.828125 \nQ 26.265625 48.1875 28.421875 48.1875 \nQ 40.625 48.1875 47.75 41.5 \nQ 54.890625 34.8125 54.890625 23.390625 \nQ 54.890625 11.625 47.5625 5.09375 \nQ 40.234375 -1.421875 26.90625 -1.421875 \nQ 22.3125 -1.421875 17.546875 -0.640625 \nQ 12.796875 0.140625 7.71875 1.703125 \nL 7.71875 11.625 \nQ 12.109375 9.234375 16.796875 8.0625 \nQ 21.484375 6.890625 26.703125 6.890625 \nQ 35.15625 6.890625 40.078125 11.328125 \nQ 45.015625 15.765625 45.015625 23.390625 \nQ 45.015625 31 40.078125 35.4375 \nQ 35.15625 39.890625 26.703125 39.890625 \nQ 22.75 39.890625 18.8125 39.015625 \nQ 14.890625 38.140625 10.796875 36.28125 \nz\n\" id=\"DejaVuSans-53\"/>\n      </defs>\n      <g transform=\"translate(20.878125 63.178268)scale(0.1 -0.1)\">\n       <use xlink:href=\"#DejaVuSans-53\"/>\n       <use x=\"63.623047\" xlink:href=\"#DejaVuSans-48\"/>\n      </g>\n     </g>\n    </g>\n    <g id=\"ytick_6\">\n     <g id=\"line2d_7\">\n      <g>\n       <use style=\"stroke:#000000;stroke-width:0.8;\" x=\"40.603125\" xlink:href=\"#m5cef98c38c\" y=\"14.632416\"/>\n      </g>\n     </g>\n     <g id=\"text_6\">\n      <!-- 60 -->\n      <defs>\n       <path d=\"M 33.015625 40.375 \nQ 26.375 40.375 22.484375 35.828125 \nQ 18.609375 31.296875 18.609375 23.390625 \nQ 18.609375 15.53125 22.484375 10.953125 \nQ 26.375 6.390625 33.015625 6.390625 \nQ 39.65625 6.390625 43.53125 10.953125 \nQ 47.40625 15.53125 47.40625 23.390625 \nQ 47.40625 31.296875 43.53125 35.828125 \nQ 39.65625 40.375 33.015625 40.375 \nz\nM 52.59375 71.296875 \nL 52.59375 62.3125 \nQ 48.875 64.0625 45.09375 64.984375 \nQ 41.3125 65.921875 37.59375 65.921875 \nQ 27.828125 65.921875 22.671875 59.328125 \nQ 17.53125 52.734375 16.796875 39.40625 \nQ 19.671875 43.65625 24.015625 45.921875 \nQ 28.375 48.1875 33.59375 48.1875 \nQ 44.578125 48.1875 50.953125 41.515625 \nQ 57.328125 34.859375 57.328125 23.390625 \nQ 57.328125 12.15625 50.6875 5.359375 \nQ 44.046875 -1.421875 33.015625 -1.421875 \nQ 20.359375 -1.421875 13.671875 8.265625 \nQ 6.984375 17.96875 6.984375 36.375 \nQ 6.984375 53.65625 15.1875 63.9375 \nQ 23.390625 74.21875 37.203125 74.21875 \nQ 40.921875 74.21875 44.703125 73.484375 \nQ 48.484375 72.75 52.59375 71.296875 \nz\n\" id=\"DejaVuSans-54\"/>\n      </defs>\n      <g transform=\"translate(20.878125 18.431635)scale(0.1 -0.1)\">\n       <use xlink:href=\"#DejaVuSans-54\"/>\n       <use x=\"63.623047\" xlink:href=\"#DejaVuSans-48\"/>\n      </g>\n     </g>\n    </g>\n    <g id=\"text_7\">\n     <!-- y -->\n     <defs>\n      <path d=\"M 32.171875 -5.078125 \nQ 28.375 -14.84375 24.75 -17.8125 \nQ 21.140625 -20.796875 15.09375 -20.796875 \nL 7.90625 -20.796875 \nL 7.90625 -13.28125 \nL 13.1875 -13.28125 \nQ 16.890625 -13.28125 18.9375 -11.515625 \nQ 21 -9.765625 23.484375 -3.21875 \nL 25.09375 0.875 \nL 2.984375 54.6875 \nL 12.5 54.6875 \nL 29.59375 11.921875 \nL 46.6875 54.6875 \nL 56.203125 54.6875 \nz\n\" id=\"DejaVuSans-121\"/>\n     </defs>\n     <g transform=\"translate(14.798437 146.059375)rotate(-90)scale(0.1 -0.1)\">\n      <use xlink:href=\"#DejaVuSans-121\"/>\n     </g>\n    </g>\n   </g>\n   <g id=\"line2d_8\">\n    <path clip-path=\"url(#p7b5c249082)\" d=\"M 152.203125 261.991805 \nL 152.203125 266.645455 \n\" style=\"fill:none;stroke:#3f3f3f;stroke-linecap:square;stroke-width:1.5;\"/>\n   </g>\n   <g id=\"line2d_9\">\n    <path clip-path=\"url(#p7b5c249082)\" d=\"M 152.203125 253.847917 \nL 152.203125 241.676833 \n\" style=\"fill:none;stroke:#3f3f3f;stroke-linecap:square;stroke-width:1.5;\"/>\n   </g>\n   <g id=\"line2d_10\">\n    <path clip-path=\"url(#p7b5c249082)\" d=\"M 107.563125 266.645455 \nL 196.843125 266.645455 \n\" style=\"fill:none;stroke:#3f3f3f;stroke-linecap:square;stroke-width:1.5;\"/>\n   </g>\n   <g id=\"line2d_11\">\n    <path clip-path=\"url(#p7b5c249082)\" d=\"M 107.563125 241.676833 \nL 196.843125 241.676833 \n\" style=\"fill:none;stroke:#3f3f3f;stroke-linecap:square;stroke-width:1.5;\"/>\n   </g>\n   <g id=\"line2d_12\">\n    <defs>\n     <path d=\"M -0 3.535534 \nL 2.12132 0 \nL -0 -3.535534 \nL -2.12132 -0 \nz\n\" id=\"mdce248c0bd\" style=\"stroke:#3f3f3f;stroke-linejoin:miter;\"/>\n    </defs>\n    <g clip-path=\"url(#p7b5c249082)\">\n     <use style=\"fill:#3f3f3f;stroke:#3f3f3f;stroke-linejoin:miter;\" x=\"152.203125\" xlink:href=\"#mdce248c0bd\" y=\"241.139874\"/>\n     <use style=\"fill:#3f3f3f;stroke:#3f3f3f;stroke-linejoin:miter;\" x=\"152.203125\" xlink:href=\"#mdce248c0bd\" y=\"241.4531\"/>\n     <use style=\"fill:#3f3f3f;stroke:#3f3f3f;stroke-linejoin:miter;\" x=\"152.203125\" xlink:href=\"#mdce248c0bd\" y=\"240.692407\"/>\n     <use style=\"fill:#3f3f3f;stroke:#3f3f3f;stroke-linejoin:miter;\" x=\"152.203125\" xlink:href=\"#mdce248c0bd\" y=\"19.554545\"/>\n     <use style=\"fill:#3f3f3f;stroke:#3f3f3f;stroke-linejoin:miter;\" x=\"152.203125\" xlink:href=\"#mdce248c0bd\" y=\"241.05038\"/>\n     <use style=\"fill:#3f3f3f;stroke:#3f3f3f;stroke-linejoin:miter;\" x=\"152.203125\" xlink:href=\"#mdce248c0bd\" y=\"240.960887\"/>\n     <use style=\"fill:#3f3f3f;stroke:#3f3f3f;stroke-linejoin:miter;\" x=\"152.203125\" xlink:href=\"#mdce248c0bd\" y=\"240.200194\"/>\n     <use style=\"fill:#3f3f3f;stroke:#3f3f3f;stroke-linejoin:miter;\" x=\"152.203125\" xlink:href=\"#mdce248c0bd\" y=\"241.18462\"/>\n     <use style=\"fill:#3f3f3f;stroke:#3f3f3f;stroke-linejoin:miter;\" x=\"152.203125\" xlink:href=\"#mdce248c0bd\" y=\"237.918116\"/>\n     <use style=\"fill:#3f3f3f;stroke:#3f3f3f;stroke-linejoin:miter;\" x=\"152.203125\" xlink:href=\"#mdce248c0bd\" y=\"238.634062\"/>\n     <use style=\"fill:#3f3f3f;stroke:#3f3f3f;stroke-linejoin:miter;\" x=\"152.203125\" xlink:href=\"#mdce248c0bd\" y=\"241.31886\"/>\n     <use style=\"fill:#3f3f3f;stroke:#3f3f3f;stroke-linejoin:miter;\" x=\"152.203125\" xlink:href=\"#mdce248c0bd\" y=\"238.634062\"/>\n     <use style=\"fill:#3f3f3f;stroke:#3f3f3f;stroke-linejoin:miter;\" x=\"152.203125\" xlink:href=\"#mdce248c0bd\" y=\"239.215768\"/>\n     <use style=\"fill:#3f3f3f;stroke:#3f3f3f;stroke-linejoin:miter;\" x=\"152.203125\" xlink:href=\"#mdce248c0bd\" y=\"239.036782\"/>\n     <use style=\"fill:#3f3f3f;stroke:#3f3f3f;stroke-linejoin:miter;\" x=\"152.203125\" xlink:href=\"#mdce248c0bd\" y=\"235.949264\"/>\n     <use style=\"fill:#3f3f3f;stroke:#3f3f3f;stroke-linejoin:miter;\" x=\"152.203125\" xlink:href=\"#mdce248c0bd\" y=\"241.4531\"/>\n     <use style=\"fill:#3f3f3f;stroke:#3f3f3f;stroke-linejoin:miter;\" x=\"152.203125\" xlink:href=\"#mdce248c0bd\" y=\"237.649636\"/>\n     <use style=\"fill:#3f3f3f;stroke:#3f3f3f;stroke-linejoin:miter;\" x=\"152.203125\" xlink:href=\"#mdce248c0bd\" y=\"240.7819\"/>\n     <use style=\"fill:#3f3f3f;stroke:#3f3f3f;stroke-linejoin:miter;\" x=\"152.203125\" xlink:href=\"#mdce248c0bd\" y=\"241.139874\"/>\n     <use style=\"fill:#3f3f3f;stroke:#3f3f3f;stroke-linejoin:miter;\" x=\"152.203125\" xlink:href=\"#mdce248c0bd\" y=\"240.021208\"/>\n     <use style=\"fill:#3f3f3f;stroke:#3f3f3f;stroke-linejoin:miter;\" x=\"152.203125\" xlink:href=\"#mdce248c0bd\" y=\"241.408353\"/>\n     <use style=\"fill:#3f3f3f;stroke:#3f3f3f;stroke-linejoin:miter;\" x=\"152.203125\" xlink:href=\"#mdce248c0bd\" y=\"140.817922\"/>\n    </g>\n   </g>\n   <g id=\"line2d_13\">\n    <path clip-path=\"url(#p7b5c249082)\" d=\"M 62.923125 257.561888 \nL 241.483125 257.561888 \n\" style=\"fill:none;stroke:#3f3f3f;stroke-linecap:square;stroke-width:1.5;\"/>\n   </g>\n   <g id=\"patch_4\">\n    <path d=\"M 40.603125 279 \nL 40.603125 7.2 \n\" style=\"fill:none;stroke:#000000;stroke-linecap:square;stroke-linejoin:miter;stroke-width:0.8;\"/>\n   </g>\n   <g id=\"patch_5\">\n    <path d=\"M 263.803125 279 \nL 263.803125 7.2 \n\" style=\"fill:none;stroke:#000000;stroke-linecap:square;stroke-linejoin:miter;stroke-width:0.8;\"/>\n   </g>\n   <g id=\"patch_6\">\n    <path d=\"M 40.603125 279 \nL 263.803125 279 \n\" style=\"fill:none;stroke:#000000;stroke-linecap:square;stroke-linejoin:miter;stroke-width:0.8;\"/>\n   </g>\n   <g id=\"patch_7\">\n    <path d=\"M 40.603125 7.2 \nL 263.803125 7.2 \n\" style=\"fill:none;stroke:#000000;stroke-linecap:square;stroke-linejoin:miter;stroke-width:0.8;\"/>\n   </g>\n  </g>\n  <g id=\"axes_2\">\n   <g id=\"patch_8\">\n    <path d=\"M 375.403125 279 \nL 598.603125 279 \nL 598.603125 7.2 \nL 375.403125 7.2 \nz\n\" style=\"fill:#ffffff;\"/>\n   </g>\n   <g id=\"patch_9\">\n    <path clip-path=\"url(#p2f09a2a73f)\" d=\"M 397.723125 251.850555 \nL 576.283125 251.850555 \nL 576.283125 242.764556 \nL 397.723125 242.764556 \nL 397.723125 251.850555 \nz\n\" style=\"fill:#3274a1;stroke:#3f3f3f;stroke-linejoin:miter;stroke-width:1.5;\"/>\n   </g>\n   <g id=\"matplotlib.axis_3\">\n    <g id=\"xtick_2\">\n     <g id=\"line2d_14\">\n      <g>\n       <use style=\"stroke:#000000;stroke-width:0.8;\" x=\"487.003125\" xlink:href=\"#mcf20b4bdce\" y=\"279\"/>\n      </g>\n     </g>\n    </g>\n   </g>\n   <g id=\"matplotlib.axis_4\">\n    <g id=\"ytick_7\">\n     <g id=\"line2d_15\">\n      <g>\n       <use style=\"stroke:#000000;stroke-width:0.8;\" x=\"375.403125\" xlink:href=\"#m5cef98c38c\" y=\"275.24901\"/>\n      </g>\n     </g>\n     <g id=\"text_8\">\n      <!-- 0 -->\n      <g transform=\"translate(362.040625 279.048229)scale(0.1 -0.1)\">\n       <use xlink:href=\"#DejaVuSans-48\"/>\n      </g>\n     </g>\n    </g>\n    <g id=\"ytick_8\">\n     <g id=\"line2d_16\">\n      <g>\n       <use style=\"stroke:#000000;stroke-width:0.8;\" x=\"375.403125\" xlink:href=\"#m5cef98c38c\" y=\"235.045478\"/>\n      </g>\n     </g>\n     <g id=\"text_9\">\n      <!-- 5 -->\n      <g transform=\"translate(362.040625 238.844697)scale(0.1 -0.1)\">\n       <use xlink:href=\"#DejaVuSans-53\"/>\n      </g>\n     </g>\n    </g>\n    <g id=\"ytick_9\">\n     <g id=\"line2d_17\">\n      <g>\n       <use style=\"stroke:#000000;stroke-width:0.8;\" x=\"375.403125\" xlink:href=\"#m5cef98c38c\" y=\"194.841946\"/>\n      </g>\n     </g>\n     <g id=\"text_10\">\n      <!-- 10 -->\n      <g transform=\"translate(355.678125 198.641165)scale(0.1 -0.1)\">\n       <use xlink:href=\"#DejaVuSans-49\"/>\n       <use x=\"63.623047\" xlink:href=\"#DejaVuSans-48\"/>\n      </g>\n     </g>\n    </g>\n    <g id=\"ytick_10\">\n     <g id=\"line2d_18\">\n      <g>\n       <use style=\"stroke:#000000;stroke-width:0.8;\" x=\"375.403125\" xlink:href=\"#m5cef98c38c\" y=\"154.638414\"/>\n      </g>\n     </g>\n     <g id=\"text_11\">\n      <!-- 15 -->\n      <g transform=\"translate(355.678125 158.437633)scale(0.1 -0.1)\">\n       <use xlink:href=\"#DejaVuSans-49\"/>\n       <use x=\"63.623047\" xlink:href=\"#DejaVuSans-53\"/>\n      </g>\n     </g>\n    </g>\n    <g id=\"ytick_11\">\n     <g id=\"line2d_19\">\n      <g>\n       <use style=\"stroke:#000000;stroke-width:0.8;\" x=\"375.403125\" xlink:href=\"#m5cef98c38c\" y=\"114.434882\"/>\n      </g>\n     </g>\n     <g id=\"text_12\">\n      <!-- 20 -->\n      <g transform=\"translate(355.678125 118.2341)scale(0.1 -0.1)\">\n       <use xlink:href=\"#DejaVuSans-50\"/>\n       <use x=\"63.623047\" xlink:href=\"#DejaVuSans-48\"/>\n      </g>\n     </g>\n    </g>\n    <g id=\"ytick_12\">\n     <g id=\"line2d_20\">\n      <g>\n       <use style=\"stroke:#000000;stroke-width:0.8;\" x=\"375.403125\" xlink:href=\"#m5cef98c38c\" y=\"74.231349\"/>\n      </g>\n     </g>\n     <g id=\"text_13\">\n      <!-- 25 -->\n      <g transform=\"translate(355.678125 78.030568)scale(0.1 -0.1)\">\n       <use xlink:href=\"#DejaVuSans-50\"/>\n       <use x=\"63.623047\" xlink:href=\"#DejaVuSans-53\"/>\n      </g>\n     </g>\n    </g>\n    <g id=\"ytick_13\">\n     <g id=\"line2d_21\">\n      <g>\n       <use style=\"stroke:#000000;stroke-width:0.8;\" x=\"375.403125\" xlink:href=\"#m5cef98c38c\" y=\"34.027817\"/>\n      </g>\n     </g>\n     <g id=\"text_14\">\n      <!-- 30 -->\n      <g transform=\"translate(355.678125 37.827036)scale(0.1 -0.1)\">\n       <use xlink:href=\"#DejaVuSans-51\"/>\n       <use x=\"63.623047\" xlink:href=\"#DejaVuSans-48\"/>\n      </g>\n     </g>\n    </g>\n    <g id=\"text_15\">\n     <!-- z -->\n     <defs>\n      <path d=\"M 5.515625 54.6875 \nL 48.1875 54.6875 \nL 48.1875 46.484375 \nL 14.40625 7.171875 \nL 48.1875 7.171875 \nL 48.1875 0 \nL 4.296875 0 \nL 4.296875 8.203125 \nL 38.09375 47.515625 \nL 5.515625 47.515625 \nz\n\" id=\"DejaVuSans-122\"/>\n     </defs>\n     <g transform=\"translate(349.598437 145.724219)rotate(-90)scale(0.1 -0.1)\">\n      <use xlink:href=\"#DejaVuSans-122\"/>\n     </g>\n    </g>\n   </g>\n   <g id=\"line2d_22\">\n    <path clip-path=\"url(#p2f09a2a73f)\" d=\"M 487.003125 251.850555 \nL 487.003125 263.911614 \n\" style=\"fill:none;stroke:#3f3f3f;stroke-linecap:square;stroke-width:1.5;\"/>\n   </g>\n   <g id=\"line2d_23\">\n    <path clip-path=\"url(#p2f09a2a73f)\" d=\"M 487.003125 242.764556 \nL 487.003125 229.175763 \n\" style=\"fill:none;stroke:#3f3f3f;stroke-linecap:square;stroke-width:1.5;\"/>\n   </g>\n   <g id=\"line2d_24\">\n    <path clip-path=\"url(#p2f09a2a73f)\" d=\"M 442.363125 263.911614 \nL 531.643125 263.911614 \n\" style=\"fill:none;stroke:#3f3f3f;stroke-linecap:square;stroke-width:1.5;\"/>\n   </g>\n   <g id=\"line2d_25\">\n    <path clip-path=\"url(#p2f09a2a73f)\" d=\"M 442.363125 229.175763 \nL 531.643125 229.175763 \n\" style=\"fill:none;stroke:#3f3f3f;stroke-linecap:square;stroke-width:1.5;\"/>\n   </g>\n   <g id=\"line2d_26\">\n    <g clip-path=\"url(#p2f09a2a73f)\">\n     <use style=\"fill:#3f3f3f;stroke:#3f3f3f;stroke-linejoin:miter;\" x=\"487.003125\" xlink:href=\"#mdce248c0bd\" y=\"266.645455\"/>\n     <use style=\"fill:#3f3f3f;stroke:#3f3f3f;stroke-linejoin:miter;\" x=\"487.003125\" xlink:href=\"#mdce248c0bd\" y=\"228.854134\"/>\n     <use style=\"fill:#3f3f3f;stroke:#3f3f3f;stroke-linejoin:miter;\" x=\"487.003125\" xlink:href=\"#mdce248c0bd\" y=\"228.934541\"/>\n     <use style=\"fill:#3f3f3f;stroke:#3f3f3f;stroke-linejoin:miter;\" x=\"487.003125\" xlink:href=\"#mdce248c0bd\" y=\"227.245993\"/>\n     <use style=\"fill:#3f3f3f;stroke:#3f3f3f;stroke-linejoin:miter;\" x=\"487.003125\" xlink:href=\"#mdce248c0bd\" y=\"227.165586\"/>\n     <use style=\"fill:#3f3f3f;stroke:#3f3f3f;stroke-linejoin:miter;\" x=\"487.003125\" xlink:href=\"#mdce248c0bd\" y=\"227.728435\"/>\n     <use style=\"fill:#3f3f3f;stroke:#3f3f3f;stroke-linejoin:miter;\" x=\"487.003125\" xlink:href=\"#mdce248c0bd\" y=\"228.69332\"/>\n     <use style=\"fill:#3f3f3f;stroke:#3f3f3f;stroke-linejoin:miter;\" x=\"487.003125\" xlink:href=\"#mdce248c0bd\" y=\"223.949303\"/>\n     <use style=\"fill:#3f3f3f;stroke:#3f3f3f;stroke-linejoin:miter;\" x=\"487.003125\" xlink:href=\"#mdce248c0bd\" y=\"210.440916\"/>\n     <use style=\"fill:#3f3f3f;stroke:#3f3f3f;stroke-linejoin:miter;\" x=\"487.003125\" xlink:href=\"#mdce248c0bd\" y=\"228.210878\"/>\n     <use style=\"fill:#3f3f3f;stroke:#3f3f3f;stroke-linejoin:miter;\" x=\"487.003125\" xlink:href=\"#mdce248c0bd\" y=\"227.648028\"/>\n     <use style=\"fill:#3f3f3f;stroke:#3f3f3f;stroke-linejoin:miter;\" x=\"487.003125\" xlink:href=\"#mdce248c0bd\" y=\"226.763551\"/>\n     <use style=\"fill:#3f3f3f;stroke:#3f3f3f;stroke-linejoin:miter;\" x=\"487.003125\" xlink:href=\"#mdce248c0bd\" y=\"225.637852\"/>\n     <use style=\"fill:#3f3f3f;stroke:#3f3f3f;stroke-linejoin:miter;\" x=\"487.003125\" xlink:href=\"#mdce248c0bd\" y=\"225.075002\"/>\n     <use style=\"fill:#3f3f3f;stroke:#3f3f3f;stroke-linejoin:miter;\" x=\"487.003125\" xlink:href=\"#mdce248c0bd\" y=\"229.014948\"/>\n     <use style=\"fill:#3f3f3f;stroke:#3f3f3f;stroke-linejoin:miter;\" x=\"487.003125\" xlink:href=\"#mdce248c0bd\" y=\"225.718259\"/>\n     <use style=\"fill:#3f3f3f;stroke:#3f3f3f;stroke-linejoin:miter;\" x=\"487.003125\" xlink:href=\"#mdce248c0bd\" y=\"224.833781\"/>\n     <use style=\"fill:#3f3f3f;stroke:#3f3f3f;stroke-linejoin:miter;\" x=\"487.003125\" xlink:href=\"#mdce248c0bd\" y=\"224.512153\"/>\n     <use style=\"fill:#3f3f3f;stroke:#3f3f3f;stroke-linejoin:miter;\" x=\"487.003125\" xlink:href=\"#mdce248c0bd\" y=\"225.95948\"/>\n     <use style=\"fill:#3f3f3f;stroke:#3f3f3f;stroke-linejoin:miter;\" x=\"487.003125\" xlink:href=\"#mdce248c0bd\" y=\"228.130471\"/>\n     <use style=\"fill:#3f3f3f;stroke:#3f3f3f;stroke-linejoin:miter;\" x=\"487.003125\" xlink:href=\"#mdce248c0bd\" y=\"223.547268\"/>\n     <use style=\"fill:#3f3f3f;stroke:#3f3f3f;stroke-linejoin:miter;\" x=\"487.003125\" xlink:href=\"#mdce248c0bd\" y=\"219.124879\"/>\n     <use style=\"fill:#3f3f3f;stroke:#3f3f3f;stroke-linejoin:miter;\" x=\"487.003125\" xlink:href=\"#mdce248c0bd\" y=\"227.808842\"/>\n     <use style=\"fill:#3f3f3f;stroke:#3f3f3f;stroke-linejoin:miter;\" x=\"487.003125\" xlink:href=\"#mdce248c0bd\" y=\"227.808842\"/>\n     <use style=\"fill:#3f3f3f;stroke:#3f3f3f;stroke-linejoin:miter;\" x=\"487.003125\" xlink:href=\"#mdce248c0bd\" y=\"228.854134\"/>\n     <use style=\"fill:#3f3f3f;stroke:#3f3f3f;stroke-linejoin:miter;\" x=\"487.003125\" xlink:href=\"#mdce248c0bd\" y=\"228.854134\"/>\n     <use style=\"fill:#3f3f3f;stroke:#3f3f3f;stroke-linejoin:miter;\" x=\"487.003125\" xlink:href=\"#mdce248c0bd\" y=\"221.215463\"/>\n     <use style=\"fill:#3f3f3f;stroke:#3f3f3f;stroke-linejoin:miter;\" x=\"487.003125\" xlink:href=\"#mdce248c0bd\" y=\"226.763551\"/>\n     <use style=\"fill:#3f3f3f;stroke:#3f3f3f;stroke-linejoin:miter;\" x=\"487.003125\" xlink:href=\"#mdce248c0bd\" y=\"19.554545\"/>\n    </g>\n   </g>\n   <g id=\"line2d_27\">\n    <path clip-path=\"url(#p2f09a2a73f)\" d=\"M 397.723125 246.865317 \nL 576.283125 246.865317 \n\" style=\"fill:none;stroke:#3f3f3f;stroke-linecap:square;stroke-width:1.5;\"/>\n   </g>\n   <g id=\"patch_10\">\n    <path d=\"M 375.403125 279 \nL 375.403125 7.2 \n\" style=\"fill:none;stroke:#000000;stroke-linecap:square;stroke-linejoin:miter;stroke-width:0.8;\"/>\n   </g>\n   <g id=\"patch_11\">\n    <path d=\"M 598.603125 279 \nL 598.603125 7.2 \n\" style=\"fill:none;stroke:#000000;stroke-linecap:square;stroke-linejoin:miter;stroke-width:0.8;\"/>\n   </g>\n   <g id=\"patch_12\">\n    <path d=\"M 375.403125 279 \nL 598.603125 279 \n\" style=\"fill:none;stroke:#000000;stroke-linecap:square;stroke-linejoin:miter;stroke-width:0.8;\"/>\n   </g>\n   <g id=\"patch_13\">\n    <path d=\"M 375.403125 7.2 \nL 598.603125 7.2 \n\" style=\"fill:none;stroke:#000000;stroke-linecap:square;stroke-linejoin:miter;stroke-width:0.8;\"/>\n   </g>\n  </g>\n </g>\n <defs>\n  <clipPath id=\"p7b5c249082\">\n   <rect height=\"271.8\" width=\"223.2\" x=\"40.603125\" y=\"7.2\"/>\n  </clipPath>\n  <clipPath id=\"p2f09a2a73f\">\n   <rect height=\"271.8\" width=\"223.2\" x=\"375.403125\" y=\"7.2\"/>\n  </clipPath>\n </defs>\n</svg>\n",
      "image/png": "[encoded data removed]"
     },
     "metadata": {
      "needs_background": "light"
     }
    }
   ],
   "source": [
    "#Run this code\n",
    "fig, ax = plt.subplots(1,2, figsize=(10, 5))\n",
    "sns.boxplot(y=diamonds2.y, ax=ax[0])\n",
    "sns.boxplot(y=diamonds2.z, ax=ax[1])\n",
    "plt.subplots_adjust(wspace=0.5)"
   ]
  },
  {
   "cell_type": "markdown",
   "metadata": {},
   "source": [
    "Now we can see that all the values are within an acceptable range, but we have 2 big outliers in y and 1 in z. Now we know that our max values for y should be around 10 and the values for z should be around 6, so let's filter our dataset to find values higher than 10 in it.\n"
   ]
  },
  {
   "cell_type": "code",
   "execution_count": 245,
   "metadata": {},
   "outputs": [
    {
     "output_type": "execute_result",
     "data": {
      "text/plain": "       carat        cut color clarity  depth  table  price     x     y     z  \\\n48410   0.51  Very Good     E     VS1   61.8   54.7   1970  5.12  5.15  31.8   \n\n       clarity_scale  color_scale  \n48410              4            5  ",
      "text/html": "<div>\n<style scoped>\n    .dataframe tbody tr th:only-of-type {\n        vertical-align: middle;\n    }\n\n    .dataframe tbody tr th {\n        vertical-align: top;\n    }\n\n    .dataframe thead th {\n        text-align: right;\n    }\n</style>\n<table border=\"1\" class=\"dataframe\">\n  <thead>\n    <tr style=\"text-align: right;\">\n      <th></th>\n      <th>carat</th>\n      <th>cut</th>\n      <th>color</th>\n      <th>clarity</th>\n      <th>depth</th>\n      <th>table</th>\n      <th>price</th>\n      <th>x</th>\n      <th>y</th>\n      <th>z</th>\n      <th>clarity_scale</th>\n      <th>color_scale</th>\n    </tr>\n  </thead>\n  <tbody>\n    <tr>\n      <th>48410</th>\n      <td>0.51</td>\n      <td>Very Good</td>\n      <td>E</td>\n      <td>VS1</td>\n      <td>61.8</td>\n      <td>54.7</td>\n      <td>1970</td>\n      <td>5.12</td>\n      <td>5.15</td>\n      <td>31.8</td>\n      <td>4</td>\n      <td>5</td>\n    </tr>\n  </tbody>\n</table>\n</div>"
     },
     "metadata": {},
     "execution_count": 245
    }
   ],
   "source": [
    "diamonds2_filter = diamonds2[(diamonds['z'] > 10) ]\n",
    "diamonds2_filter"
   ]
  },
  {
   "cell_type": "markdown",
   "metadata": {},
   "source": [
    "Now that we have found the outlier, let's use the function we defined earlier to correct this value. First, we need to change the value to 0 (because that's how we defined the function before) and then we will apply it.\n",
    "\n",
    "**Apply `calculate_z` for the row with the outlier**"
   ]
  },
  {
   "cell_type": "code",
   "execution_count": 248,
   "metadata": {},
   "outputs": [],
   "source": [
    "diamonds2.loc[48410,'z']=0\n",
    "\n",
    "diamonds2['z'] = diamonds2.apply(lambda row: calculate_z(row), axis=1)"
   ]
  },
  {
   "cell_type": "markdown",
   "metadata": {},
   "source": [
    "Let's check if we actually corrected the outlier."
   ]
  },
  {
   "cell_type": "code",
   "execution_count": 249,
   "metadata": {},
   "outputs": [
    {
     "output_type": "execute_result",
     "data": {
      "text/plain": "carat                 0.51\ncut              Very Good\ncolor                    E\nclarity                VS1\ndepth                 61.8\ntable                 54.7\nprice                 1970\nx                     5.12\ny                     5.15\nz                  3.17343\nclarity_scale            4\ncolor_scale              5\nName: 48410, dtype: object"
     },
     "metadata": {},
     "execution_count": 249
    }
   ],
   "source": [
    "diamonds2.loc[48410]"
   ]
  },
  {
   "cell_type": "markdown",
   "metadata": {},
   "source": [
    "Cool! Now let's validate our new `z`. We will check if we obtain the same value of depth using our validate function. If the formula applies, this means could approximate the real value of `z`.\n",
    "\n",
    "**Apply `validate_z` to the row used earlier**"
   ]
  },
  {
   "cell_type": "code",
   "execution_count": null,
   "metadata": {},
   "outputs": [],
   "source": [
    "#your code here"
   ]
  },
  {
   "cell_type": "markdown",
   "metadata": {},
   "source": [
    "Now let's do the same for `y`. First, let's filter the DataFrame to find the outliers. We said that the maximum values should be around 10, so let's check what are the values above 10.\n",
    "\n",
    "**Check the values greater than 10 in the `y` column** "
   ]
  },
  {
   "cell_type": "code",
   "execution_count": 250,
   "metadata": {},
   "outputs": [
    {
     "output_type": "execute_result",
     "data": {
      "text/plain": "       carat      cut color clarity  depth  table  price      x      y     z  \\\n24067   2.00  Premium     H     SI2   58.9   57.0  12210   8.09  58.90  8.06   \n25998   4.01  Premium     I      I1   61.0   61.0  15223  10.14  10.10  6.17   \n27415   5.01     Fair     J      I1   65.5   59.0  18018  10.74  10.54  6.98   \n27630   4.50     Fair     J      I1   65.8   58.0  18531  10.23  10.16  6.72   \n49189   0.51    Ideal     E     VS1   61.8   55.0   2075   5.15  31.80  5.12   \n\n       clarity_scale  color_scale  \n24067              1            2  \n25998              0            1  \n27415              0            0  \n27630              0            0  \n49189              4            5  ",
      "text/html": "<div>\n<style scoped>\n    .dataframe tbody tr th:only-of-type {\n        vertical-align: middle;\n    }\n\n    .dataframe tbody tr th {\n        vertical-align: top;\n    }\n\n    .dataframe thead th {\n        text-align: right;\n    }\n</style>\n<table border=\"1\" class=\"dataframe\">\n  <thead>\n    <tr style=\"text-align: right;\">\n      <th></th>\n      <th>carat</th>\n      <th>cut</th>\n      <th>color</th>\n      <th>clarity</th>\n      <th>depth</th>\n      <th>table</th>\n      <th>price</th>\n      <th>x</th>\n      <th>y</th>\n      <th>z</th>\n      <th>clarity_scale</th>\n      <th>color_scale</th>\n    </tr>\n  </thead>\n  <tbody>\n    <tr>\n      <th>24067</th>\n      <td>2.00</td>\n      <td>Premium</td>\n      <td>H</td>\n      <td>SI2</td>\n      <td>58.9</td>\n      <td>57.0</td>\n      <td>12210</td>\n      <td>8.09</td>\n      <td>58.90</td>\n      <td>8.06</td>\n      <td>1</td>\n      <td>2</td>\n    </tr>\n    <tr>\n      <th>25998</th>\n      <td>4.01</td>\n      <td>Premium</td>\n      <td>I</td>\n      <td>I1</td>\n      <td>61.0</td>\n      <td>61.0</td>\n      <td>15223</td>\n      <td>10.14</td>\n      <td>10.10</td>\n      <td>6.17</td>\n      <td>0</td>\n      <td>1</td>\n    </tr>\n    <tr>\n      <th>27415</th>\n      <td>5.01</td>\n      <td>Fair</td>\n      <td>J</td>\n      <td>I1</td>\n      <td>65.5</td>\n      <td>59.0</td>\n      <td>18018</td>\n      <td>10.74</td>\n      <td>10.54</td>\n      <td>6.98</td>\n      <td>0</td>\n      <td>0</td>\n    </tr>\n    <tr>\n      <th>27630</th>\n      <td>4.50</td>\n      <td>Fair</td>\n      <td>J</td>\n      <td>I1</td>\n      <td>65.8</td>\n      <td>58.0</td>\n      <td>18531</td>\n      <td>10.23</td>\n      <td>10.16</td>\n      <td>6.72</td>\n      <td>0</td>\n      <td>0</td>\n    </tr>\n    <tr>\n      <th>49189</th>\n      <td>0.51</td>\n      <td>Ideal</td>\n      <td>E</td>\n      <td>VS1</td>\n      <td>61.8</td>\n      <td>55.0</td>\n      <td>2075</td>\n      <td>5.15</td>\n      <td>31.80</td>\n      <td>5.12</td>\n      <td>4</td>\n      <td>5</td>\n    </tr>\n  </tbody>\n</table>\n</div>"
     },
     "metadata": {},
     "execution_count": 250
    }
   ],
   "source": [
    "diamonds2_filter_y = diamonds2[(diamonds['y'] > 10) ]\n",
    "diamonds2_filter_y"
   ]
  },
  {
   "cell_type": "code",
   "execution_count": 251,
   "metadata": {},
   "outputs": [
    {
     "output_type": "execute_result",
     "data": {
      "text/plain": "       carat      cut color clarity  depth  table  price      x      y     z  \\\n24067   2.00  Premium     H     SI2   58.9   57.0  12210   8.09   0.00  8.06   \n25998   4.01  Premium     I      I1   61.0   61.0  15223  10.14  10.10  6.17   \n27415   5.01     Fair     J      I1   65.5   59.0  18018  10.74  10.54  6.98   \n27630   4.50     Fair     J      I1   65.8   58.0  18531  10.23  10.16  6.72   \n49189   0.51    Ideal     E     VS1   61.8   55.0   2075   5.15   0.00  5.12   \n\n       clarity_scale  color_scale  \n24067              1            2  \n25998              0            1  \n27415              0            0  \n27630              0            0  \n49189              4            5  ",
      "text/html": "<div>\n<style scoped>\n    .dataframe tbody tr th:only-of-type {\n        vertical-align: middle;\n    }\n\n    .dataframe tbody tr th {\n        vertical-align: top;\n    }\n\n    .dataframe thead th {\n        text-align: right;\n    }\n</style>\n<table border=\"1\" class=\"dataframe\">\n  <thead>\n    <tr style=\"text-align: right;\">\n      <th></th>\n      <th>carat</th>\n      <th>cut</th>\n      <th>color</th>\n      <th>clarity</th>\n      <th>depth</th>\n      <th>table</th>\n      <th>price</th>\n      <th>x</th>\n      <th>y</th>\n      <th>z</th>\n      <th>clarity_scale</th>\n      <th>color_scale</th>\n    </tr>\n  </thead>\n  <tbody>\n    <tr>\n      <th>24067</th>\n      <td>2.00</td>\n      <td>Premium</td>\n      <td>H</td>\n      <td>SI2</td>\n      <td>58.9</td>\n      <td>57.0</td>\n      <td>12210</td>\n      <td>8.09</td>\n      <td>0.00</td>\n      <td>8.06</td>\n      <td>1</td>\n      <td>2</td>\n    </tr>\n    <tr>\n      <th>25998</th>\n      <td>4.01</td>\n      <td>Premium</td>\n      <td>I</td>\n      <td>I1</td>\n      <td>61.0</td>\n      <td>61.0</td>\n      <td>15223</td>\n      <td>10.14</td>\n      <td>10.10</td>\n      <td>6.17</td>\n      <td>0</td>\n      <td>1</td>\n    </tr>\n    <tr>\n      <th>27415</th>\n      <td>5.01</td>\n      <td>Fair</td>\n      <td>J</td>\n      <td>I1</td>\n      <td>65.5</td>\n      <td>59.0</td>\n      <td>18018</td>\n      <td>10.74</td>\n      <td>10.54</td>\n      <td>6.98</td>\n      <td>0</td>\n      <td>0</td>\n    </tr>\n    <tr>\n      <th>27630</th>\n      <td>4.50</td>\n      <td>Fair</td>\n      <td>J</td>\n      <td>I1</td>\n      <td>65.8</td>\n      <td>58.0</td>\n      <td>18531</td>\n      <td>10.23</td>\n      <td>10.16</td>\n      <td>6.72</td>\n      <td>0</td>\n      <td>0</td>\n    </tr>\n    <tr>\n      <th>49189</th>\n      <td>0.51</td>\n      <td>Ideal</td>\n      <td>E</td>\n      <td>VS1</td>\n      <td>61.8</td>\n      <td>55.0</td>\n      <td>2075</td>\n      <td>5.15</td>\n      <td>0.00</td>\n      <td>5.12</td>\n      <td>4</td>\n      <td>5</td>\n    </tr>\n  </tbody>\n</table>\n</div>"
     },
     "metadata": {},
     "execution_count": 251
    }
   ],
   "source": [
    "diamonds2.loc[24067,'y']=0\n",
    "diamonds2.loc[49189,'y']=0"
   ]
  },
  {
   "cell_type": "markdown",
   "metadata": {},
   "source": [
    "We can clearly see that the 31.8 in row 49189 is an outlier for the y value. Also, we can see that the 58.9 value for `y` in row 24067 is actually its depth, so it was a mistake when they introduced the data. Let's create a function to fix these outliers.\n",
    "\n",
    "**Create a function named `calculate_y` to calculate `y` using `z` and `x` the same way you did above**"
   ]
  },
  {
   "cell_type": "code",
   "execution_count": 252,
   "metadata": {},
   "outputs": [],
   "source": [
    "def calculate_y2 (row):\n",
    "    if row['y'] > 0: \n",
    "        return row['y']\n",
    "    elif row['y'] == 0 and row['x'] != 0 and row['z'] != 0:\n",
    "        num1 = row['z']*200\n",
    "        num2 = row['x']*row['depth']\n",
    "        num3 = num1 - num2 \n",
    "        num4 = num3/row['depth']\n",
    "        return num4\n",
    "\n",
    "diamonds2['y'] = diamonds2.apply(lambda row: calculate_y2(row), axis=1)"
   ]
  },
  {
   "cell_type": "code",
   "execution_count": 254,
   "metadata": {},
   "outputs": [
    {
     "output_type": "execute_result",
     "data": {
      "text/plain": "11.41957928802589"
     },
     "metadata": {},
     "execution_count": 254
    }
   ],
   "source": [
    "var_one = diamonds2.loc[24067,'y']\n",
    "var_two = diamonds2.loc[49189,'y']"
   ]
  },
  {
   "cell_type": "markdown",
   "metadata": {},
   "source": [
    "We will check the rows that had an outlier in `y`, to check that the values were changed.\n",
    "\n",
    "**Check those rows (also validating with your function) and comment what you see**"
   ]
  },
  {
   "cell_type": "markdown",
   "metadata": {},
   "source": [
    "Now that we have corrected or dropped all of our outliers, lets plot another box plot to double check."
   ]
  },
  {
   "cell_type": "code",
   "execution_count": 255,
   "metadata": {},
   "outputs": [
    {
     "output_type": "display_data",
     "data": {
      "text/plain": "<Figure size 720x360 with 2 Axes>",
      "image/svg+xml": "<?xml version=\"1.0\" encoding=\"utf-8\" standalone=\"no\"?>\n<!DOCTYPE svg PUBLIC \"-//W3C//DTD SVG 1.1//EN\"\n  \"http://www.w3.org/Graphics/SVG/1.1/DTD/svg11.dtd\">\n<!-- Created with matplotlib (https://matplotlib.org/) -->\n<svg height=\"292.575035pt\" version=\"1.1\" viewBox=\"0 0 605.803125 292.575035\" width=\"605.803125pt\" xmlns=\"http://www.w3.org/2000/svg\" xmlns:xlink=\"http://www.w3.org/1999/xlink\">\n <defs>\n  <style type=\"text/css\">\n*{stroke-linecap:butt;stroke-linejoin:round;}\n  </style>\n </defs>\n <g id=\"figure_1\">\n  <g id=\"patch_1\">\n   <path d=\"M 0 292.575035 \nL 605.803125 292.575035 \nL 605.803125 0 \nL 0 0 \nz\n\" style=\"fill:none;\"/>\n  </g>\n  <g id=\"axes_1\">\n   <g id=\"patch_2\">\n    <path d=\"M 40.603125 281.875035 \nL 263.803125 281.875035 \nL 263.803125 10.075035 \nL 40.603125 10.075035 \nz\n\" style=\"fill:#ffffff;\"/>\n   </g>\n   <g id=\"patch_3\">\n    <path clip-path=\"url(#p1e615b5e60)\" d=\"M 62.923125 253.046095 \nL 241.483125 253.046095 \nL 241.483125 224.215904 \nL 62.923125 224.215904 \nL 62.923125 253.046095 \nz\n\" style=\"fill:#3274a1;stroke:#3f3f3f;stroke-linejoin:miter;stroke-width:1.5;\"/>\n   </g>\n   <g id=\"matplotlib.axis_1\">\n    <g id=\"xtick_1\">\n     <g id=\"line2d_1\">\n      <defs>\n       <path d=\"M 0 0 \nL 0 3.5 \n\" id=\"m167cadeb0e\" style=\"stroke:#000000;stroke-width:0.8;\"/>\n      </defs>\n      <g>\n       <use style=\"stroke:#000000;stroke-width:0.8;\" x=\"152.203125\" xlink:href=\"#m167cadeb0e\" y=\"281.875035\"/>\n      </g>\n     </g>\n    </g>\n   </g>\n   <g id=\"matplotlib.axis_2\">\n    <g id=\"ytick_1\">\n     <g id=\"line2d_2\">\n      <defs>\n       <path d=\"M 0 0 \nL -3.5 0 \n\" id=\"mcb002d69f1\" style=\"stroke:#000000;stroke-width:0.8;\"/>\n      </defs>\n      <g>\n       <use style=\"stroke:#000000;stroke-width:0.8;\" x=\"40.603125\" xlink:href=\"#mcb002d69f1\" y=\"264.451445\"/>\n      </g>\n     </g>\n     <g id=\"text_1\">\n      <!-- 4 -->\n      <defs>\n       <path d=\"M 37.796875 64.3125 \nL 12.890625 25.390625 \nL 37.796875 25.390625 \nz\nM 35.203125 72.90625 \nL 47.609375 72.90625 \nL 47.609375 25.390625 \nL 58.015625 25.390625 \nL 58.015625 17.1875 \nL 47.609375 17.1875 \nL 47.609375 0 \nL 37.796875 0 \nL 37.796875 17.1875 \nL 4.890625 17.1875 \nL 4.890625 26.703125 \nz\n\" id=\"DejaVuSans-52\"/>\n      </defs>\n      <g transform=\"translate(27.240625 268.250664)scale(0.1 -0.1)\">\n       <use xlink:href=\"#DejaVuSans-52\"/>\n      </g>\n     </g>\n    </g>\n    <g id=\"ytick_2\">\n     <g id=\"line2d_3\">\n      <g>\n       <use style=\"stroke:#000000;stroke-width:0.8;\" x=\"40.603125\" xlink:href=\"#mcb002d69f1\" y=\"232.769917\"/>\n      </g>\n     </g>\n     <g id=\"text_2\">\n      <!-- 6 -->\n      <defs>\n       <path d=\"M 33.015625 40.375 \nQ 26.375 40.375 22.484375 35.828125 \nQ 18.609375 31.296875 18.609375 23.390625 \nQ 18.609375 15.53125 22.484375 10.953125 \nQ 26.375 6.390625 33.015625 6.390625 \nQ 39.65625 6.390625 43.53125 10.953125 \nQ 47.40625 15.53125 47.40625 23.390625 \nQ 47.40625 31.296875 43.53125 35.828125 \nQ 39.65625 40.375 33.015625 40.375 \nz\nM 52.59375 71.296875 \nL 52.59375 62.3125 \nQ 48.875 64.0625 45.09375 64.984375 \nQ 41.3125 65.921875 37.59375 65.921875 \nQ 27.828125 65.921875 22.671875 59.328125 \nQ 17.53125 52.734375 16.796875 39.40625 \nQ 19.671875 43.65625 24.015625 45.921875 \nQ 28.375 48.1875 33.59375 48.1875 \nQ 44.578125 48.1875 50.953125 41.515625 \nQ 57.328125 34.859375 57.328125 23.390625 \nQ 57.328125 12.15625 50.6875 5.359375 \nQ 44.046875 -1.421875 33.015625 -1.421875 \nQ 20.359375 -1.421875 13.671875 8.265625 \nQ 6.984375 17.96875 6.984375 36.375 \nQ 6.984375 53.65625 15.1875 63.9375 \nQ 23.390625 74.21875 37.203125 74.21875 \nQ 40.921875 74.21875 44.703125 73.484375 \nQ 48.484375 72.75 52.59375 71.296875 \nz\n\" id=\"DejaVuSans-54\"/>\n      </defs>\n      <g transform=\"translate(27.240625 236.569136)scale(0.1 -0.1)\">\n       <use xlink:href=\"#DejaVuSans-54\"/>\n      </g>\n     </g>\n    </g>\n    <g id=\"ytick_3\">\n     <g id=\"line2d_4\">\n      <g>\n       <use style=\"stroke:#000000;stroke-width:0.8;\" x=\"40.603125\" xlink:href=\"#mcb002d69f1\" y=\"201.088389\"/>\n      </g>\n     </g>\n     <g id=\"text_3\">\n      <!-- 8 -->\n      <defs>\n       <path d=\"M 31.78125 34.625 \nQ 24.75 34.625 20.71875 30.859375 \nQ 16.703125 27.09375 16.703125 20.515625 \nQ 16.703125 13.921875 20.71875 10.15625 \nQ 24.75 6.390625 31.78125 6.390625 \nQ 38.8125 6.390625 42.859375 10.171875 \nQ 46.921875 13.96875 46.921875 20.515625 \nQ 46.921875 27.09375 42.890625 30.859375 \nQ 38.875 34.625 31.78125 34.625 \nz\nM 21.921875 38.8125 \nQ 15.578125 40.375 12.03125 44.71875 \nQ 8.5 49.078125 8.5 55.328125 \nQ 8.5 64.0625 14.71875 69.140625 \nQ 20.953125 74.21875 31.78125 74.21875 \nQ 42.671875 74.21875 48.875 69.140625 \nQ 55.078125 64.0625 55.078125 55.328125 \nQ 55.078125 49.078125 51.53125 44.71875 \nQ 48 40.375 41.703125 38.8125 \nQ 48.828125 37.15625 52.796875 32.3125 \nQ 56.78125 27.484375 56.78125 20.515625 \nQ 56.78125 9.90625 50.3125 4.234375 \nQ 43.84375 -1.421875 31.78125 -1.421875 \nQ 19.734375 -1.421875 13.25 4.234375 \nQ 6.78125 9.90625 6.78125 20.515625 \nQ 6.78125 27.484375 10.78125 32.3125 \nQ 14.796875 37.15625 21.921875 38.8125 \nz\nM 18.3125 54.390625 \nQ 18.3125 48.734375 21.84375 45.5625 \nQ 25.390625 42.390625 31.78125 42.390625 \nQ 38.140625 42.390625 41.71875 45.5625 \nQ 45.3125 48.734375 45.3125 54.390625 \nQ 45.3125 60.0625 41.71875 63.234375 \nQ 38.140625 66.40625 31.78125 66.40625 \nQ 25.390625 66.40625 21.84375 63.234375 \nQ 18.3125 60.0625 18.3125 54.390625 \nz\n\" id=\"DejaVuSans-56\"/>\n      </defs>\n      <g transform=\"translate(27.240625 204.887607)scale(0.1 -0.1)\">\n       <use xlink:href=\"#DejaVuSans-56\"/>\n      </g>\n     </g>\n    </g>\n    <g id=\"ytick_4\">\n     <g id=\"line2d_5\">\n      <g>\n       <use style=\"stroke:#000000;stroke-width:0.8;\" x=\"40.603125\" xlink:href=\"#mcb002d69f1\" y=\"169.40686\"/>\n      </g>\n     </g>\n     <g id=\"text_4\">\n      <!-- 10 -->\n      <defs>\n       <path d=\"M 12.40625 8.296875 \nL 28.515625 8.296875 \nL 28.515625 63.921875 \nL 10.984375 60.40625 \nL 10.984375 69.390625 \nL 28.421875 72.90625 \nL 38.28125 72.90625 \nL 38.28125 8.296875 \nL 54.390625 8.296875 \nL 54.390625 0 \nL 12.40625 0 \nz\n\" id=\"DejaVuSans-49\"/>\n       <path d=\"M 31.78125 66.40625 \nQ 24.171875 66.40625 20.328125 58.90625 \nQ 16.5 51.421875 16.5 36.375 \nQ 16.5 21.390625 20.328125 13.890625 \nQ 24.171875 6.390625 31.78125 6.390625 \nQ 39.453125 6.390625 43.28125 13.890625 \nQ 47.125 21.390625 47.125 36.375 \nQ 47.125 51.421875 43.28125 58.90625 \nQ 39.453125 66.40625 31.78125 66.40625 \nz\nM 31.78125 74.21875 \nQ 44.046875 74.21875 50.515625 64.515625 \nQ 56.984375 54.828125 56.984375 36.375 \nQ 56.984375 17.96875 50.515625 8.265625 \nQ 44.046875 -1.421875 31.78125 -1.421875 \nQ 19.53125 -1.421875 13.0625 8.265625 \nQ 6.59375 17.96875 6.59375 36.375 \nQ 6.59375 54.828125 13.0625 64.515625 \nQ 19.53125 74.21875 31.78125 74.21875 \nz\n\" id=\"DejaVuSans-48\"/>\n      </defs>\n      <g transform=\"translate(20.878125 173.206079)scale(0.1 -0.1)\">\n       <use xlink:href=\"#DejaVuSans-49\"/>\n       <use x=\"63.623047\" xlink:href=\"#DejaVuSans-48\"/>\n      </g>\n     </g>\n    </g>\n    <g id=\"ytick_5\">\n     <g id=\"line2d_6\">\n      <g>\n       <use style=\"stroke:#000000;stroke-width:0.8;\" x=\"40.603125\" xlink:href=\"#mcb002d69f1\" y=\"137.725332\"/>\n      </g>\n     </g>\n     <g id=\"text_5\">\n      <!-- 12 -->\n      <defs>\n       <path d=\"M 19.1875 8.296875 \nL 53.609375 8.296875 \nL 53.609375 0 \nL 7.328125 0 \nL 7.328125 8.296875 \nQ 12.9375 14.109375 22.625 23.890625 \nQ 32.328125 33.6875 34.8125 36.53125 \nQ 39.546875 41.84375 41.421875 45.53125 \nQ 43.3125 49.21875 43.3125 52.78125 \nQ 43.3125 58.59375 39.234375 62.25 \nQ 35.15625 65.921875 28.609375 65.921875 \nQ 23.96875 65.921875 18.8125 64.3125 \nQ 13.671875 62.703125 7.8125 59.421875 \nL 7.8125 69.390625 \nQ 13.765625 71.78125 18.9375 73 \nQ 24.125 74.21875 28.421875 74.21875 \nQ 39.75 74.21875 46.484375 68.546875 \nQ 53.21875 62.890625 53.21875 53.421875 \nQ 53.21875 48.921875 51.53125 44.890625 \nQ 49.859375 40.875 45.40625 35.40625 \nQ 44.1875 33.984375 37.640625 27.21875 \nQ 31.109375 20.453125 19.1875 8.296875 \nz\n\" id=\"DejaVuSans-50\"/>\n      </defs>\n      <g transform=\"translate(20.878125 141.524551)scale(0.1 -0.1)\">\n       <use xlink:href=\"#DejaVuSans-49\"/>\n       <use x=\"63.623047\" xlink:href=\"#DejaVuSans-50\"/>\n      </g>\n     </g>\n    </g>\n    <g id=\"ytick_6\">\n     <g id=\"line2d_7\">\n      <g>\n       <use style=\"stroke:#000000;stroke-width:0.8;\" x=\"40.603125\" xlink:href=\"#mcb002d69f1\" y=\"106.043804\"/>\n      </g>\n     </g>\n     <g id=\"text_6\">\n      <!-- 14 -->\n      <g transform=\"translate(20.878125 109.843022)scale(0.1 -0.1)\">\n       <use xlink:href=\"#DejaVuSans-49\"/>\n       <use x=\"63.623047\" xlink:href=\"#DejaVuSans-52\"/>\n      </g>\n     </g>\n    </g>\n    <g id=\"ytick_7\">\n     <g id=\"line2d_8\">\n      <g>\n       <use style=\"stroke:#000000;stroke-width:0.8;\" x=\"40.603125\" xlink:href=\"#mcb002d69f1\" y=\"74.362275\"/>\n      </g>\n     </g>\n     <g id=\"text_7\">\n      <!-- 16 -->\n      <g transform=\"translate(20.878125 78.161494)scale(0.1 -0.1)\">\n       <use xlink:href=\"#DejaVuSans-49\"/>\n       <use x=\"63.623047\" xlink:href=\"#DejaVuSans-54\"/>\n      </g>\n     </g>\n    </g>\n    <g id=\"ytick_8\">\n     <g id=\"line2d_9\">\n      <g>\n       <use style=\"stroke:#000000;stroke-width:0.8;\" x=\"40.603125\" xlink:href=\"#mcb002d69f1\" y=\"42.680747\"/>\n      </g>\n     </g>\n     <g id=\"text_8\">\n      <!-- 18 -->\n      <g transform=\"translate(20.878125 46.479966)scale(0.1 -0.1)\">\n       <use xlink:href=\"#DejaVuSans-49\"/>\n       <use x=\"63.623047\" xlink:href=\"#DejaVuSans-56\"/>\n      </g>\n     </g>\n    </g>\n    <g id=\"ytick_9\">\n     <g id=\"line2d_10\">\n      <g>\n       <use style=\"stroke:#000000;stroke-width:0.8;\" x=\"40.603125\" xlink:href=\"#mcb002d69f1\" y=\"10.999219\"/>\n      </g>\n     </g>\n     <g id=\"text_9\">\n      <!-- 20 -->\n      <g transform=\"translate(20.878125 14.798438)scale(0.1 -0.1)\">\n       <use xlink:href=\"#DejaVuSans-50\"/>\n       <use x=\"63.623047\" xlink:href=\"#DejaVuSans-48\"/>\n      </g>\n     </g>\n    </g>\n    <g id=\"text_10\">\n     <!-- y -->\n     <defs>\n      <path d=\"M 32.171875 -5.078125 \nQ 28.375 -14.84375 24.75 -17.8125 \nQ 21.140625 -20.796875 15.09375 -20.796875 \nL 7.90625 -20.796875 \nL 7.90625 -13.28125 \nL 13.1875 -13.28125 \nQ 16.890625 -13.28125 18.9375 -11.515625 \nQ 21 -9.765625 23.484375 -3.21875 \nL 25.09375 0.875 \nL 2.984375 54.6875 \nL 12.5 54.6875 \nL 29.59375 11.921875 \nL 46.6875 54.6875 \nL 56.203125 54.6875 \nz\n\" id=\"DejaVuSans-121\"/>\n     </defs>\n     <g transform=\"translate(14.798437 148.93441)rotate(-90)scale(0.1 -0.1)\">\n      <use xlink:href=\"#DejaVuSans-121\"/>\n     </g>\n    </g>\n   </g>\n   <g id=\"line2d_11\">\n    <path clip-path=\"url(#p1e615b5e60)\" d=\"M 152.203125 253.046095 \nL 152.203125 269.52049 \n\" style=\"fill:none;stroke:#3f3f3f;stroke-linecap:square;stroke-width:1.5;\"/>\n   </g>\n   <g id=\"line2d_12\">\n    <path clip-path=\"url(#p1e615b5e60)\" d=\"M 152.203125 224.215904 \nL 152.203125 181.129026 \n\" style=\"fill:none;stroke:#3f3f3f;stroke-linecap:square;stroke-width:1.5;\"/>\n   </g>\n   <g id=\"line2d_13\">\n    <path clip-path=\"url(#p1e615b5e60)\" d=\"M 107.563125 269.52049 \nL 196.843125 269.52049 \n\" style=\"fill:none;stroke:#3f3f3f;stroke-linecap:square;stroke-width:1.5;\"/>\n   </g>\n   <g id=\"line2d_14\">\n    <path clip-path=\"url(#p1e615b5e60)\" d=\"M 107.563125 181.129026 \nL 196.843125 181.129026 \n\" style=\"fill:none;stroke:#3f3f3f;stroke-linecap:square;stroke-width:1.5;\"/>\n   </g>\n   <g id=\"line2d_15\">\n    <defs>\n     <path d=\"M -0 3.535534 \nL 2.12132 0 \nL -0 -3.535534 \nL -2.12132 -0 \nz\n\" id=\"mf564ebb070\" style=\"stroke:#3f3f3f;stroke-linejoin:miter;\"/>\n    </defs>\n    <g clip-path=\"url(#p1e615b5e60)\">\n     <use style=\"fill:#3f3f3f;stroke:#3f3f3f;stroke-linejoin:miter;\" x=\"152.203125\" xlink:href=\"#mf564ebb070\" y=\"179.228134\"/>\n     <use style=\"fill:#3f3f3f;stroke:#3f3f3f;stroke-linejoin:miter;\" x=\"152.203125\" xlink:href=\"#mf564ebb070\" y=\"180.336988\"/>\n     <use style=\"fill:#3f3f3f;stroke:#3f3f3f;stroke-linejoin:miter;\" x=\"152.203125\" xlink:href=\"#mf564ebb070\" y=\"177.644058\"/>\n     <use style=\"fill:#3f3f3f;stroke:#3f3f3f;stroke-linejoin:miter;\" x=\"152.203125\" xlink:href=\"#mf564ebb070\" y=\"22.429581\"/>\n     <use style=\"fill:#3f3f3f;stroke:#3f3f3f;stroke-linejoin:miter;\" x=\"152.203125\" xlink:href=\"#mf564ebb070\" y=\"178.911319\"/>\n     <use style=\"fill:#3f3f3f;stroke:#3f3f3f;stroke-linejoin:miter;\" x=\"152.203125\" xlink:href=\"#mf564ebb070\" y=\"178.594504\"/>\n     <use style=\"fill:#3f3f3f;stroke:#3f3f3f;stroke-linejoin:miter;\" x=\"152.203125\" xlink:href=\"#mf564ebb070\" y=\"175.901574\"/>\n     <use style=\"fill:#3f3f3f;stroke:#3f3f3f;stroke-linejoin:miter;\" x=\"152.203125\" xlink:href=\"#mf564ebb070\" y=\"179.386542\"/>\n     <use style=\"fill:#3f3f3f;stroke:#3f3f3f;stroke-linejoin:miter;\" x=\"152.203125\" xlink:href=\"#mf564ebb070\" y=\"167.822784\"/>\n     <use style=\"fill:#3f3f3f;stroke:#3f3f3f;stroke-linejoin:miter;\" x=\"152.203125\" xlink:href=\"#mf564ebb070\" y=\"170.357306\"/>\n     <use style=\"fill:#3f3f3f;stroke:#3f3f3f;stroke-linejoin:miter;\" x=\"152.203125\" xlink:href=\"#mf564ebb070\" y=\"179.861765\"/>\n     <use style=\"fill:#3f3f3f;stroke:#3f3f3f;stroke-linejoin:miter;\" x=\"152.203125\" xlink:href=\"#mf564ebb070\" y=\"170.357306\"/>\n     <use style=\"fill:#3f3f3f;stroke:#3f3f3f;stroke-linejoin:miter;\" x=\"152.203125\" xlink:href=\"#mf564ebb070\" y=\"172.416605\"/>\n     <use style=\"fill:#3f3f3f;stroke:#3f3f3f;stroke-linejoin:miter;\" x=\"152.203125\" xlink:href=\"#mf564ebb070\" y=\"171.782975\"/>\n     <use style=\"fill:#3f3f3f;stroke:#3f3f3f;stroke-linejoin:miter;\" x=\"152.203125\" xlink:href=\"#mf564ebb070\" y=\"160.852848\"/>\n     <use style=\"fill:#3f3f3f;stroke:#3f3f3f;stroke-linejoin:miter;\" x=\"152.203125\" xlink:href=\"#mf564ebb070\" y=\"180.336988\"/>\n     <use style=\"fill:#3f3f3f;stroke:#3f3f3f;stroke-linejoin:miter;\" x=\"152.203125\" xlink:href=\"#mf564ebb070\" y=\"166.872338\"/>\n     <use style=\"fill:#3f3f3f;stroke:#3f3f3f;stroke-linejoin:miter;\" x=\"152.203125\" xlink:href=\"#mf564ebb070\" y=\"177.960873\"/>\n     <use style=\"fill:#3f3f3f;stroke:#3f3f3f;stroke-linejoin:miter;\" x=\"152.203125\" xlink:href=\"#mf564ebb070\" y=\"179.228134\"/>\n     <use style=\"fill:#3f3f3f;stroke:#3f3f3f;stroke-linejoin:miter;\" x=\"152.203125\" xlink:href=\"#mf564ebb070\" y=\"175.267943\"/>\n     <use style=\"fill:#3f3f3f;stroke:#3f3f3f;stroke-linejoin:miter;\" x=\"152.203125\" xlink:href=\"#mf564ebb070\" y=\"180.17858\"/>\n     <use style=\"fill:#3f3f3f;stroke:#3f3f3f;stroke-linejoin:miter;\" x=\"152.203125\" xlink:href=\"#mf564ebb070\" y=\"146.91964\"/>\n    </g>\n   </g>\n   <g id=\"line2d_16\">\n    <path clip-path=\"url(#p1e615b5e60)\" d=\"M 62.923125 237.363739 \nL 241.483125 237.363739 \n\" style=\"fill:none;stroke:#3f3f3f;stroke-linecap:square;stroke-width:1.5;\"/>\n   </g>\n   <g id=\"patch_4\">\n    <path d=\"M 40.603125 281.875035 \nL 40.603125 10.075035 \n\" style=\"fill:none;stroke:#000000;stroke-linecap:square;stroke-linejoin:miter;stroke-width:0.8;\"/>\n   </g>\n   <g id=\"patch_5\">\n    <path d=\"M 263.803125 281.875035 \nL 263.803125 10.075035 \n\" style=\"fill:none;stroke:#000000;stroke-linecap:square;stroke-linejoin:miter;stroke-width:0.8;\"/>\n   </g>\n   <g id=\"patch_6\">\n    <path d=\"M 40.603125 281.875035 \nL 263.803125 281.875035 \n\" style=\"fill:none;stroke:#000000;stroke-linecap:square;stroke-linejoin:miter;stroke-width:0.8;\"/>\n   </g>\n   <g id=\"patch_7\">\n    <path d=\"M 40.603125 10.075035 \nL 263.803125 10.075035 \n\" style=\"fill:none;stroke:#000000;stroke-linecap:square;stroke-linejoin:miter;stroke-width:0.8;\"/>\n   </g>\n  </g>\n  <g id=\"axes_2\">\n   <g id=\"patch_8\">\n    <path d=\"M 375.403125 281.875035 \nL 598.603125 281.875035 \nL 598.603125 10.075035 \nL 375.403125 10.075035 \nz\n\" style=\"fill:#ffffff;\"/>\n   </g>\n   <g id=\"patch_9\">\n    <path clip-path=\"url(#pa0724e7459)\" d=\"M 397.723125 204.477961 \nL 576.283125 204.477961 \nL 576.283125 164.533365 \nL 397.723125 164.533365 \nL 397.723125 204.477961 \nz\n\" style=\"fill:#3274a1;stroke:#3f3f3f;stroke-linejoin:miter;stroke-width:1.5;\"/>\n   </g>\n   <g id=\"matplotlib.axis_3\">\n    <g id=\"xtick_2\">\n     <g id=\"line2d_17\">\n      <g>\n       <use style=\"stroke:#000000;stroke-width:0.8;\" x=\"487.003125\" xlink:href=\"#m167cadeb0e\" y=\"281.875035\"/>\n      </g>\n     </g>\n    </g>\n   </g>\n   <g id=\"matplotlib.axis_4\">\n    <g id=\"ytick_10\">\n     <g id=\"line2d_18\">\n      <g>\n       <use style=\"stroke:#000000;stroke-width:0.8;\" x=\"375.403125\" xlink:href=\"#mcb002d69f1\" y=\"271.994934\"/>\n      </g>\n     </g>\n     <g id=\"text_11\">\n      <!-- 1 -->\n      <g transform=\"translate(362.040625 275.794153)scale(0.1 -0.1)\">\n       <use xlink:href=\"#DejaVuSans-49\"/>\n      </g>\n     </g>\n    </g>\n    <g id=\"ytick_11\">\n     <g id=\"line2d_19\">\n      <g>\n       <use style=\"stroke:#000000;stroke-width:0.8;\" x=\"375.403125\" xlink:href=\"#mcb002d69f1\" y=\"236.645734\"/>\n      </g>\n     </g>\n     <g id=\"text_12\">\n      <!-- 2 -->\n      <g transform=\"translate(362.040625 240.444952)scale(0.1 -0.1)\">\n       <use xlink:href=\"#DejaVuSans-50\"/>\n      </g>\n     </g>\n    </g>\n    <g id=\"ytick_12\">\n     <g id=\"line2d_20\">\n      <g>\n       <use style=\"stroke:#000000;stroke-width:0.8;\" x=\"375.403125\" xlink:href=\"#mcb002d69f1\" y=\"201.296533\"/>\n      </g>\n     </g>\n     <g id=\"text_13\">\n      <!-- 3 -->\n      <defs>\n       <path d=\"M 40.578125 39.3125 \nQ 47.65625 37.796875 51.625 33 \nQ 55.609375 28.21875 55.609375 21.1875 \nQ 55.609375 10.40625 48.1875 4.484375 \nQ 40.765625 -1.421875 27.09375 -1.421875 \nQ 22.515625 -1.421875 17.65625 -0.515625 \nQ 12.796875 0.390625 7.625 2.203125 \nL 7.625 11.71875 \nQ 11.71875 9.328125 16.59375 8.109375 \nQ 21.484375 6.890625 26.8125 6.890625 \nQ 36.078125 6.890625 40.9375 10.546875 \nQ 45.796875 14.203125 45.796875 21.1875 \nQ 45.796875 27.640625 41.28125 31.265625 \nQ 36.765625 34.90625 28.71875 34.90625 \nL 20.21875 34.90625 \nL 20.21875 43.015625 \nL 29.109375 43.015625 \nQ 36.375 43.015625 40.234375 45.921875 \nQ 44.09375 48.828125 44.09375 54.296875 \nQ 44.09375 59.90625 40.109375 62.90625 \nQ 36.140625 65.921875 28.71875 65.921875 \nQ 24.65625 65.921875 20.015625 65.03125 \nQ 15.375 64.15625 9.8125 62.3125 \nL 9.8125 71.09375 \nQ 15.4375 72.65625 20.34375 73.4375 \nQ 25.25 74.21875 29.59375 74.21875 \nQ 40.828125 74.21875 47.359375 69.109375 \nQ 53.90625 64.015625 53.90625 55.328125 \nQ 53.90625 49.265625 50.4375 45.09375 \nQ 46.96875 40.921875 40.578125 39.3125 \nz\n\" id=\"DejaVuSans-51\"/>\n      </defs>\n      <g transform=\"translate(362.040625 205.095752)scale(0.1 -0.1)\">\n       <use xlink:href=\"#DejaVuSans-51\"/>\n      </g>\n     </g>\n    </g>\n    <g id=\"ytick_13\">\n     <g id=\"line2d_21\">\n      <g>\n       <use style=\"stroke:#000000;stroke-width:0.8;\" x=\"375.403125\" xlink:href=\"#mcb002d69f1\" y=\"165.947333\"/>\n      </g>\n     </g>\n     <g id=\"text_14\">\n      <!-- 4 -->\n      <g transform=\"translate(362.040625 169.746552)scale(0.1 -0.1)\">\n       <use xlink:href=\"#DejaVuSans-52\"/>\n      </g>\n     </g>\n    </g>\n    <g id=\"ytick_14\">\n     <g id=\"line2d_22\">\n      <g>\n       <use style=\"stroke:#000000;stroke-width:0.8;\" x=\"375.403125\" xlink:href=\"#mcb002d69f1\" y=\"130.598133\"/>\n      </g>\n     </g>\n     <g id=\"text_15\">\n      <!-- 5 -->\n      <defs>\n       <path d=\"M 10.796875 72.90625 \nL 49.515625 72.90625 \nL 49.515625 64.59375 \nL 19.828125 64.59375 \nL 19.828125 46.734375 \nQ 21.96875 47.46875 24.109375 47.828125 \nQ 26.265625 48.1875 28.421875 48.1875 \nQ 40.625 48.1875 47.75 41.5 \nQ 54.890625 34.8125 54.890625 23.390625 \nQ 54.890625 11.625 47.5625 5.09375 \nQ 40.234375 -1.421875 26.90625 -1.421875 \nQ 22.3125 -1.421875 17.546875 -0.640625 \nQ 12.796875 0.140625 7.71875 1.703125 \nL 7.71875 11.625 \nQ 12.109375 9.234375 16.796875 8.0625 \nQ 21.484375 6.890625 26.703125 6.890625 \nQ 35.15625 6.890625 40.078125 11.328125 \nQ 45.015625 15.765625 45.015625 23.390625 \nQ 45.015625 31 40.078125 35.4375 \nQ 35.15625 39.890625 26.703125 39.890625 \nQ 22.75 39.890625 18.8125 39.015625 \nQ 14.890625 38.140625 10.796875 36.28125 \nz\n\" id=\"DejaVuSans-53\"/>\n      </defs>\n      <g transform=\"translate(362.040625 134.397352)scale(0.1 -0.1)\">\n       <use xlink:href=\"#DejaVuSans-53\"/>\n      </g>\n     </g>\n    </g>\n    <g id=\"ytick_15\">\n     <g id=\"line2d_23\">\n      <g>\n       <use style=\"stroke:#000000;stroke-width:0.8;\" x=\"375.403125\" xlink:href=\"#mcb002d69f1\" y=\"95.248933\"/>\n      </g>\n     </g>\n     <g id=\"text_16\">\n      <!-- 6 -->\n      <g transform=\"translate(362.040625 99.048152)scale(0.1 -0.1)\">\n       <use xlink:href=\"#DejaVuSans-54\"/>\n      </g>\n     </g>\n    </g>\n    <g id=\"ytick_16\">\n     <g id=\"line2d_24\">\n      <g>\n       <use style=\"stroke:#000000;stroke-width:0.8;\" x=\"375.403125\" xlink:href=\"#mcb002d69f1\" y=\"59.899733\"/>\n      </g>\n     </g>\n     <g id=\"text_17\">\n      <!-- 7 -->\n      <defs>\n       <path d=\"M 8.203125 72.90625 \nL 55.078125 72.90625 \nL 55.078125 68.703125 \nL 28.609375 0 \nL 18.3125 0 \nL 43.21875 64.59375 \nL 8.203125 64.59375 \nz\n\" id=\"DejaVuSans-55\"/>\n      </defs>\n      <g transform=\"translate(362.040625 63.698952)scale(0.1 -0.1)\">\n       <use xlink:href=\"#DejaVuSans-55\"/>\n      </g>\n     </g>\n    </g>\n    <g id=\"ytick_17\">\n     <g id=\"line2d_25\">\n      <g>\n       <use style=\"stroke:#000000;stroke-width:0.8;\" x=\"375.403125\" xlink:href=\"#mcb002d69f1\" y=\"24.550533\"/>\n      </g>\n     </g>\n     <g id=\"text_18\">\n      <!-- 8 -->\n      <g transform=\"translate(362.040625 28.349751)scale(0.1 -0.1)\">\n       <use xlink:href=\"#DejaVuSans-56\"/>\n      </g>\n     </g>\n    </g>\n    <g id=\"text_19\">\n     <!-- z -->\n     <defs>\n      <path d=\"M 5.515625 54.6875 \nL 48.1875 54.6875 \nL 48.1875 46.484375 \nL 14.40625 7.171875 \nL 48.1875 7.171875 \nL 48.1875 0 \nL 4.296875 0 \nL 4.296875 8.203125 \nL 38.09375 47.515625 \nL 5.515625 47.515625 \nz\n\" id=\"DejaVuSans-122\"/>\n     </defs>\n     <g transform=\"translate(355.960937 148.599254)rotate(-90)scale(0.1 -0.1)\">\n      <use xlink:href=\"#DejaVuSans-122\"/>\n     </g>\n    </g>\n   </g>\n   <g id=\"line2d_26\">\n    <path clip-path=\"url(#pa0724e7459)\" d=\"M 487.003125 204.477961 \nL 487.003125 257.501762 \n\" style=\"fill:none;stroke:#3f3f3f;stroke-linecap:square;stroke-width:1.5;\"/>\n   </g>\n   <g id=\"line2d_27\">\n    <path clip-path=\"url(#pa0724e7459)\" d=\"M 487.003125 164.533365 \nL 487.003125 104.793217 \n\" style=\"fill:none;stroke:#3f3f3f;stroke-linecap:square;stroke-width:1.5;\"/>\n   </g>\n   <g id=\"line2d_28\">\n    <path clip-path=\"url(#pa0724e7459)\" d=\"M 442.363125 257.501762 \nL 531.643125 257.501762 \n\" style=\"fill:none;stroke:#3f3f3f;stroke-linecap:square;stroke-width:1.5;\"/>\n   </g>\n   <g id=\"line2d_29\">\n    <path clip-path=\"url(#pa0724e7459)\" d=\"M 442.363125 104.793217 \nL 531.643125 104.793217 \n\" style=\"fill:none;stroke:#3f3f3f;stroke-linecap:square;stroke-width:1.5;\"/>\n   </g>\n   <g id=\"line2d_30\">\n    <g clip-path=\"url(#pa0724e7459)\">\n     <use style=\"fill:#3f3f3f;stroke:#3f3f3f;stroke-linejoin:miter;\" x=\"487.003125\" xlink:href=\"#mf564ebb070\" y=\"269.52049\"/>\n     <use style=\"fill:#3f3f3f;stroke:#3f3f3f;stroke-linejoin:miter;\" x=\"487.003125\" xlink:href=\"#mf564ebb070\" y=\"103.379249\"/>\n     <use style=\"fill:#3f3f3f;stroke:#3f3f3f;stroke-linejoin:miter;\" x=\"487.003125\" xlink:href=\"#mf564ebb070\" y=\"103.732741\"/>\n     <use style=\"fill:#3f3f3f;stroke:#3f3f3f;stroke-linejoin:miter;\" x=\"487.003125\" xlink:href=\"#mf564ebb070\" y=\"96.309409\"/>\n     <use style=\"fill:#3f3f3f;stroke:#3f3f3f;stroke-linejoin:miter;\" x=\"487.003125\" xlink:href=\"#mf564ebb070\" y=\"95.955917\"/>\n     <use style=\"fill:#3f3f3f;stroke:#3f3f3f;stroke-linejoin:miter;\" x=\"487.003125\" xlink:href=\"#mf564ebb070\" y=\"98.430361\"/>\n     <use style=\"fill:#3f3f3f;stroke:#3f3f3f;stroke-linejoin:miter;\" x=\"487.003125\" xlink:href=\"#mf564ebb070\" y=\"102.672265\"/>\n     <use style=\"fill:#3f3f3f;stroke:#3f3f3f;stroke-linejoin:miter;\" x=\"487.003125\" xlink:href=\"#mf564ebb070\" y=\"81.816237\"/>\n     <use style=\"fill:#3f3f3f;stroke:#3f3f3f;stroke-linejoin:miter;\" x=\"487.003125\" xlink:href=\"#mf564ebb070\" y=\"22.429581\"/>\n     <use style=\"fill:#3f3f3f;stroke:#3f3f3f;stroke-linejoin:miter;\" x=\"487.003125\" xlink:href=\"#mf564ebb070\" y=\"100.551313\"/>\n     <use style=\"fill:#3f3f3f;stroke:#3f3f3f;stroke-linejoin:miter;\" x=\"487.003125\" xlink:href=\"#mf564ebb070\" y=\"98.076869\"/>\n     <use style=\"fill:#3f3f3f;stroke:#3f3f3f;stroke-linejoin:miter;\" x=\"487.003125\" xlink:href=\"#mf564ebb070\" y=\"94.188457\"/>\n     <use style=\"fill:#3f3f3f;stroke:#3f3f3f;stroke-linejoin:miter;\" x=\"487.003125\" xlink:href=\"#mf564ebb070\" y=\"89.239569\"/>\n     <use style=\"fill:#3f3f3f;stroke:#3f3f3f;stroke-linejoin:miter;\" x=\"487.003125\" xlink:href=\"#mf564ebb070\" y=\"86.765125\"/>\n     <use style=\"fill:#3f3f3f;stroke:#3f3f3f;stroke-linejoin:miter;\" x=\"487.003125\" xlink:href=\"#mf564ebb070\" y=\"104.086233\"/>\n     <use style=\"fill:#3f3f3f;stroke:#3f3f3f;stroke-linejoin:miter;\" x=\"487.003125\" xlink:href=\"#mf564ebb070\" y=\"89.593061\"/>\n     <use style=\"fill:#3f3f3f;stroke:#3f3f3f;stroke-linejoin:miter;\" x=\"487.003125\" xlink:href=\"#mf564ebb070\" y=\"85.704649\"/>\n     <use style=\"fill:#3f3f3f;stroke:#3f3f3f;stroke-linejoin:miter;\" x=\"487.003125\" xlink:href=\"#mf564ebb070\" y=\"84.290681\"/>\n     <use style=\"fill:#3f3f3f;stroke:#3f3f3f;stroke-linejoin:miter;\" x=\"487.003125\" xlink:href=\"#mf564ebb070\" y=\"90.653537\"/>\n     <use style=\"fill:#3f3f3f;stroke:#3f3f3f;stroke-linejoin:miter;\" x=\"487.003125\" xlink:href=\"#mf564ebb070\" y=\"100.197821\"/>\n     <use style=\"fill:#3f3f3f;stroke:#3f3f3f;stroke-linejoin:miter;\" x=\"487.003125\" xlink:href=\"#mf564ebb070\" y=\"80.048777\"/>\n     <use style=\"fill:#3f3f3f;stroke:#3f3f3f;stroke-linejoin:miter;\" x=\"487.003125\" xlink:href=\"#mf564ebb070\" y=\"60.606717\"/>\n     <use style=\"fill:#3f3f3f;stroke:#3f3f3f;stroke-linejoin:miter;\" x=\"487.003125\" xlink:href=\"#mf564ebb070\" y=\"98.783853\"/>\n     <use style=\"fill:#3f3f3f;stroke:#3f3f3f;stroke-linejoin:miter;\" x=\"487.003125\" xlink:href=\"#mf564ebb070\" y=\"98.783853\"/>\n     <use style=\"fill:#3f3f3f;stroke:#3f3f3f;stroke-linejoin:miter;\" x=\"487.003125\" xlink:href=\"#mf564ebb070\" y=\"103.379249\"/>\n     <use style=\"fill:#3f3f3f;stroke:#3f3f3f;stroke-linejoin:miter;\" x=\"487.003125\" xlink:href=\"#mf564ebb070\" y=\"103.379249\"/>\n     <use style=\"fill:#3f3f3f;stroke:#3f3f3f;stroke-linejoin:miter;\" x=\"487.003125\" xlink:href=\"#mf564ebb070\" y=\"69.797509\"/>\n     <use style=\"fill:#3f3f3f;stroke:#3f3f3f;stroke-linejoin:miter;\" x=\"487.003125\" xlink:href=\"#mf564ebb070\" y=\"94.188457\"/>\n    </g>\n   </g>\n   <g id=\"line2d_31\">\n    <path clip-path=\"url(#pa0724e7459)\" d=\"M 397.723125 182.561457 \nL 576.283125 182.561457 \n\" style=\"fill:none;stroke:#3f3f3f;stroke-linecap:square;stroke-width:1.5;\"/>\n   </g>\n   <g id=\"patch_10\">\n    <path d=\"M 375.403125 281.875035 \nL 375.403125 10.075035 \n\" style=\"fill:none;stroke:#000000;stroke-linecap:square;stroke-linejoin:miter;stroke-width:0.8;\"/>\n   </g>\n   <g id=\"patch_11\">\n    <path d=\"M 598.603125 281.875035 \nL 598.603125 10.075035 \n\" style=\"fill:none;stroke:#000000;stroke-linecap:square;stroke-linejoin:miter;stroke-width:0.8;\"/>\n   </g>\n   <g id=\"patch_12\">\n    <path d=\"M 375.403125 281.875035 \nL 598.603125 281.875035 \n\" style=\"fill:none;stroke:#000000;stroke-linecap:square;stroke-linejoin:miter;stroke-width:0.8;\"/>\n   </g>\n   <g id=\"patch_13\">\n    <path d=\"M 375.403125 10.075035 \nL 598.603125 10.075035 \n\" style=\"fill:none;stroke:#000000;stroke-linecap:square;stroke-linejoin:miter;stroke-width:0.8;\"/>\n   </g>\n  </g>\n </g>\n <defs>\n  <clipPath id=\"p1e615b5e60\">\n   <rect height=\"271.8\" width=\"223.2\" x=\"40.603125\" y=\"10.075035\"/>\n  </clipPath>\n  <clipPath id=\"pa0724e7459\">\n   <rect height=\"271.8\" width=\"223.2\" x=\"375.403125\" y=\"10.075035\"/>\n  </clipPath>\n </defs>\n</svg>\n",
      "image/png": "[encoded data removed]"
     },
     "metadata": {
      "needs_background": "light"
     }
    }
   ],
   "source": [
    "#Run this code\n",
    "fig, ax = plt.subplots(1,2, figsize=(10, 5))\n",
    "sns.boxplot(y=diamonds2.y, ax=ax[0])\n",
    "sns.boxplot(y=diamonds2.z, ax=ax[1])\n",
    "plt.subplots_adjust(wspace=0.5)"
   ]
  },
  {
   "cell_type": "markdown",
   "metadata": {},
   "source": [
    "**What do you think? Are these values more reasonable?**\n"
   ]
  },
  {
   "cell_type": "code",
   "execution_count": null,
   "metadata": {},
   "outputs": [],
   "source": [
    "#Indeed it make more sense and the readability is better than in the previous. \n",
    "#We can see more clear through the dataset and se better the distribution. \n",
    "#Personally I would choose for another boxplot that have better readability. (Pxplot)"
   ]
  },
  {
   "cell_type": "markdown",
   "metadata": {},
   "source": [
    "**Once you are happy with your cleaning, save the cleaned data and continue to csv. Your new csv should be named ``diamonds_clean``**"
   ]
  },
  {
   "cell_type": "code",
   "execution_count": null,
   "metadata": {},
   "outputs": [],
   "source": [
    "#your code here"
   ]
  }
 ],
 "metadata": {
  "kernelspec": {
   "display_name": "Python 3",
   "language": "python",
   "name": "python3"
  },
  "language_info": {
   "codemirror_mode": {
    "name": "ipython",
    "version": 3
   },
   "file_extension": ".py",
   "mimetype": "text/x-python",
   "name": "python",
   "nbconvert_exporter": "python",
   "pygments_lexer": "ipython3",
   "version": "3.7.6-final"
  }
 },
 "nbformat": 4,
 "nbformat_minor": 2
}