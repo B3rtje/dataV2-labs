{
 "cells": [
  {
   "cell_type": "markdown",
   "metadata": {},
   "source": [
    "# Inferential statistics\n",
    "## Part I - Data Cleaning\n",
    "\n",
    "Your family is very passionate about basketball. You always have discussions over players, games, statistics and whatnot. As you can imagine those discussions never reach a conclusion since everyone is simply sharing their opinion with no statistics to back them up!\n",
    "\n",
    "![](../images/basket.jpg)\n",
    "\n",
    "Since you are attending a data analysis bootcamp you'd like to take advantage of your newfound knowledge to finally put an end to your family's discussions. \n",
    "\n",
    "Luckily we have found a dataset containing data related to the players of the WNBA for the 2016-2017 season that we can use. \n",
    "\n",
    "Let's start with cleaning the data and then we'll continue with a general exploratory analysis and some inferential statistics.\n",
    "\n",
    "### Dataset\n",
    "\n",
    "The dataset we will be using contains the statistics from the WNBA players for the 2016-2017 season. You will be able to find more information on the dataset in the [codebook](../data/codebook.md) uploaded to the repository.\n",
    "\n",
    "### Libraries\n",
    "\n",
    "First we'll import the necessary libraries first and increase the maximum number of displayed columns so you will be able to see all the dataset in the same window."
   ]
  },
  {
   "cell_type": "code",
   "execution_count": 1,
   "metadata": {},
   "outputs": [],
   "source": [
    "import pandas as pd\n",
    "pd.set_option('max_columns', 100)"
   ]
  },
  {
   "cell_type": "markdown",
   "metadata": {},
   "source": [
    "### Load the dataset\n",
    "\n",
    "Load the dataset into a df called `wnba` and take an initial look at it using the `head()` method."
   ]
  },
  {
   "cell_type": "code",
   "execution_count": 2,
   "metadata": {},
   "outputs": [
    {
     "output_type": "execute_result",
     "data": {
      "text/plain": "                 Name Team  Pos  Height  Weight        BMI Birth_Place  \\\n0       Aerial Powers  DAL    F     183    71.0  21.200991          US   \n1         Alana Beard   LA  G/F     185    73.0  21.329438          US   \n2        Alex Bentley  CON    G     170    69.0  23.875433          US   \n3     Alex Montgomery  SAN  G/F     185    84.0  24.543462          US   \n4        Alexis Jones  MIN    G     175    78.0  25.469388          US   \n5     Alexis Peterson  SEA    G     170    63.0  21.799308          US   \n6       Alexis Prince  PHO    G     188    81.0  22.917610          US   \n7       Allie Quigley  CHI    G     178    64.0  20.199470          US   \n8        Allisha Gray  DAL    G     185    76.0  22.205990          US   \n9   Allison Hightower  WAS    G     178    77.0  24.302487          US   \n10       Alysha Clark  SEA    F     180    76.0  23.456790          US   \n11      Alyssa Thomas  CON    F     188    84.0  23.766410          US   \n12    Amanda Zahui B.   NY    C     196   113.0  29.414827          SE   \n13       Amber Harris  CHI    F     196    88.0  22.907122          US   \n14       Aneika Henry  ATL  F/C     193    87.0  23.356332          JM   \n15     Angel Robinson  PHO  F/C     198    88.0  22.446689          US   \n16        Asia Taylor  WAS    F     185    76.0  22.205990          US   \n17    Bashaara Graves  CHI    F     188    91.0  25.746944          US   \n18      Breanna Lewis  DAL    C     196    93.0  24.208663          US   \n19    Breanna Stewart  SEA  F/C     193    77.0  20.671696          US   \n\n            Birthdate  Age           College Experience  Games Played  MIN  \\\n0    January 17, 1994   23    Michigan State          2             8  173   \n1        May 14, 1982   35              Duke         12            30  947   \n2    October 27, 1990   26        Penn State          4            26  617   \n3   December 11, 1988   28      Georgia Tech          6            31  721   \n4      August 5, 1994   23            Baylor          R            24  137   \n5       June 20, 1995   22          Syracuse          R            14   90   \n6    February 5, 1994   23            Baylor          R            16  112   \n7       June 20, 1986   31            DePaul          8            26  847   \n8    October 20, 1992   24    South Carolina          2            30  834   \n9        June 4, 1988   29               LSU          5             7  103   \n10       July 7, 1987   30  Middle Tennessee          6            30  843   \n11   December 4, 1992   24          Maryland          3            28  833   \n12     August 9, 1993   24         Minnesota          3            25  133   \n13   January 16, 1988   29            Xavier          3            22  146   \n14  February 13, 1986   31           Florida          6             4   22   \n15    August 30, 1995   21     Arizona State          1            15  237   \n16    August 22, 1991   26        Louisville          3            20  128   \n17     March 17, 1994   23         Tennessee          1             5   59   \n18      June 22, 1994   23      Kansas State          R            12   50   \n19    August 27, 1994   22       Connecticut          2            29  952   \n\n    FGM  FGA    FG%  3PM  3PA    3P%  FTM  FTA    FT%  OREB  DREB  REB  AST  \\\n0    30   85   35.3   12   32   37.5   21   26   80.8     6    22   28   12   \n1    90  177   50.8    5   18   27.8   32   41   78.0    19    82  101   72   \n2    82  218   37.6   19   64   29.7   35   42   83.3     4    36   40   78   \n3    75  195   38.5   21   68   30.9   17   21   81.0    35   134  169   65   \n4    16   50   32.0    7   20   35.0   11   12   91.7     3     9   12   12   \n5     9   34   26.5    2    9   22.2    6    6  100.0     3    13   16   11   \n6     9   34   26.5    4   15   26.7    2    2  100.0     1    14   15    5   \n7   166  319   52.0   70  150   46.7   40   46   87.0     9    83   92   95   \n8   131  346   37.9   29  103   28.2  104  129   80.6    52    75  127   40   \n9    14   38   36.8    2   11   18.2    6    6  100.0     3     7   10   10   \n10   93  183   50.8   20   62   32.3   38   51   74.5    29    97  126   50   \n11  154  303   50.8    0    3    0.0   91  158   57.6    34   158  192  136   \n12   20   53   37.7    2    8   25.0    9   12   75.0     5    18   23    7   \n13   18   44   40.9    0   10    0.0    5    8   62.5    12    28   40    5   \n14    4    4  100.0    0    0    0.0    0    0    0.0     0     4    4    1   \n15   25   44   56.8    1    1  100.0    7    7  100.0    16    42   58    8   \n16   10   31   32.3    0    0    0.0   11   18   61.1    16    21   37    9   \n17    8   14   57.1    0    0    0.0    3    4   75.0     4    13   17    3   \n18    2   12   16.7    0    0    0.0    3    4   75.0     2     7    9    2   \n19  201  417   48.2   46  123   37.4  136  171   79.5    43   206  249   78   \n\n    STL  BLK  TO  PTS  DD2  TD3  \n0     3    6  12   93    0    0  \n1    63   13  40  217    0    0  \n2    22    3  24  218    0    0  \n3    20   10  38  188    2    0  \n4     7    0  14   50    0    0  \n5     5    0  11   26    0    0  \n6     4    3   3   24    0    0  \n7    20   13  59  442    0    0  \n8    47   19  37  395    0    0  \n9     5    0   2   36    0    0  \n10   22    4  32  244    0    0  \n11   48   11  87  399    4    0  \n12    4    5  12   51    0    0  \n13    3    9   6   41    0    0  \n14    2    0   3    8    0    0  \n15    1   11  16   58    0    0  \n16    5    2  10   31    0    0  \n17    0    1   3   19    0    0  \n18    0    0   7    7    0    0  \n19   29   47  68  584    8    0  ",
      "text/html": "<div>\n<style scoped>\n    .dataframe tbody tr th:only-of-type {\n        vertical-align: middle;\n    }\n\n    .dataframe tbody tr th {\n        vertical-align: top;\n    }\n\n    .dataframe thead th {\n        text-align: right;\n    }\n</style>\n<table border=\"1\" class=\"dataframe\">\n  <thead>\n    <tr style=\"text-align: right;\">\n      <th></th>\n      <th>Name</th>\n      <th>Team</th>\n      <th>Pos</th>\n      <th>Height</th>\n      <th>Weight</th>\n      <th>BMI</th>\n      <th>Birth_Place</th>\n      <th>Birthdate</th>\n      <th>Age</th>\n      <th>College</th>\n      <th>Experience</th>\n      <th>Games Played</th>\n      <th>MIN</th>\n      <th>FGM</th>\n      <th>FGA</th>\n      <th>FG%</th>\n      <th>3PM</th>\n      <th>3PA</th>\n      <th>3P%</th>\n      <th>FTM</th>\n      <th>FTA</th>\n      <th>FT%</th>\n      <th>OREB</th>\n      <th>DREB</th>\n      <th>REB</th>\n      <th>AST</th>\n      <th>STL</th>\n      <th>BLK</th>\n      <th>TO</th>\n      <th>PTS</th>\n      <th>DD2</th>\n      <th>TD3</th>\n    </tr>\n  </thead>\n  <tbody>\n    <tr>\n      <th>0</th>\n      <td>Aerial Powers</td>\n      <td>DAL</td>\n      <td>F</td>\n      <td>183</td>\n      <td>71.0</td>\n      <td>21.200991</td>\n      <td>US</td>\n      <td>January 17, 1994</td>\n      <td>23</td>\n      <td>Michigan State</td>\n      <td>2</td>\n      <td>8</td>\n      <td>173</td>\n      <td>30</td>\n      <td>85</td>\n      <td>35.3</td>\n      <td>12</td>\n      <td>32</td>\n      <td>37.5</td>\n      <td>21</td>\n      <td>26</td>\n      <td>80.8</td>\n      <td>6</td>\n      <td>22</td>\n      <td>28</td>\n      <td>12</td>\n      <td>3</td>\n      <td>6</td>\n      <td>12</td>\n      <td>93</td>\n      <td>0</td>\n      <td>0</td>\n    </tr>\n    <tr>\n      <th>1</th>\n      <td>Alana Beard</td>\n      <td>LA</td>\n      <td>G/F</td>\n      <td>185</td>\n      <td>73.0</td>\n      <td>21.329438</td>\n      <td>US</td>\n      <td>May 14, 1982</td>\n      <td>35</td>\n      <td>Duke</td>\n      <td>12</td>\n      <td>30</td>\n      <td>947</td>\n      <td>90</td>\n      <td>177</td>\n      <td>50.8</td>\n      <td>5</td>\n      <td>18</td>\n      <td>27.8</td>\n      <td>32</td>\n      <td>41</td>\n      <td>78.0</td>\n      <td>19</td>\n      <td>82</td>\n      <td>101</td>\n      <td>72</td>\n      <td>63</td>\n      <td>13</td>\n      <td>40</td>\n      <td>217</td>\n      <td>0</td>\n      <td>0</td>\n    </tr>\n    <tr>\n      <th>2</th>\n      <td>Alex Bentley</td>\n      <td>CON</td>\n      <td>G</td>\n      <td>170</td>\n      <td>69.0</td>\n      <td>23.875433</td>\n      <td>US</td>\n      <td>October 27, 1990</td>\n      <td>26</td>\n      <td>Penn State</td>\n      <td>4</td>\n      <td>26</td>\n      <td>617</td>\n      <td>82</td>\n      <td>218</td>\n      <td>37.6</td>\n      <td>19</td>\n      <td>64</td>\n      <td>29.7</td>\n      <td>35</td>\n      <td>42</td>\n      <td>83.3</td>\n      <td>4</td>\n      <td>36</td>\n      <td>40</td>\n      <td>78</td>\n      <td>22</td>\n      <td>3</td>\n      <td>24</td>\n      <td>218</td>\n      <td>0</td>\n      <td>0</td>\n    </tr>\n    <tr>\n      <th>3</th>\n      <td>Alex Montgomery</td>\n      <td>SAN</td>\n      <td>G/F</td>\n      <td>185</td>\n      <td>84.0</td>\n      <td>24.543462</td>\n      <td>US</td>\n      <td>December 11, 1988</td>\n      <td>28</td>\n      <td>Georgia Tech</td>\n      <td>6</td>\n      <td>31</td>\n      <td>721</td>\n      <td>75</td>\n      <td>195</td>\n      <td>38.5</td>\n      <td>21</td>\n      <td>68</td>\n      <td>30.9</td>\n      <td>17</td>\n      <td>21</td>\n      <td>81.0</td>\n      <td>35</td>\n      <td>134</td>\n      <td>169</td>\n      <td>65</td>\n      <td>20</td>\n      <td>10</td>\n      <td>38</td>\n      <td>188</td>\n      <td>2</td>\n      <td>0</td>\n    </tr>\n    <tr>\n      <th>4</th>\n      <td>Alexis Jones</td>\n      <td>MIN</td>\n      <td>G</td>\n      <td>175</td>\n      <td>78.0</td>\n      <td>25.469388</td>\n      <td>US</td>\n      <td>August 5, 1994</td>\n      <td>23</td>\n      <td>Baylor</td>\n      <td>R</td>\n      <td>24</td>\n      <td>137</td>\n      <td>16</td>\n      <td>50</td>\n      <td>32.0</td>\n      <td>7</td>\n      <td>20</td>\n      <td>35.0</td>\n      <td>11</td>\n      <td>12</td>\n      <td>91.7</td>\n      <td>3</td>\n      <td>9</td>\n      <td>12</td>\n      <td>12</td>\n      <td>7</td>\n      <td>0</td>\n      <td>14</td>\n      <td>50</td>\n      <td>0</td>\n      <td>0</td>\n    </tr>\n    <tr>\n      <th>5</th>\n      <td>Alexis Peterson</td>\n      <td>SEA</td>\n      <td>G</td>\n      <td>170</td>\n      <td>63.0</td>\n      <td>21.799308</td>\n      <td>US</td>\n      <td>June 20, 1995</td>\n      <td>22</td>\n      <td>Syracuse</td>\n      <td>R</td>\n      <td>14</td>\n      <td>90</td>\n      <td>9</td>\n      <td>34</td>\n      <td>26.5</td>\n      <td>2</td>\n      <td>9</td>\n      <td>22.2</td>\n      <td>6</td>\n      <td>6</td>\n      <td>100.0</td>\n      <td>3</td>\n      <td>13</td>\n      <td>16</td>\n      <td>11</td>\n      <td>5</td>\n      <td>0</td>\n      <td>11</td>\n      <td>26</td>\n      <td>0</td>\n      <td>0</td>\n    </tr>\n    <tr>\n      <th>6</th>\n      <td>Alexis Prince</td>\n      <td>PHO</td>\n      <td>G</td>\n      <td>188</td>\n      <td>81.0</td>\n      <td>22.917610</td>\n      <td>US</td>\n      <td>February 5, 1994</td>\n      <td>23</td>\n      <td>Baylor</td>\n      <td>R</td>\n      <td>16</td>\n      <td>112</td>\n      <td>9</td>\n      <td>34</td>\n      <td>26.5</td>\n      <td>4</td>\n      <td>15</td>\n      <td>26.7</td>\n      <td>2</td>\n      <td>2</td>\n      <td>100.0</td>\n      <td>1</td>\n      <td>14</td>\n      <td>15</td>\n      <td>5</td>\n      <td>4</td>\n      <td>3</td>\n      <td>3</td>\n      <td>24</td>\n      <td>0</td>\n      <td>0</td>\n    </tr>\n    <tr>\n      <th>7</th>\n      <td>Allie Quigley</td>\n      <td>CHI</td>\n      <td>G</td>\n      <td>178</td>\n      <td>64.0</td>\n      <td>20.199470</td>\n      <td>US</td>\n      <td>June 20, 1986</td>\n      <td>31</td>\n      <td>DePaul</td>\n      <td>8</td>\n      <td>26</td>\n      <td>847</td>\n      <td>166</td>\n      <td>319</td>\n      <td>52.0</td>\n      <td>70</td>\n      <td>150</td>\n      <td>46.7</td>\n      <td>40</td>\n      <td>46</td>\n      <td>87.0</td>\n      <td>9</td>\n      <td>83</td>\n      <td>92</td>\n      <td>95</td>\n      <td>20</td>\n      <td>13</td>\n      <td>59</td>\n      <td>442</td>\n      <td>0</td>\n      <td>0</td>\n    </tr>\n    <tr>\n      <th>8</th>\n      <td>Allisha Gray</td>\n      <td>DAL</td>\n      <td>G</td>\n      <td>185</td>\n      <td>76.0</td>\n      <td>22.205990</td>\n      <td>US</td>\n      <td>October 20, 1992</td>\n      <td>24</td>\n      <td>South Carolina</td>\n      <td>2</td>\n      <td>30</td>\n      <td>834</td>\n      <td>131</td>\n      <td>346</td>\n      <td>37.9</td>\n      <td>29</td>\n      <td>103</td>\n      <td>28.2</td>\n      <td>104</td>\n      <td>129</td>\n      <td>80.6</td>\n      <td>52</td>\n      <td>75</td>\n      <td>127</td>\n      <td>40</td>\n      <td>47</td>\n      <td>19</td>\n      <td>37</td>\n      <td>395</td>\n      <td>0</td>\n      <td>0</td>\n    </tr>\n    <tr>\n      <th>9</th>\n      <td>Allison Hightower</td>\n      <td>WAS</td>\n      <td>G</td>\n      <td>178</td>\n      <td>77.0</td>\n      <td>24.302487</td>\n      <td>US</td>\n      <td>June 4, 1988</td>\n      <td>29</td>\n      <td>LSU</td>\n      <td>5</td>\n      <td>7</td>\n      <td>103</td>\n      <td>14</td>\n      <td>38</td>\n      <td>36.8</td>\n      <td>2</td>\n      <td>11</td>\n      <td>18.2</td>\n      <td>6</td>\n      <td>6</td>\n      <td>100.0</td>\n      <td>3</td>\n      <td>7</td>\n      <td>10</td>\n      <td>10</td>\n      <td>5</td>\n      <td>0</td>\n      <td>2</td>\n      <td>36</td>\n      <td>0</td>\n      <td>0</td>\n    </tr>\n    <tr>\n      <th>10</th>\n      <td>Alysha Clark</td>\n      <td>SEA</td>\n      <td>F</td>\n      <td>180</td>\n      <td>76.0</td>\n      <td>23.456790</td>\n      <td>US</td>\n      <td>July 7, 1987</td>\n      <td>30</td>\n      <td>Middle Tennessee</td>\n      <td>6</td>\n      <td>30</td>\n      <td>843</td>\n      <td>93</td>\n      <td>183</td>\n      <td>50.8</td>\n      <td>20</td>\n      <td>62</td>\n      <td>32.3</td>\n      <td>38</td>\n      <td>51</td>\n      <td>74.5</td>\n      <td>29</td>\n      <td>97</td>\n      <td>126</td>\n      <td>50</td>\n      <td>22</td>\n      <td>4</td>\n      <td>32</td>\n      <td>244</td>\n      <td>0</td>\n      <td>0</td>\n    </tr>\n    <tr>\n      <th>11</th>\n      <td>Alyssa Thomas</td>\n      <td>CON</td>\n      <td>F</td>\n      <td>188</td>\n      <td>84.0</td>\n      <td>23.766410</td>\n      <td>US</td>\n      <td>December 4, 1992</td>\n      <td>24</td>\n      <td>Maryland</td>\n      <td>3</td>\n      <td>28</td>\n      <td>833</td>\n      <td>154</td>\n      <td>303</td>\n      <td>50.8</td>\n      <td>0</td>\n      <td>3</td>\n      <td>0.0</td>\n      <td>91</td>\n      <td>158</td>\n      <td>57.6</td>\n      <td>34</td>\n      <td>158</td>\n      <td>192</td>\n      <td>136</td>\n      <td>48</td>\n      <td>11</td>\n      <td>87</td>\n      <td>399</td>\n      <td>4</td>\n      <td>0</td>\n    </tr>\n    <tr>\n      <th>12</th>\n      <td>Amanda Zahui B.</td>\n      <td>NY</td>\n      <td>C</td>\n      <td>196</td>\n      <td>113.0</td>\n      <td>29.414827</td>\n      <td>SE</td>\n      <td>August 9, 1993</td>\n      <td>24</td>\n      <td>Minnesota</td>\n      <td>3</td>\n      <td>25</td>\n      <td>133</td>\n      <td>20</td>\n      <td>53</td>\n      <td>37.7</td>\n      <td>2</td>\n      <td>8</td>\n      <td>25.0</td>\n      <td>9</td>\n      <td>12</td>\n      <td>75.0</td>\n      <td>5</td>\n      <td>18</td>\n      <td>23</td>\n      <td>7</td>\n      <td>4</td>\n      <td>5</td>\n      <td>12</td>\n      <td>51</td>\n      <td>0</td>\n      <td>0</td>\n    </tr>\n    <tr>\n      <th>13</th>\n      <td>Amber Harris</td>\n      <td>CHI</td>\n      <td>F</td>\n      <td>196</td>\n      <td>88.0</td>\n      <td>22.907122</td>\n      <td>US</td>\n      <td>January 16, 1988</td>\n      <td>29</td>\n      <td>Xavier</td>\n      <td>3</td>\n      <td>22</td>\n      <td>146</td>\n      <td>18</td>\n      <td>44</td>\n      <td>40.9</td>\n      <td>0</td>\n      <td>10</td>\n      <td>0.0</td>\n      <td>5</td>\n      <td>8</td>\n      <td>62.5</td>\n      <td>12</td>\n      <td>28</td>\n      <td>40</td>\n      <td>5</td>\n      <td>3</td>\n      <td>9</td>\n      <td>6</td>\n      <td>41</td>\n      <td>0</td>\n      <td>0</td>\n    </tr>\n    <tr>\n      <th>14</th>\n      <td>Aneika Henry</td>\n      <td>ATL</td>\n      <td>F/C</td>\n      <td>193</td>\n      <td>87.0</td>\n      <td>23.356332</td>\n      <td>JM</td>\n      <td>February 13, 1986</td>\n      <td>31</td>\n      <td>Florida</td>\n      <td>6</td>\n      <td>4</td>\n      <td>22</td>\n      <td>4</td>\n      <td>4</td>\n      <td>100.0</td>\n      <td>0</td>\n      <td>0</td>\n      <td>0.0</td>\n      <td>0</td>\n      <td>0</td>\n      <td>0.0</td>\n      <td>0</td>\n      <td>4</td>\n      <td>4</td>\n      <td>1</td>\n      <td>2</td>\n      <td>0</td>\n      <td>3</td>\n      <td>8</td>\n      <td>0</td>\n      <td>0</td>\n    </tr>\n    <tr>\n      <th>15</th>\n      <td>Angel Robinson</td>\n      <td>PHO</td>\n      <td>F/C</td>\n      <td>198</td>\n      <td>88.0</td>\n      <td>22.446689</td>\n      <td>US</td>\n      <td>August 30, 1995</td>\n      <td>21</td>\n      <td>Arizona State</td>\n      <td>1</td>\n      <td>15</td>\n      <td>237</td>\n      <td>25</td>\n      <td>44</td>\n      <td>56.8</td>\n      <td>1</td>\n      <td>1</td>\n      <td>100.0</td>\n      <td>7</td>\n      <td>7</td>\n      <td>100.0</td>\n      <td>16</td>\n      <td>42</td>\n      <td>58</td>\n      <td>8</td>\n      <td>1</td>\n      <td>11</td>\n      <td>16</td>\n      <td>58</td>\n      <td>0</td>\n      <td>0</td>\n    </tr>\n    <tr>\n      <th>16</th>\n      <td>Asia Taylor</td>\n      <td>WAS</td>\n      <td>F</td>\n      <td>185</td>\n      <td>76.0</td>\n      <td>22.205990</td>\n      <td>US</td>\n      <td>August 22, 1991</td>\n      <td>26</td>\n      <td>Louisville</td>\n      <td>3</td>\n      <td>20</td>\n      <td>128</td>\n      <td>10</td>\n      <td>31</td>\n      <td>32.3</td>\n      <td>0</td>\n      <td>0</td>\n      <td>0.0</td>\n      <td>11</td>\n      <td>18</td>\n      <td>61.1</td>\n      <td>16</td>\n      <td>21</td>\n      <td>37</td>\n      <td>9</td>\n      <td>5</td>\n      <td>2</td>\n      <td>10</td>\n      <td>31</td>\n      <td>0</td>\n      <td>0</td>\n    </tr>\n    <tr>\n      <th>17</th>\n      <td>Bashaara Graves</td>\n      <td>CHI</td>\n      <td>F</td>\n      <td>188</td>\n      <td>91.0</td>\n      <td>25.746944</td>\n      <td>US</td>\n      <td>March 17, 1994</td>\n      <td>23</td>\n      <td>Tennessee</td>\n      <td>1</td>\n      <td>5</td>\n      <td>59</td>\n      <td>8</td>\n      <td>14</td>\n      <td>57.1</td>\n      <td>0</td>\n      <td>0</td>\n      <td>0.0</td>\n      <td>3</td>\n      <td>4</td>\n      <td>75.0</td>\n      <td>4</td>\n      <td>13</td>\n      <td>17</td>\n      <td>3</td>\n      <td>0</td>\n      <td>1</td>\n      <td>3</td>\n      <td>19</td>\n      <td>0</td>\n      <td>0</td>\n    </tr>\n    <tr>\n      <th>18</th>\n      <td>Breanna Lewis</td>\n      <td>DAL</td>\n      <td>C</td>\n      <td>196</td>\n      <td>93.0</td>\n      <td>24.208663</td>\n      <td>US</td>\n      <td>June 22, 1994</td>\n      <td>23</td>\n      <td>Kansas State</td>\n      <td>R</td>\n      <td>12</td>\n      <td>50</td>\n      <td>2</td>\n      <td>12</td>\n      <td>16.7</td>\n      <td>0</td>\n      <td>0</td>\n      <td>0.0</td>\n      <td>3</td>\n      <td>4</td>\n      <td>75.0</td>\n      <td>2</td>\n      <td>7</td>\n      <td>9</td>\n      <td>2</td>\n      <td>0</td>\n      <td>0</td>\n      <td>7</td>\n      <td>7</td>\n      <td>0</td>\n      <td>0</td>\n    </tr>\n    <tr>\n      <th>19</th>\n      <td>Breanna Stewart</td>\n      <td>SEA</td>\n      <td>F/C</td>\n      <td>193</td>\n      <td>77.0</td>\n      <td>20.671696</td>\n      <td>US</td>\n      <td>August 27, 1994</td>\n      <td>22</td>\n      <td>Connecticut</td>\n      <td>2</td>\n      <td>29</td>\n      <td>952</td>\n      <td>201</td>\n      <td>417</td>\n      <td>48.2</td>\n      <td>46</td>\n      <td>123</td>\n      <td>37.4</td>\n      <td>136</td>\n      <td>171</td>\n      <td>79.5</td>\n      <td>43</td>\n      <td>206</td>\n      <td>249</td>\n      <td>78</td>\n      <td>29</td>\n      <td>47</td>\n      <td>68</td>\n      <td>584</td>\n      <td>8</td>\n      <td>0</td>\n    </tr>\n  </tbody>\n</table>\n</div>"
     },
     "metadata": {},
     "execution_count": 2
    }
   ],
   "source": [
    "wnba = pd.read_csv('/Users/bert/Desktop/dataV2-labs/module-2/M2-mini-project2/data/wnba.csv')\n",
    "wnba.head(20)"
   ]
  },
  {
   "cell_type": "markdown",
   "metadata": {},
   "source": [
    "### Check NaN values\n",
    "As you know, one of our first steps is to check if there are any NaN values in the dataset to find any issues. Look for the columns that cointain NaN values and count how many rows there are with that value."
   ]
  },
  {
   "cell_type": "code",
   "execution_count": 3,
   "metadata": {},
   "outputs": [
    {
     "output_type": "execute_result",
     "data": {
      "text/plain": "Name            0\nTeam            0\nPos             0\nHeight          0\nWeight          1\nBMI             1\nBirth_Place     0\nBirthdate       0\nAge             0\nCollege         0\nExperience      0\nGames Played    0\nMIN             0\nFGM             0\nFGA             0\nFG%             0\n3PM             0\n3PA             0\n3P%             0\nFTM             0\nFTA             0\nFT%             0\nOREB            0\nDREB            0\nREB             0\nAST             0\nSTL             0\nBLK             0\nTO              0\nPTS             0\nDD2             0\nTD3             0\ndtype: int64"
     },
     "metadata": {},
     "execution_count": 3
    }
   ],
   "source": [
    "wnba.isnull().sum()"
   ]
  },
  {
   "cell_type": "markdown",
   "metadata": {},
   "source": [
    "We can see that there are only two NaNs in the whole dataset, one in the Weight column and one in the BMI one. Let's look at the actual rows that contain the NaN values."
   ]
  },
  {
   "cell_type": "code",
   "execution_count": 4,
   "metadata": {},
   "outputs": [
    {
     "output_type": "execute_result",
     "data": {
      "text/plain": "            Name Team Pos  Height  Weight  BMI Birth_Place     Birthdate  Age  \\\n91  Makayla Epps  CHI   G     178     NaN  NaN          US  June 6, 1995   22   \n\n     College Experience  Games Played  MIN  FGM  FGA   FG%  3PM  3PA  3P%  \\\n91  Kentucky          R            14   52    2   14  14.3    0    5  0.0   \n\n    FTM  FTA   FT%  OREB  DREB  REB  AST  STL  BLK  TO  PTS  DD2  TD3  \n91    2    5  40.0     2     0    2    4    1    0   4    6    0    0  ",
      "text/html": "<div>\n<style scoped>\n    .dataframe tbody tr th:only-of-type {\n        vertical-align: middle;\n    }\n\n    .dataframe tbody tr th {\n        vertical-align: top;\n    }\n\n    .dataframe thead th {\n        text-align: right;\n    }\n</style>\n<table border=\"1\" class=\"dataframe\">\n  <thead>\n    <tr style=\"text-align: right;\">\n      <th></th>\n      <th>Name</th>\n      <th>Team</th>\n      <th>Pos</th>\n      <th>Height</th>\n      <th>Weight</th>\n      <th>BMI</th>\n      <th>Birth_Place</th>\n      <th>Birthdate</th>\n      <th>Age</th>\n      <th>College</th>\n      <th>Experience</th>\n      <th>Games Played</th>\n      <th>MIN</th>\n      <th>FGM</th>\n      <th>FGA</th>\n      <th>FG%</th>\n      <th>3PM</th>\n      <th>3PA</th>\n      <th>3P%</th>\n      <th>FTM</th>\n      <th>FTA</th>\n      <th>FT%</th>\n      <th>OREB</th>\n      <th>DREB</th>\n      <th>REB</th>\n      <th>AST</th>\n      <th>STL</th>\n      <th>BLK</th>\n      <th>TO</th>\n      <th>PTS</th>\n      <th>DD2</th>\n      <th>TD3</th>\n    </tr>\n  </thead>\n  <tbody>\n    <tr>\n      <th>91</th>\n      <td>Makayla Epps</td>\n      <td>CHI</td>\n      <td>G</td>\n      <td>178</td>\n      <td>NaN</td>\n      <td>NaN</td>\n      <td>US</td>\n      <td>June 6, 1995</td>\n      <td>22</td>\n      <td>Kentucky</td>\n      <td>R</td>\n      <td>14</td>\n      <td>52</td>\n      <td>2</td>\n      <td>14</td>\n      <td>14.3</td>\n      <td>0</td>\n      <td>5</td>\n      <td>0.0</td>\n      <td>2</td>\n      <td>5</td>\n      <td>40.0</td>\n      <td>2</td>\n      <td>0</td>\n      <td>2</td>\n      <td>4</td>\n      <td>1</td>\n      <td>0</td>\n      <td>4</td>\n      <td>6</td>\n      <td>0</td>\n      <td>0</td>\n    </tr>\n  </tbody>\n</table>\n</div>"
     },
     "metadata": {},
     "execution_count": 4
    }
   ],
   "source": [
    "weight_nan = wnba[(wnba['Weight'].isnull() == True )]\n",
    "weight_nan\n",
    "bmi_nan = wnba[(wnba['BMI'].isnull() == True )]\n",
    "bmi_nan"
   ]
  },
  {
   "cell_type": "markdown",
   "metadata": {},
   "source": [
    "It looks like there is only a single row that has NaN values in it, which is good! Just in case, let's check how much removing a single row may influence our dataset by calculating the percentage of values we will be removing."
   ]
  },
  {
   "cell_type": "code",
   "execution_count": 5,
   "metadata": {},
   "outputs": [
    {
     "output_type": "execute_result",
     "data": {
      "text/plain": "0.6993006993006993"
     },
     "metadata": {},
     "execution_count": 5
    }
   ],
   "source": [
    "total = len(wnba.index)\n",
    "per_val = 1/total*100\n",
    "per_val"
   ]
  },
  {
   "cell_type": "markdown",
   "metadata": {},
   "source": [
    "It is very important to be as careful as possible when dealing with NaN values and only drop data when it is strictly necessary. This decision can also be influenced by the nature of our analysis. If, for example, our analysis will not require the Weight and BMI of the players at all we can simply keep the row, given that the NaN values are only present in the Weight and BMI column.\n",
    "\n",
    "In this specific example, let's say our decision is to drop it. Write some code to drop the NaN values. "
   ]
  },
  {
   "cell_type": "code",
   "execution_count": 6,
   "metadata": {},
   "outputs": [],
   "source": [
    "wnba_2 = wnba.dropna()"
   ]
  },
  {
   "cell_type": "markdown",
   "metadata": {},
   "source": [
    "**Do you think it is a good decision? Think about a case in which you wouldn't want to drop the value.**"
   ]
  },
  {
   "cell_type": "code",
   "execution_count": 13,
   "metadata": {},
   "outputs": [],
   "source": [
    "#We think it's not a good idea to drop this person because we lose a lot of data like: here fieldgoal % for her team, 3points attemp, ...\n",
    "#We just need to make a comment that if we want to calculate with the BMI or the weight, that one person of the team 'CHI' is missing. "
   ]
  },
  {
   "cell_type": "markdown",
   "metadata": {},
   "source": [
    "### Let's make an overview of the dataset\n",
    "First, check the data types of our data:"
   ]
  },
  {
   "cell_type": "code",
   "execution_count": 7,
   "metadata": {},
   "outputs": [
    {
     "output_type": "execute_result",
     "data": {
      "text/plain": "Name             object\nTeam             object\nPos              object\nHeight            int64\nWeight          float64\nBMI             float64\nBirth_Place      object\nBirthdate        object\nAge               int64\nCollege          object\nExperience       object\nGames Played      int64\nMIN               int64\nFGM               int64\nFGA               int64\nFG%             float64\n3PM               int64\n3PA               int64\n3P%             float64\nFTM               int64\nFTA               int64\nFT%             float64\nOREB              int64\nDREB              int64\nREB               int64\nAST               int64\nSTL               int64\nBLK               int64\nTO                int64\nPTS               int64\nDD2               int64\nTD3               int64\ndtype: object"
     },
     "metadata": {},
     "execution_count": 7
    }
   ],
   "source": [
    "wnba.dtypes"
   ]
  },
  {
   "cell_type": "markdown",
   "metadata": {},
   "source": [
    "It looks like most of the data types are correct. Birthdate column could be casted to a `datetime` type, however, we won't use it in our analysis so for simplicity, let's leave it as an `object`. Weight column could also be casted to an `int64` type as all numbers are integers."
   ]
  },
  {
   "cell_type": "markdown",
   "metadata": {},
   "source": [
    "**Let's change the type of Weight column for practice.**"
   ]
  },
  {
   "cell_type": "code",
   "execution_count": 8,
   "metadata": {},
   "outputs": [
    {
     "output_type": "execute_result",
     "data": {
      "text/plain": "Name             object\nTeam             object\nPos              object\nHeight            int64\nWeight          float64\nBMI             float64\nBirth_Place      object\nBirthdate        object\nAge               int64\nCollege          object\nExperience       object\nGames Played      int64\nMIN               int64\nFGM               int64\nFGA               int64\nFG%             float64\n3PM               int64\n3PA               int64\n3P%             float64\nFTM               int64\nFTA               int64\nFT%             float64\nOREB              int64\nDREB              int64\nREB               int64\nAST               int64\nSTL               int64\nBLK               int64\nTO                int64\nPTS               int64\nDD2               int64\nTD3               int64\ndtype: object"
     },
     "metadata": {},
     "execution_count": 8
    }
   ],
   "source": [
    "wnba['Weight'] = wnba['Weight'].astype('object')\n",
    "wnba['Weight'] = wnba['Weight'].astype('float64')\n",
    "wnba.dtypes"
   ]
  },
  {
   "cell_type": "markdown",
   "metadata": {},
   "source": [
    "**After checking the data types, let's check for outliers using the describe() method.**"
   ]
  },
  {
   "cell_type": "code",
   "execution_count": 9,
   "metadata": {},
   "outputs": [
    {
     "output_type": "execute_result",
     "data": {
      "text/plain": "              count        mean         std         min         25%  \\\nHeight        143.0  184.566434    8.685068  165.000000  176.500000   \nWeight        142.0   78.978873   10.996110   55.000000   71.500000   \nBMI           142.0   23.091214    2.073691   18.390675   21.785876   \nAge           143.0   27.076923    3.679170   21.000000   24.000000   \nGames Played  143.0   24.356643    7.104259    2.000000   22.000000   \nMIN           143.0  496.972028  290.777320   12.000000  240.000000   \nFGM           143.0   73.895105   56.110895    1.000000   26.000000   \nFGA           143.0  167.622378  117.467095    3.000000   66.000000   \nFG%           143.0   42.901399   10.111498   14.300000   36.950000   \n3PM           143.0   14.727273   17.355919    0.000000    0.000000   \n3PA           143.0   43.426573   46.106199    0.000000    3.000000   \n3P%           143.0   24.803497   18.512183    0.000000    0.000000   \nFTM           143.0   39.272727   36.747747    0.000000   12.000000   \nFTA           143.0   49.111888   44.244854    0.000000   16.500000   \nFT%           143.0   75.578322   18.712194    0.000000   71.150000   \nOREB          143.0   21.923077   21.509276    0.000000    7.000000   \nDREB          143.0   61.160839   49.761919    0.000000   25.500000   \nREB           143.0   83.083916   68.302197    2.000000   34.000000   \nAST           143.0   44.230769   41.483017    0.000000   11.000000   \nSTL           143.0   17.608392   13.438978    0.000000    7.000000   \nBLK           143.0    9.713287   12.520193    0.000000    2.000000   \nTO            143.0   32.090909   21.502017    2.000000   13.500000   \nPTS           143.0  201.790210  153.381548    2.000000   75.000000   \nDD2           143.0    1.132867    2.900310    0.000000    0.000000   \nTD3           143.0    0.006993    0.083624    0.000000    0.000000   \n\n                     50%         75%         max  \nHeight        185.000000  191.000000   206.00000  \nWeight         79.000000   86.000000   113.00000  \nBMI            22.873314   24.180715    31.55588  \nAge            27.000000   30.000000    36.00000  \nGames Played   27.000000   29.000000    32.00000  \nMIN           504.000000  750.000000  1018.00000  \nFGM            69.000000  105.000000   227.00000  \nFGA           152.000000  244.500000   509.00000  \nFG%            42.000000   48.550000   100.00000  \n3PM            10.000000   22.000000    88.00000  \n3PA            32.000000   65.000000   225.00000  \n3P%            30.300000   36.150000   100.00000  \nFTM            29.000000   52.500000   168.00000  \nFTA            35.000000   66.000000   186.00000  \nFT%            80.000000   85.850000   100.00000  \nOREB           13.000000   31.000000   113.00000  \nDREB           50.000000   84.000000   226.00000  \nREB            62.000000  116.000000   334.00000  \nAST            33.000000   66.500000   206.00000  \nSTL            15.000000   27.000000    63.00000  \nBLK             5.000000   12.000000    64.00000  \nTO             28.000000   48.000000    87.00000  \nPTS           177.000000  277.500000   584.00000  \nDD2             0.000000    1.000000    17.00000  \nTD3             0.000000    0.000000     1.00000  ",
      "text/html": "<div>\n<style scoped>\n    .dataframe tbody tr th:only-of-type {\n        vertical-align: middle;\n    }\n\n    .dataframe tbody tr th {\n        vertical-align: top;\n    }\n\n    .dataframe thead th {\n        text-align: right;\n    }\n</style>\n<table border=\"1\" class=\"dataframe\">\n  <thead>\n    <tr style=\"text-align: right;\">\n      <th></th>\n      <th>count</th>\n      <th>mean</th>\n      <th>std</th>\n      <th>min</th>\n      <th>25%</th>\n      <th>50%</th>\n      <th>75%</th>\n      <th>max</th>\n    </tr>\n  </thead>\n  <tbody>\n    <tr>\n      <th>Height</th>\n      <td>143.0</td>\n      <td>184.566434</td>\n      <td>8.685068</td>\n      <td>165.000000</td>\n      <td>176.500000</td>\n      <td>185.000000</td>\n      <td>191.000000</td>\n      <td>206.00000</td>\n    </tr>\n    <tr>\n      <th>Weight</th>\n      <td>142.0</td>\n      <td>78.978873</td>\n      <td>10.996110</td>\n      <td>55.000000</td>\n      <td>71.500000</td>\n      <td>79.000000</td>\n      <td>86.000000</td>\n      <td>113.00000</td>\n    </tr>\n    <tr>\n      <th>BMI</th>\n      <td>142.0</td>\n      <td>23.091214</td>\n      <td>2.073691</td>\n      <td>18.390675</td>\n      <td>21.785876</td>\n      <td>22.873314</td>\n      <td>24.180715</td>\n      <td>31.55588</td>\n    </tr>\n    <tr>\n      <th>Age</th>\n      <td>143.0</td>\n      <td>27.076923</td>\n      <td>3.679170</td>\n      <td>21.000000</td>\n      <td>24.000000</td>\n      <td>27.000000</td>\n      <td>30.000000</td>\n      <td>36.00000</td>\n    </tr>\n    <tr>\n      <th>Games Played</th>\n      <td>143.0</td>\n      <td>24.356643</td>\n      <td>7.104259</td>\n      <td>2.000000</td>\n      <td>22.000000</td>\n      <td>27.000000</td>\n      <td>29.000000</td>\n      <td>32.00000</td>\n    </tr>\n    <tr>\n      <th>MIN</th>\n      <td>143.0</td>\n      <td>496.972028</td>\n      <td>290.777320</td>\n      <td>12.000000</td>\n      <td>240.000000</td>\n      <td>504.000000</td>\n      <td>750.000000</td>\n      <td>1018.00000</td>\n    </tr>\n    <tr>\n      <th>FGM</th>\n      <td>143.0</td>\n      <td>73.895105</td>\n      <td>56.110895</td>\n      <td>1.000000</td>\n      <td>26.000000</td>\n      <td>69.000000</td>\n      <td>105.000000</td>\n      <td>227.00000</td>\n    </tr>\n    <tr>\n      <th>FGA</th>\n      <td>143.0</td>\n      <td>167.622378</td>\n      <td>117.467095</td>\n      <td>3.000000</td>\n      <td>66.000000</td>\n      <td>152.000000</td>\n      <td>244.500000</td>\n      <td>509.00000</td>\n    </tr>\n    <tr>\n      <th>FG%</th>\n      <td>143.0</td>\n      <td>42.901399</td>\n      <td>10.111498</td>\n      <td>14.300000</td>\n      <td>36.950000</td>\n      <td>42.000000</td>\n      <td>48.550000</td>\n      <td>100.00000</td>\n    </tr>\n    <tr>\n      <th>3PM</th>\n      <td>143.0</td>\n      <td>14.727273</td>\n      <td>17.355919</td>\n      <td>0.000000</td>\n      <td>0.000000</td>\n      <td>10.000000</td>\n      <td>22.000000</td>\n      <td>88.00000</td>\n    </tr>\n    <tr>\n      <th>3PA</th>\n      <td>143.0</td>\n      <td>43.426573</td>\n      <td>46.106199</td>\n      <td>0.000000</td>\n      <td>3.000000</td>\n      <td>32.000000</td>\n      <td>65.000000</td>\n      <td>225.00000</td>\n    </tr>\n    <tr>\n      <th>3P%</th>\n      <td>143.0</td>\n      <td>24.803497</td>\n      <td>18.512183</td>\n      <td>0.000000</td>\n      <td>0.000000</td>\n      <td>30.300000</td>\n      <td>36.150000</td>\n      <td>100.00000</td>\n    </tr>\n    <tr>\n      <th>FTM</th>\n      <td>143.0</td>\n      <td>39.272727</td>\n      <td>36.747747</td>\n      <td>0.000000</td>\n      <td>12.000000</td>\n      <td>29.000000</td>\n      <td>52.500000</td>\n      <td>168.00000</td>\n    </tr>\n    <tr>\n      <th>FTA</th>\n      <td>143.0</td>\n      <td>49.111888</td>\n      <td>44.244854</td>\n      <td>0.000000</td>\n      <td>16.500000</td>\n      <td>35.000000</td>\n      <td>66.000000</td>\n      <td>186.00000</td>\n    </tr>\n    <tr>\n      <th>FT%</th>\n      <td>143.0</td>\n      <td>75.578322</td>\n      <td>18.712194</td>\n      <td>0.000000</td>\n      <td>71.150000</td>\n      <td>80.000000</td>\n      <td>85.850000</td>\n      <td>100.00000</td>\n    </tr>\n    <tr>\n      <th>OREB</th>\n      <td>143.0</td>\n      <td>21.923077</td>\n      <td>21.509276</td>\n      <td>0.000000</td>\n      <td>7.000000</td>\n      <td>13.000000</td>\n      <td>31.000000</td>\n      <td>113.00000</td>\n    </tr>\n    <tr>\n      <th>DREB</th>\n      <td>143.0</td>\n      <td>61.160839</td>\n      <td>49.761919</td>\n      <td>0.000000</td>\n      <td>25.500000</td>\n      <td>50.000000</td>\n      <td>84.000000</td>\n      <td>226.00000</td>\n    </tr>\n    <tr>\n      <th>REB</th>\n      <td>143.0</td>\n      <td>83.083916</td>\n      <td>68.302197</td>\n      <td>2.000000</td>\n      <td>34.000000</td>\n      <td>62.000000</td>\n      <td>116.000000</td>\n      <td>334.00000</td>\n    </tr>\n    <tr>\n      <th>AST</th>\n      <td>143.0</td>\n      <td>44.230769</td>\n      <td>41.483017</td>\n      <td>0.000000</td>\n      <td>11.000000</td>\n      <td>33.000000</td>\n      <td>66.500000</td>\n      <td>206.00000</td>\n    </tr>\n    <tr>\n      <th>STL</th>\n      <td>143.0</td>\n      <td>17.608392</td>\n      <td>13.438978</td>\n      <td>0.000000</td>\n      <td>7.000000</td>\n      <td>15.000000</td>\n      <td>27.000000</td>\n      <td>63.00000</td>\n    </tr>\n    <tr>\n      <th>BLK</th>\n      <td>143.0</td>\n      <td>9.713287</td>\n      <td>12.520193</td>\n      <td>0.000000</td>\n      <td>2.000000</td>\n      <td>5.000000</td>\n      <td>12.000000</td>\n      <td>64.00000</td>\n    </tr>\n    <tr>\n      <th>TO</th>\n      <td>143.0</td>\n      <td>32.090909</td>\n      <td>21.502017</td>\n      <td>2.000000</td>\n      <td>13.500000</td>\n      <td>28.000000</td>\n      <td>48.000000</td>\n      <td>87.00000</td>\n    </tr>\n    <tr>\n      <th>PTS</th>\n      <td>143.0</td>\n      <td>201.790210</td>\n      <td>153.381548</td>\n      <td>2.000000</td>\n      <td>75.000000</td>\n      <td>177.000000</td>\n      <td>277.500000</td>\n      <td>584.00000</td>\n    </tr>\n    <tr>\n      <th>DD2</th>\n      <td>143.0</td>\n      <td>1.132867</td>\n      <td>2.900310</td>\n      <td>0.000000</td>\n      <td>0.000000</td>\n      <td>0.000000</td>\n      <td>1.000000</td>\n      <td>17.00000</td>\n    </tr>\n    <tr>\n      <th>TD3</th>\n      <td>143.0</td>\n      <td>0.006993</td>\n      <td>0.083624</td>\n      <td>0.000000</td>\n      <td>0.000000</td>\n      <td>0.000000</td>\n      <td>0.000000</td>\n      <td>1.00000</td>\n    </tr>\n  </tbody>\n</table>\n</div>"
     },
     "metadata": {},
     "execution_count": 9
    }
   ],
   "source": [
    "wnba.describe().transpose()"
   ]
  },
  {
   "cell_type": "markdown",
   "metadata": {},
   "source": [
    "**Comment on your result. What do you see?**"
   ]
  },
  {
   "cell_type": "code",
   "execution_count": 20,
   "metadata": {},
   "outputs": [],
   "source": [
    "#We see that in the calculations of the BMI & Weight there are only 142 items instead of 143. \n",
    "#We see a lot of \"0-values as a minimum but that makes sense because it's possible that you don't have any\n",
    "#DD2 (Double Doubles) --> minimum percentile 25 & percentile 50 is equal to 0\n",
    "#Triple Doubles --> minimum percentile 25 & percentile 50 & percentile 75 is equal to 0 --> probably a very rare phenomenon. "
   ]
  },
  {
   "cell_type": "code",
   "execution_count": null,
   "metadata": {},
   "outputs": [],
   "source": []
  },
  {
   "cell_type": "markdown",
   "metadata": {},
   "source": [
    "**Now we can save the cleaned data to a new .csv file called `wnba_clean.csv` in the data folder.**"
   ]
  },
  {
   "cell_type": "code",
   "execution_count": 10,
   "metadata": {},
   "outputs": [],
   "source": [
    "wnba_clean = wnba.to_csv('/Users/bert/Desktop/dataV2-labs/module-2/M2-mini-project2/data/wnba_clean.csv', index=False)"
   ]
  },
  {
   "cell_type": "code",
   "execution_count": null,
   "metadata": {},
   "outputs": [],
   "source": []
  }
 ],
 "metadata": {
  "kernelspec": {
   "display_name": "Python 3",
   "language": "python",
   "name": "python3"
  },
  "language_info": {
   "codemirror_mode": {
    "name": "ipython",
    "version": 3
   },
   "file_extension": ".py",
   "mimetype": "text/x-python",
   "name": "python",
   "nbconvert_exporter": "python",
   "pygments_lexer": "ipython3",
   "version": "3.7.6-final"
  }
 },
 "nbformat": 4,
 "nbformat_minor": 2
}