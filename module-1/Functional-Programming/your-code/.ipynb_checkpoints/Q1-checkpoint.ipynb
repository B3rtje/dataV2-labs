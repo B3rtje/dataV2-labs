{
 "cells": [
  {
   "cell_type": "markdown",
   "metadata": {},
   "source": [
    "In the cell below, create a Python function that wraps your previous solution for the Bag of Words lab.\n",
    "\n",
    "Requirements:\n",
    "\n",
    "1. Your function should accept the following parameters:\n",
    "    * `docs` [REQUIRED] - array of document paths.\n",
    "    * `stop_words` [OPTIONAL] - array of stop words. The default value is an empty array.\n",
    "\n",
    "1. Your function should return a Python object that contains the following:\n",
    "    * `bag_of_words` - array of strings of normalized unique words in the corpus.\n",
    "    * `term_freq` - array of the term-frequency vectors."
   ]
  },
  {
   "cell_type": "code",
   "execution_count": 35,
   "metadata": {},
   "outputs": [],
   "source": [
    "# Import required libraries\n",
    "\n",
    "\n",
    "# Define function\n",
    "def get_bow_from_docs(docs, stop_words=[]):\n",
    "    my_dictionary = {}\n",
    "    lst2 = []\n",
    "    docs_two = docs\n",
    "    docs_clean = [re.sub('[^a-zA-Z]+', ' ', _) for _ in docs_two]\n",
    "    docs_clean_string = \" \".join(docs_clean)\n",
    "    docs_cleaned_list = docs_clean_string.split(\" \")\n",
    "    for word in docs_cleaned_list: \n",
    "        if word.isalpha() == True : \n",
    "            new = word.lower()\n",
    "            if word in lst2: \n",
    "                continue\n",
    "            else:\n",
    "                lst2.append(new)\n",
    "        else: \n",
    "            continue\n",
    "    my_dictionary [bag_of_words] = list(set(lst2))\n",
    "    print(my_diction)\n",
    "    \n",
    "    # In the function, first define the variables you will use such as `corpus`, `bag_of_words`, and `term_freq`.\n",
    "    \n",
    "\n",
    "    \n",
    "    \n",
    "    # Now return your output as an object\n",
    "    return {\n",
    "        \"bag_of_words\": bag_of_words,\n",
    "        \"term_freq\": term_freq\n",
    "    }\n",
    "    "
   ]
  },
  {
   "cell_type": "markdown",
   "metadata": {},
   "source": [
    "Test your function without stop words. You should see the output like below:\n",
    "\n",
    "```{'bag_of_words': ['ironhack', 'is', 'cool', 'i', 'love', 'am', 'a', 'student', 'at'], 'term_freq': [[1, 1, 1, 0, 0, 0, 0, 0, 0], [1, 0, 0, 1, 1, 0, 0, 0, 0], [1, 0, 0, 1, 0, 1, 1, 1, 1]]}```"
   ]
  },
  {
   "cell_type": "code",
   "execution_count": 40,
   "metadata": {},
   "outputs": [
    {
     "name": "stdout",
     "output_type": "stream",
     "text": [
      "{'bag_of_words': ['love', 'ironhack', 'i', 'am', 'student', 'a', 'cool', 'at', 'is']}\n",
      "{'bag_of_words': ['love', 'ironhack', 'i', 'am', 'student', 'a', 'cool', 'at', 'is']}\n"
     ]
    }
   ],
   "source": [
    "import re\n",
    "docs = [\"Ironhack is cool.\", \"I am a student at Ironhack.\", \"I love Ironhack!\" ]\n",
    "\n",
    "def get_bow_from_docs(docs):\n",
    "    my_dictionary = {}\n",
    "    bag_of_words = []\n",
    "    docs_two = docs\n",
    "    docs_clean = [re.sub('[^a-zA-Z]+', ' ', _) for _ in docs_two]\n",
    "    docs_clean_string = \" \".join(docs_clean)\n",
    "    docs_cleaned_list = docs_clean_string.split(\" \")\n",
    "    for word in docs_cleaned_list: \n",
    "        if word.isalpha() == True : \n",
    "            new = word.lower()\n",
    "            if word in bag_of_words: \n",
    "                continue\n",
    "            else:\n",
    "                bag_of_words.append(new)\n",
    "        else: \n",
    "            continue\n",
    "    \n",
    "    my_dictionary ['bag_of_words'] = list(set(bag_of_words))\n",
    "    print(my_dictionary)\n",
    "\n",
    "    list1 = []\n",
    "    list2 = []\n",
    "    list3 = []\n",
    "\n",
    "    string1 = \"ironhack is cool.\"\n",
    "    string2 = \"i am a student at ironhack\"\n",
    "    string3 = \"i love ironhack\"\n",
    "\n",
    "    for key in my_:\n",
    "        for x in string1: \n",
    "            if i == x : \n",
    "                list1.append(1)\n",
    "        else: \n",
    "            list1.append(0)\n",
    "        \n",
    "    for i in bag_of_words: \n",
    "        for y in string2:\n",
    "            if i == y: \n",
    "                list2.append(1)\n",
    "        else: \n",
    "            list2.append(0)\n",
    "        \n",
    "    for i in bag_of_words: \n",
    "        for z in string3:  \n",
    "            if i == z:\n",
    "                list3.append(1)\n",
    "        else: \n",
    "            list3.append(0)\n",
    "\n",
    "    term_freq = [list1, list2, list3]\n",
    "        \n",
    "    return my_dictionary\n",
    "    \n",
    "# Obtain BoW from your function\n",
    "bow = get_bow_from_docs(docs)\n",
    "\n",
    "# Print BoW\n",
    "print(bow)"
   ]
  },
  {
   "cell_type": "markdown",
   "metadata": {},
   "source": [
    "If your attempt above is successful, nice work done!\n",
    "\n",
    "Now test your function again with the stop words. In the previous lab we defined the stop words in a large array. In this lab, we'll import the stop words from Scikit-Learn."
   ]
  },
  {
   "cell_type": "code",
   "execution_count": null,
   "metadata": {},
   "outputs": [],
   "source": [
    "from sklearn.feature_extraction import stop_words\n",
    "print(stop_words.ENGLISH_STOP_WORDS)"
   ]
  },
  {
   "cell_type": "markdown",
   "metadata": {},
   "source": [
    "You should have seen a large list of words that looks like:\n",
    "\n",
    "```frozenset({'across', 'mine', 'cannot', ...})```\n",
    "\n",
    "`frozenset` is a type of Python object that is immutable. In this lab you can use it just like an array without conversion."
   ]
  },
  {
   "cell_type": "markdown",
   "metadata": {},
   "source": [
    "Next, test your function with supplying `stop_words.ENGLISH_STOP_WORDS` as the second parameter."
   ]
  },
  {
   "cell_type": "code",
   "execution_count": null,
   "metadata": {},
   "outputs": [],
   "source": [
    "bow = get_bow_from_docs(bow, stop_words.ENGLISH_STOP_WORDS)\n",
    "\n",
    "print(bow)"
   ]
  },
  {
   "cell_type": "markdown",
   "metadata": {},
   "source": [
    "You should have seen:\n",
    "\n",
    "```{'bag_of_words': ['ironhack', 'cool', 'love', 'student'], 'term_freq': [[1, 1, 0, 0], [1, 0, 1, 0], [1, 0, 0, 1]]}```"
   ]
  },
  {
   "cell_type": "code",
   "execution_count": null,
   "metadata": {},
   "outputs": [],
   "source": []
  }
 ],
 "metadata": {
  "kernelspec": {
   "display_name": "Python 3",
   "language": "python",
   "name": "python3"
  },
  "language_info": {
   "codemirror_mode": {
    "name": "ipython",
    "version": 3
   },
   "file_extension": ".py",
   "mimetype": "text/x-python",
   "name": "python",
   "nbconvert_exporter": "python",
   "pygments_lexer": "ipython3",
   "version": "3.7.6"
  }
 },
 "nbformat": 4,
 "nbformat_minor": 2
}
