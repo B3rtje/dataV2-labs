{
 "cells": [
  {
   "cell_type": "code",
   "execution_count": null,
   "metadata": {},
   "outputs": [],
   "source": [
    "#First challenge: Remove All The Marked Elements of a List \n",
    "class List:\n",
    "    def remove_(self, integer_list, values_list):    \n",
    "        return [number for number in self.integer_list if number not in self.values_list]"
   ]
  },
  {
   "cell_type": "code",
   "execution_count": null,
   "metadata": {},
   "outputs": [],
   "source": [
    "#Second challenge: \n",
    "\n",
    "class List(object):\n",
    "    def count_spec_digits(self, integers_list, digits_list):\n",
    "        answer = []\n",
    "        if self.integers_list != []: \n",
    "            absolute = [str(abs(num)) for num in self.integers_list]\n",
    "            string = \"\".join(absolute)\n",
    "            back_to_list = [int(number) for number in str(string)]\n",
    "            for digit in self.digits_list:\n",
    "                num = back_to_list.count(digit)\n",
    "                tup = (digit, num)\n",
    "                answer.append(tup)\n",
    "        else: \n",
    "            for digit in self.digits_list:\n",
    "                tup = (digit, 0)\n",
    "                answer.append(tup)\n",
    "        return answer"
   ]
  },
  {
   "cell_type": "code",
   "execution_count": null,
   "metadata": {},
   "outputs": [],
   "source": [
    "#Third challenge: Ordered Count of Characters\n",
    "#I have added class Characters because in these kata there was no class. \n",
    "\n",
    "class Characters: \n",
    "    def ordered_count(self, inp):\n",
    "    lst = []\n",
    "    lst_two = []\n",
    "    if self.inp == \"\": \n",
    "        solution = lst_two\n",
    "    else: \n",
    "        for letter in self.inp: \n",
    "            if letter in lst: \n",
    "                continue\n",
    "            else: \n",
    "                times = inp.count(letter)\n",
    "                tup = (letter, times)\n",
    "                lst_two.append(tup)\n",
    "                lst.append(letter)\n",
    "        solution = lst_two\n",
    "    return solution\n",
    "    \n",
    "    "
   ]
  }
 ],
 "metadata": {
  "kernelspec": {
   "display_name": "Python 3",
   "language": "python",
   "name": "python3"
  },
  "language_info": {
   "codemirror_mode": {
    "name": "ipython",
    "version": 3
   },
   "file_extension": ".py",
   "mimetype": "text/x-python",
   "name": "python",
   "nbconvert_exporter": "python",
   "pygments_lexer": "ipython3",
   "version": "3.7.6"
  }
 },
 "nbformat": 4,
 "nbformat_minor": 4
}
