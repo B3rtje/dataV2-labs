{
 "cells": [
  {
   "cell_type": "markdown",
   "metadata": {},
   "source": [
    "# Web Scraping Lab\n",
    "\n",
    "You will find in this notebook some scrapy exercises to practise your scraping skills.\n",
    "\n",
    "**Tips:**\n",
    "\n",
    "- Check the response status code for each request to ensure you have obtained the intended content.\n",
    "- Print the response text in each request to understand the kind of info you are getting and its format.\n",
    "- Check for patterns in the response text to extract the data/info requested in each question.\n",
    "- Visit the urls below and take a look at their source code through Chrome DevTools. You'll need to identify the html tags, special class names, etc used in the html content you are expected to extract.\n",
    "\n",
    "**Resources**:\n",
    "- [Requests library](http://docs.python-requests.org/en/master/#the-user-guide)\n",
    "- [Beautiful Soup Doc](https://www.crummy.com/software/BeautifulSoup/bs4/doc/)\n",
    "- [Urllib](https://docs.python.org/3/library/urllib.html#module-urllib)\n",
    "- [re lib](https://docs.python.org/3/library/re.html)\n",
    "- [lxml lib](https://lxml.de/)\n",
    "- [Scrapy](https://scrapy.org/)\n",
    "- [List of HTTP status codes](https://en.wikipedia.org/wiki/List_of_HTTP_status_codes)\n",
    "- [HTML basics](http://www.simplehtmlguide.com/cheatsheet.php)\n",
    "- [CSS basics](https://www.cssbasics.com/#page_start)"
   ]
  },
  {
   "cell_type": "markdown",
   "metadata": {},
   "source": [
    "#### Below are the libraries and modules you may need. `requests`,  `BeautifulSoup` and `pandas` are already imported for you. If you prefer to use additional libraries feel free to do it."
   ]
  },
  {
   "cell_type": "code",
   "execution_count": 1,
   "metadata": {},
   "outputs": [],
   "source": [
    "import requests\n",
    "from bs4 import BeautifulSoup\n",
    "import pandas as pd"
   ]
  },
  {
   "cell_type": "markdown",
   "metadata": {},
   "source": [
    "#### Download, parse (using BeautifulSoup), and print the content from the Trending Developers page from GitHub:"
   ]
  },
  {
   "cell_type": "code",
   "execution_count": 2,
   "metadata": {},
   "outputs": [],
   "source": [
    "# This is the url you will scrape in this exercise\n",
    "url = 'https://github.com/trending/developers'"
   ]
  },
  {
   "cell_type": "code",
   "execution_count": 3,
   "metadata": {},
   "outputs": [],
   "source": [
    "html = requests.get(url).content\n",
    "soup = BeautifulSoup(html, \"lxml\")\n",
    "\n",
    "soup\n"
   ]
  },
  {
   "cell_type": "markdown",
   "metadata": {},
   "source": [
    "#### Display the names of the trending developers retrieved in the previous step.\n",
    "\n",
    "Your output should be a Python list of developer names. Each name should not contain any html tag.\n",
    "\n",
    "**Instructions:**\n",
    "\n",
    "1. Find out the html tag and class names used for the developer names. You can achieve this using Chrome DevTools.\n",
    "\n",
    "1. Use BeautifulSoup to extract all the html elements that contain the developer names.\n",
    "\n",
    "1. Use string manipulation techniques to replace whitespaces and linebreaks (i.e. `\\n`) in the *text* of each html element. Use a list to store the clean names.\n",
    "\n",
    "1. Print the list of names.\n",
    "\n",
    "Your output should look like below:\n",
    "\n",
    "```\n",
    "['trimstray (@trimstray)',\n",
    " 'joewalnes (JoeWalnes)',\n",
    " 'charlax (Charles-AxelDein)',\n",
    " 'ForrestKnight (ForrestKnight)',\n",
    " 'revery-ui (revery-ui)',\n",
    " 'alibaba (Alibaba)',\n",
    " 'Microsoft (Microsoft)',\n",
    " 'github (GitHub)',\n",
    " 'facebook (Facebook)',\n",
    " 'boazsegev (Bo)',\n",
    " 'google (Google)',\n",
    " 'cloudfetch',\n",
    " 'sindresorhus (SindreSorhus)',\n",
    " 'tensorflow',\n",
    " 'apache (TheApacheSoftwareFoundation)',\n",
    " 'DevonCrawford (DevonCrawford)',\n",
    " 'ARMmbed (ArmMbed)',\n",
    " 'vuejs (vuejs)',\n",
    " 'fastai (fast.ai)',\n",
    " 'QiShaoXuan (Qi)',\n",
    " 'joelparkerhenderson (JoelParkerHenderson)',\n",
    " 'torvalds (LinusTorvalds)',\n",
    " 'CyC2018',\n",
    " 'komeiji-satori (神楽坂覚々)',\n",
    " 'script-8']\n",
    " ```"
   ]
  },
  {
   "cell_type": "code",
   "execution_count": 13,
   "metadata": {},
   "outputs": [
    {
     "data": {
      "text/plain": [
       "[['Trending'],\n",
       " ['These are the developers building the hot tools today.'],\n",
       " ['Rob Dodson'],\n",
       " ['robdodson'],\n",
       " ['eleventy-netlify-boilerplate'],\n",
       " ['MichaIng'],\n",
       " ['DietPi'],\n",
       " ['Gleb Bahmutov'],\n",
       " ['bahmutov'],\n",
       " ['cypress-react-unit-test'],\n",
       " ['Lukas Taegert-Atkinson'],\n",
       " ['lukastaegert'],\n",
       " ['TNG Technology Consulting GmbH'],\n",
       " ['Till Krüss'],\n",
       " ['tillkruss'],\n",
       " ['alfred-laravel-docs'],\n",
       " ['Jesse Duffield'],\n",
       " ['jesseduffield'],\n",
       " ['lazydocker'],\n",
       " ['ᴜɴᴋɴᴡᴏɴ'],\n",
       " ['unknwon'],\n",
       " ['the-way-to-go_ZH_CN'],\n",
       " ['Arve Knudsen'],\n",
       " ['aknuds1'],\n",
       " ['html-to-react'],\n",
       " ['Niklas von Hertzen'],\n",
       " ['niklasvh'],\n",
       " ['html2canvas'],\n",
       " ['Stephen Celis'],\n",
       " ['stephencelis'],\n",
       " ['SQLite.swift'],\n",
       " ['Damian Dulisz'],\n",
       " ['shentao'],\n",
       " ['vue-multiselect'],\n",
       " ['Yufan You'],\n",
       " ['ouuan'],\n",
       " ['Despised'],\n",
       " ['Christian Clauss'],\n",
       " ['cclauss'],\n",
       " ['Ten-lines-or-less'],\n",
       " ['Jirka Borovec'],\n",
       " ['Borda'],\n",
       " ['pyImSegm'],\n",
       " ['Timothy Edmund Crosley'],\n",
       " ['timothycrosley'],\n",
       " ['isort'],\n",
       " ['James Newton-King'],\n",
       " ['JamesNK'],\n",
       " ['Newtonsoft.Json'],\n",
       " ['Michael Shilman'],\n",
       " ['shilman'],\n",
       " ['storybook-vue-example'],\n",
       " ['Mike Penz'],\n",
       " ['mikepenz'],\n",
       " ['MaterialDrawer'],\n",
       " ['Alex Hall'],\n",
       " ['alexmojaki'],\n",
       " ['futurecoder'],\n",
       " ['Diego Sampaio'],\n",
       " ['sampaiodiego'],\n",
       " ['@RocketChat'],\n",
       " ['Dries Vints'],\n",
       " ['driesvints'],\n",
       " ['dotfiles'],\n",
       " ['JK Jung'],\n",
       " ['jkjung-avt'],\n",
       " ['tensorrt_demos'],\n",
       " ['Steven'],\n",
       " ['styfle'],\n",
       " ['cancel-workflow-action'],\n",
       " ['Daniel Martí'],\n",
       " ['mvdan'],\n",
       " ['sh'],\n",
       " ['Łukasz Magiera'],\n",
       " ['magik6k'],\n",
       " ['dflow']]"
      ]
     },
     "execution_count": 13,
     "metadata": {},
     "output_type": "execute_result"
    }
   ],
   "source": [
    "tags = ['h1', 'p']\n",
    "text = [element.text for element in soup.find_all(tags)]\n",
    "item = [row.strip().split(\"\\n\") for row in text]\n",
    "item\n",
    "\n",
    "#Jan can you help me here? I would like to know how I can combine h1 + p --> because there is not always a 'p' element. \n"
   ]
  },
  {
   "cell_type": "markdown",
   "metadata": {},
   "source": [
    "#### Display the trending Python repositories in GitHub.\n",
    "\n",
    "The steps to solve this problem is similar to the previous one except that you need to find out the repository names instead of developer names."
   ]
  },
  {
   "cell_type": "code",
   "execution_count": null,
   "metadata": {},
   "outputs": [],
   "source": [
    "# This is the url you will scrape in this exercise\n",
    "url = 'https://github.com/trending/python?since=daily'"
   ]
  },
  {
   "cell_type": "code",
   "execution_count": null,
   "metadata": {},
   "outputs": [],
   "source": [
    "html = requests.get(url).content\n",
    "soup = BeautifulSoup(html, \"lxml\")\n",
    "\n",
    "tags = ['h1']\n",
    "text = [element.text for element in soup.find_all(tags)]\n",
    "item = [row.strip().split(\"\\n\") for row in text]\n",
    "item2 = [items.split() for lst in item for items in lst]\n",
    "item3 = [items.split('/') for lst in item2 for items in lst]\n",
    "item4 = [[x for x in item if x != \"\"] for item in item3]\n",
    "item5 = \" \".join([element for inner_list in item4 for element in inner_list])\n",
    "item6 = list(item5.split(\" \"))\n",
    "item6"
   ]
  },
  {
   "cell_type": "markdown",
   "metadata": {},
   "source": [
    "#### Display all the image links from Walt Disney wikipedia page."
   ]
  },
  {
   "cell_type": "code",
   "execution_count": null,
   "metadata": {},
   "outputs": [],
   "source": [
    "# This is the url you will scrape in this exercise\n",
    "url = 'https://en.wikipedia.org/wiki/Walt_Disney'"
   ]
  },
  {
   "cell_type": "code",
   "execution_count": null,
   "metadata": {},
   "outputs": [],
   "source": [
    "html = requests.get(url).content\n",
    "soup = BeautifulSoup(html, \"lxml\")\n",
    "\n",
    "images = []\n",
    "\n",
    "for img in soup.findAll(\"img\"): \n",
    "    images.append(img.get('src'))\n",
    "\n",
    "images\n",
    "\n",
    "#Meaning of src = 'The required src attribute specifies the URL of the image'."
   ]
  },
  {
   "cell_type": "markdown",
   "metadata": {},
   "source": [
    "#### Retrieve an arbitary Wikipedia page of \"Python\" and create a list of links on that page."
   ]
  },
  {
   "cell_type": "code",
   "execution_count": null,
   "metadata": {},
   "outputs": [],
   "source": [
    "# This is the url you will scrape in this exercise\n",
    "url ='https://en.wikipedia.org/wiki/Python' "
   ]
  },
  {
   "cell_type": "code",
   "execution_count": null,
   "metadata": {},
   "outputs": [],
   "source": [
    "html = requests.get(url).content\n",
    "soup = BeautifulSoup(html, \"lxml\")\n",
    "\n",
    "adresses_one = []\n",
    "\n",
    "for link in soup.findAll('a'): \n",
    "    href = link.get('href')\n",
    "    if href == \"\" or href is None: \n",
    "        continue\n",
    "    else:\n",
    "        adresses_one.append(href)\n",
    "\n",
    "adresses_one "
   ]
  },
  {
   "cell_type": "markdown",
   "metadata": {},
   "source": [
    "#### Find the number of titles that have changed in the United States Code since its last release point."
   ]
  },
  {
   "cell_type": "code",
   "execution_count": null,
   "metadata": {},
   "outputs": [],
   "source": [
    "# This is the url you will scrape in this exercise\n",
    "url = 'http://uscode.house.gov/download/download.shtml'"
   ]
  },
  {
   "cell_type": "code",
   "execution_count": null,
   "metadata": {},
   "outputs": [],
   "source": [
    "#Titles in bold have been changed since the last release point.\n",
    "\n",
    "html = requests.get(url).content\n",
    "soup = BeautifulSoup(html, \"lxml\")\n",
    "\n",
    "titles = soup.findAll(class_='usctitlechanged')\n",
    "\n",
    "lst_changed_titles = [title.get_text().strip() for title in titles]\n",
    "\n",
    "lst_changed_titles\n",
    "\n"
   ]
  },
  {
   "cell_type": "markdown",
   "metadata": {},
   "source": [
    "#### Find a Python list with the top ten FBI's Most Wanted names."
   ]
  },
  {
   "cell_type": "code",
   "execution_count": null,
   "metadata": {},
   "outputs": [],
   "source": [
    "# This is the url you will scrape in this exercise\n",
    "url = 'https://www.fbi.gov/wanted/topten'"
   ]
  },
  {
   "cell_type": "code",
   "execution_count": null,
   "metadata": {},
   "outputs": [],
   "source": [
    "html = requests.get(url).content\n",
    "soup = BeautifulSoup(html, \"lxml\")\n",
    "\n",
    "\n",
    "tags = ['h3']\n",
    "text = [element.text for element in soup.find_all(tags)]\n",
    "item = [row.strip().split(\"\\n\") for row in text]\n",
    "names = [name for names in item for name in names]\n",
    "names"
   ]
  },
  {
   "cell_type": "markdown",
   "metadata": {},
   "source": [
    "####  Display the 20 latest earthquakes info (date, time, latitude, longitude and region name) by the EMSC as a pandas dataframe."
   ]
  },
  {
   "cell_type": "code",
   "execution_count": null,
   "metadata": {},
   "outputs": [],
   "source": [
    "# This is the url you will scrape in this exercise\n",
    "url = 'https://www.emsc-csem.org/Earthquake//'"
   ]
  },
  {
   "cell_type": "code",
   "execution_count": null,
   "metadata": {},
   "outputs": [],
   "source": [
    "html = requests.get(url).content\n",
    "soup = BeautifulSoup(html, \"lxml\")\n",
    "\n",
    "#testje = soup.find(id='reg1')\n",
    "#testje_2 = soup.find(id='reg2')\n",
    "\n",
    "for num in range(1, 21): \n",
    "    id_tag = \"reg\"+str(num)\n",
    "    print(soup.find(id=id_tag).get_text())\n"
   ]
  },
  {
   "cell_type": "markdown",
   "metadata": {},
   "source": [
    "#### Count the number of tweets by a given Twitter account.\n",
    "Ask the user for the handle (@handle) of a twitter account. You will need to include a ***try/except block*** for account names not found. \n",
    "<br>***Hint:*** the program should count the number of tweets for any provided account."
   ]
  },
  {
   "cell_type": "code",
   "execution_count": null,
   "metadata": {},
   "outputs": [],
   "source": [
    "# This is the url you will scrape in this exercise \n",
    "# You will need to add the account credentials to this url\n",
    "url = 'https://twitter.com/'"
   ]
  },
  {
   "cell_type": "code",
   "execution_count": null,
   "metadata": {},
   "outputs": [],
   "source": [
    "# I had to make a twitter account first. "
   ]
  },
  {
   "cell_type": "markdown",
   "metadata": {},
   "source": [
    "#### Number of followers of a given twitter account\n",
    "Ask the user for the handle (@handle) of a twitter account. You will need to include a ***try/except block*** for account names not found. \n",
    "<br>***Hint:*** the program should count the followers for any provided account."
   ]
  },
  {
   "cell_type": "code",
   "execution_count": null,
   "metadata": {},
   "outputs": [],
   "source": [
    "# This is the url you will scrape in this exercise \n",
    "# You will need to add the account credentials to this url\n",
    "url = 'https://twitter.com/'"
   ]
  },
  {
   "cell_type": "code",
   "execution_count": null,
   "metadata": {},
   "outputs": [],
   "source": [
    "# I had to make a twitter account first. "
   ]
  },
  {
   "cell_type": "markdown",
   "metadata": {},
   "source": [
    "#### List all language names and number of related articles in the order they appear in wikipedia.org."
   ]
  },
  {
   "cell_type": "code",
   "execution_count": null,
   "metadata": {},
   "outputs": [],
   "source": [
    "# This is the url you will scrape in this exercise\n",
    "url = 'https://www.wikipedia.org/'"
   ]
  },
  {
   "cell_type": "code",
   "execution_count": null,
   "metadata": {},
   "outputs": [],
   "source": [
    "html = requests.get(url).content\n",
    "soup = BeautifulSoup(html, \"lxml\")\n",
    "\n",
    "language_class = soup.find(class_=\"langlist langlist-large hlist\")\n",
    "\n",
    "tester = soup.findAll(class_=\"langlist langlist-large hlist\")\n",
    "\n",
    "talen = []\n",
    "\n",
    "for x in tester: \n",
    "    for y in tester: \n",
    "        talen.append(y.get_text())\n",
    "        \n",
    "talen_two = \"\\n\".join(talen)\n",
    "talen_two = talen_two.strip(\"\\n\")\n",
    "talen_two = talen_two.split(\"\\n\")\n",
    "\n",
    "# Now i gonna remove the empty spots & duplicates. \n",
    "\n",
    "final_solution = []\n",
    "\n",
    "for taal in talen_two: \n",
    "    if taal not in final_solution and taal != \"\": \n",
    "        final_solution.append(taal)\n",
    "\n",
    "final_solution\n",
    "\n",
    "#for tag in language_class.findAll(\"li\"): \n",
    "#    talen.append(tag.get_text())\n",
    "\n",
    "\n"
   ]
  },
  {
   "cell_type": "markdown",
   "metadata": {},
   "source": [
    "#### A list with the different kind of datasets available in data.gov.uk."
   ]
  },
  {
   "cell_type": "code",
   "execution_count": null,
   "metadata": {},
   "outputs": [],
   "source": [
    "# This is the url you will scrape in this exercise\n",
    "url = 'https://data.gov.uk/'"
   ]
  },
  {
   "cell_type": "code",
   "execution_count": null,
   "metadata": {},
   "outputs": [],
   "source": [
    "#Here I want to scrape the different categories of datasets like (Crime & justice, Defence,...)\n",
    "html = requests.get(url).content\n",
    "soup = BeautifulSoup(html, \"lxml\")\n",
    "\n",
    "category = soup.findAll(class_=\"govuk-link\")\n",
    "\n",
    "categories = [cat for x in category for cat in x]\n",
    "\n",
    "categories.remove('cookies to collect information')\n",
    "categories.remove('change your cookie settings')\n",
    "categories.remove('feedback')\n",
    "\n",
    "categories\n",
    "\n",
    "#When we take a look to our categories we see that we need to clean up: Cookies & Cookie...\n",
    "# @Jan: Was there a better way to get rid of the 3 items? \n"
   ]
  },
  {
   "cell_type": "markdown",
   "metadata": {},
   "source": [
    "#### Display the top 10 languages by number of native speakers stored in a pandas dataframe."
   ]
  },
  {
   "cell_type": "code",
   "execution_count": null,
   "metadata": {},
   "outputs": [],
   "source": [
    "# This is the url you will scrape in this exercise\n",
    "url = 'https://en.wikipedia.org/wiki/List_of_languages_by_number_of_native_speakers'"
   ]
  },
  {
   "cell_type": "code",
   "execution_count": null,
   "metadata": {},
   "outputs": [],
   "source": [
    "html = requests.get(url).content\n",
    "soup = BeautifulSoup(html, \"lxml\")\n",
    "\n",
    "table = soup.find(\"table\", attrs={\"class\": \"wikitable\"})\n",
    "rows = table.find_all('tr')\n",
    "rows = [row.text.strip().split('\\n') for row in rows]\n",
    "rows = [[x for x in row if x != ''] for row in rows]\n",
    "\n",
    "cols = rows[0]\n",
    "data = rows[1:]\n",
    "\n",
    "data_frame = pd.DataFrame(data, columns=cols)\n",
    "data_frame = data_frame.head(10)\n",
    "\n",
    "data_frame.reset_index()\n",
    "data_frame\n",
    "\n",
    "#table = soup.findAll(class_='wikitable sortable jquery-tablesorter')\n",
    "\n",
    "#tables = soup.findChildren('table')\n",
    "#tables_one = soup.findAll(class_=\"wikitable sortable\")\n",
    "#tables_one"
   ]
  },
  {
   "cell_type": "markdown",
   "metadata": {},
   "source": [
    "## Bonus\n",
    "#### Scrape a certain number of tweets of a given Twitter account."
   ]
  },
  {
   "cell_type": "code",
   "execution_count": null,
   "metadata": {},
   "outputs": [],
   "source": [
    "# This is the url you will scrape in this exercise \n",
    "# You will need to add the account credentials to this url\n",
    "url = 'https://twitter.com/'"
   ]
  },
  {
   "cell_type": "code",
   "execution_count": null,
   "metadata": {},
   "outputs": [],
   "source": [
    "#For twitter you need an account! "
   ]
  },
  {
   "cell_type": "markdown",
   "metadata": {},
   "source": [
    "#### Display IMDB's top 250 data (movie name, initial release, director name and stars) as a pandas dataframe."
   ]
  },
  {
   "cell_type": "code",
   "execution_count": null,
   "metadata": {},
   "outputs": [],
   "source": [
    "# This is the url you will scrape in this exercise \n",
    "url = 'https://www.imdb.com/chart/top'"
   ]
  },
  {
   "cell_type": "code",
   "execution_count": null,
   "metadata": {},
   "outputs": [],
   "source": [
    "html = requests.get(url).content\n",
    "soup = BeautifulSoup(html, \"lxml\")\n",
    "\n",
    "table = soup.findAll(class_=\"titleColumn\")\n",
    "rows = [title.get_text().strip() for title in table]\n",
    "rows = [title.get_text().strip(\"\\n\") for title in table]\n",
    "\n",
    "titles = [title.strip(\" \").replace(\"\\n\", \"\") for title in rows]\n"
   ]
  },
  {
   "cell_type": "markdown",
   "metadata": {},
   "source": [
    "#### Display the movie name, year and a brief summary of the top 10 random movies (IMDB) as a pandas dataframe."
   ]
  },
  {
   "cell_type": "code",
   "execution_count": null,
   "metadata": {},
   "outputs": [],
   "source": [
    "#This is the url you will scrape in this exercise\n",
    "url = 'http://www.imdb.com/chart/top'"
   ]
  },
  {
   "cell_type": "code",
   "execution_count": null,
   "metadata": {},
   "outputs": [],
   "source": []
  },
  {
   "cell_type": "markdown",
   "metadata": {},
   "source": [
    "#### Find the live weather report (temperature, wind speed, description and weather) of a given city."
   ]
  },
  {
   "cell_type": "code",
   "execution_count": null,
   "metadata": {},
   "outputs": [],
   "source": [
    "#https://openweathermap.org/current\n",
    "city = input('Enter the city: ')\n",
    "url = 'http://api.openweathermap.org/data/2.5/weather?'+'q='+city+'&APPID=b35975e18dc93725acb092f7272cc6b8&units=metric'"
   ]
  },
  {
   "cell_type": "code",
   "execution_count": null,
   "metadata": {},
   "outputs": [],
   "source": [
    "# this link doesn't work "
   ]
  },
  {
   "cell_type": "markdown",
   "metadata": {},
   "source": [
    "#### Find the book name, price and stock availability as a pandas dataframe."
   ]
  },
  {
   "cell_type": "code",
   "execution_count": null,
   "metadata": {},
   "outputs": [],
   "source": [
    "# This is the url you will scrape in this exercise. \n",
    "# It is a fictional bookstore created to be scraped. \n",
    "url = 'http://books.toscrape.com/'"
   ]
  },
  {
   "cell_type": "code",
   "execution_count": null,
   "metadata": {},
   "outputs": [],
   "source": [
    "# your code here"
   ]
  }
 ],
 "metadata": {
  "kernelspec": {
   "display_name": "Python 3",
   "language": "python",
   "name": "python3"
  },
  "language_info": {
   "codemirror_mode": {
    "name": "ipython",
    "version": 3
   },
   "file_extension": ".py",
   "mimetype": "text/x-python",
   "name": "python",
   "nbconvert_exporter": "python",
   "pygments_lexer": "ipython3",
   "version": "3.7.6"
  }
 },
 "nbformat": 4,
 "nbformat_minor": 2
}
