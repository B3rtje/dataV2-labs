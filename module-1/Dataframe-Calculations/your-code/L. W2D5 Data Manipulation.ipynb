{
 "cells": [
  {
   "cell_type": "code",
   "execution_count": null,
   "metadata": {},
   "outputs": [],
   "source": [
    "import pandas as pd\n",
    "\n",
    "data = pd.read_csv('vehicles/vehicles.csv')\n",
    "data"
   ]
  },
  {
   "cell_type": "code",
   "execution_count": null,
   "metadata": {},
   "outputs": [],
   "source": [
    "data.columns"
   ]
  },
  {
   "cell_type": "code",
   "execution_count": null,
   "metadata": {},
   "outputs": [],
   "source": [
    "#rename all columns\n",
    "data.columns = ['Manufacturer','Model','Year','Displacement',\n",
    "                'Cylinders','Transmission','Drivetrain',\n",
    "                'Vehicle Class','Fuel Type','Fuel Barrels/Year',\n",
    "                'City MPG','Highway MPG','Combined MPG',\n",
    "                'CO2 Emission Grams/Mile','Fuel Cost/Year']"
   ]
  },
  {
   "cell_type": "code",
   "execution_count": null,
   "metadata": {},
   "outputs": [],
   "source": [
    "data.head()"
   ]
  },
  {
   "cell_type": "code",
   "execution_count": null,
   "metadata": {},
   "outputs": [],
   "source": [
    "#rename a few columns\n",
    "data = data.rename(columns={'Manufacturer':'Make',\n",
    "                            'Displacement':'Engine Displacement'})\n",
    "\n",
    "data.columns"
   ]
  },
  {
   "cell_type": "code",
   "execution_count": null,
   "metadata": {},
   "outputs": [],
   "source": [
    "#change column order\n",
    "column_order = ['Year','Make','Model','Vehicle Class',\n",
    "                'Transmission','Drivetrain','Fuel Type',\n",
    "                'Cylinders','Engine Displacement','Fuel Barrels/Year',\n",
    "                'City MPG','Highway MPG','Combined MPG',\n",
    "                'CO2 Emission Grams/Mile','Fuel Cost/Year']\n",
    "\n",
    "data = data[column_order]\n"
   ]
  },
  {
   "cell_type": "code",
   "execution_count": null,
   "metadata": {},
   "outputs": [],
   "source": [
    "# data[['Fuel Cost/Year','Year','Make','Model','Vehicle Class',\n",
    "#                 'Transmission','Drivetrain','Fuel Type',\n",
    "#                 'Cylinders','Engine Displacement','Fuel Barrels/Year',\n",
    "#                 'City MPG','Highway MPG','Combined MPG',\n",
    "#                 'CO2 Emission Grams/Mile']]\n",
    "data.head()"
   ]
  },
  {
   "cell_type": "code",
   "execution_count": null,
   "metadata": {},
   "outputs": [],
   "source": [
    "set(data['Fuel Type'])"
   ]
  },
  {
   "cell_type": "code",
   "execution_count": null,
   "metadata": {},
   "outputs": [],
   "source": [
    "# filtering - selecting rows on conditions\n",
    "filtered = data[(data['Make']=='Ford') & \n",
    "                (data['Cylinders']>=6) &\n",
    "                (data['Combined MPG'] < 18)]\n",
    "\n",
    "filtered"
   ]
  },
  {
   "cell_type": "code",
   "execution_count": null,
   "metadata": {},
   "outputs": [],
   "source": [
    "filtered = data[(data['Make'].isin(['Subaru','Ford'])) & \n",
    "                (data['Cylinders']==4) &\n",
    "                (data['Year'] < 2000)]\n",
    "\n",
    "filtered"
   ]
  },
  {
   "cell_type": "code",
   "execution_count": null,
   "metadata": {},
   "outputs": [],
   "source": [
    "vwdiesels = data[(data['Make']=='Volswagen') &\n",
    "                 (data['Cylinders']<=6) &\n",
    "                 (data['Fuel Type']=='Diesel')]\n",
    "vwdiesels.shape"
   ]
  },
  {
   "cell_type": "code",
   "execution_count": null,
   "metadata": {},
   "outputs": [],
   "source": [
    "# Binning values\n",
    "mpg_labels = ['Very Low', 'Low', 'Moderate', 'High', 'Very High']\n"
   ]
  },
  {
   "cell_type": "code",
   "execution_count": null,
   "metadata": {},
   "outputs": [],
   "source": [
    "data['bins']= pd.cut(data['Combined MPG'],5, labels=mpg_labels)\n",
    "data['bins'].value_counts()"
   ]
  },
  {
   "cell_type": "code",
   "execution_count": null,
   "metadata": {},
   "outputs": [],
   "source": [
    "data['bins'] = pd.qcut(data['Combined MPG'],5, labels=mpg_labels)\n",
    "data['bins'].value_counts()"
   ]
  },
  {
   "cell_type": "code",
   "execution_count": null,
   "metadata": {},
   "outputs": [],
   "source": []
  },
  {
   "cell_type": "code",
   "execution_count": null,
   "metadata": {},
   "outputs": [],
   "source": [
    "cutoffs = [0,14,21,23,30,40]\n",
    "bins = pd.cut(data['Combined MPG'],cutoffs, labels=mpg_labels)\n",
    "bins.head(10)"
   ]
  },
  {
   "cell_type": "code",
   "execution_count": null,
   "metadata": {},
   "outputs": [],
   "source": [
    "# add bin-names as a column\n",
    "data['bins'] = pd.cut(data['Combined MPG'],cutoffs, labels=mpg_labels)\n",
    "data.head()"
   ]
  },
  {
   "cell_type": "code",
   "execution_count": null,
   "metadata": {},
   "outputs": [],
   "source": [
    "data=data[['Year', 'Make', 'Model', 'Vehicle Class', 'Transmission', 'Drivetrain',\n",
    "       'Fuel Type', 'Cylinders', 'Engine Displacement', 'Fuel Barrels/Year',\n",
    "       'City MPG', 'Highway MPG', 'Combined MPG','bins', 'CO2 Emission Grams/Mile',\n",
    "       'Fuel Cost/Year']]\n",
    "data.head()"
   ]
  },
  {
   "cell_type": "code",
   "execution_count": null,
   "metadata": {},
   "outputs": [],
   "source": [
    "data = data.drop(columns=['bins'], axis=1)\n",
    "data.head()"
   ]
  },
  {
   "cell_type": "code",
   "execution_count": null,
   "metadata": {},
   "outputs": [],
   "source": [
    "# create categorical column\n",
    "data.loc[data['Transmission'].str.startswith('A'), 'TransType'] = 'Automatic'\n",
    "data.loc[data['Transmission'].str.startswith('M'), 'TransType'] = 'Manual'\n",
    "data.head(60)"
   ]
  },
  {
   "cell_type": "code",
   "execution_count": null,
   "metadata": {},
   "outputs": [],
   "source": [
    "# get unique values from a column\n",
    "set(data['Drivetrain'])"
   ]
  },
  {
   "cell_type": "code",
   "execution_count": null,
   "metadata": {},
   "outputs": [],
   "source": [
    "data['Drivetrain'].unique()"
   ]
  },
  {
   "cell_type": "code",
   "execution_count": null,
   "metadata": {},
   "outputs": [],
   "source": [
    "# one-hot encoding (get_dummies)\n",
    "drivetrain = pd.get_dummies(data['Drivetrain'])\n",
    "drivetrain.head(10)"
   ]
  },
  {
   "cell_type": "code",
   "execution_count": null,
   "metadata": {},
   "outputs": [],
   "source": [
    "# merge datasets\n",
    "# step 1: create dataset to merge\n",
    "avg_mpg = data.groupby('Make', as_index=False).agg({'Combined MPG':'mean'})\n",
    "avg_mpg.columns = ['Make', 'Avg_MPG']\n",
    "avg_mpg.head()"
   ]
  },
  {
   "cell_type": "code",
   "execution_count": null,
   "metadata": {},
   "outputs": [],
   "source": [
    "# step 2: merge (similar to inner join in sql)\n",
    "data = pd.merge(data, avg_mpg, on='Make')\n",
    "data.head(10)"
   ]
  },
  {
   "cell_type": "code",
   "execution_count": null,
   "metadata": {},
   "outputs": [],
   "source": [
    "# concatenate dataframes - add columns, equivalent to 'join on index value')\n",
    "data = pd.concat([data, drivetrain], axis=1)\n",
    "data.head(20)"
   ]
  },
  {
   "cell_type": "code",
   "execution_count": null,
   "metadata": {},
   "outputs": [],
   "source": [
    "#concatenate dataframes - stacking rows, equivalent to sql union\n",
    "lexus = data[data['Make']=='Lexus']\n",
    "audi = data[data['Make']=='Audi']\n",
    "\n",
    "lexus_audi = pd.concat([lexus, audi], axis=0)\n",
    "set(lexus_audi['Make'])\n",
    "#lexus_audi"
   ]
  },
  {
   "cell_type": "code",
   "execution_count": null,
   "metadata": {},
   "outputs": [],
   "source": []
  },
  {
   "cell_type": "code",
   "execution_count": null,
   "metadata": {},
   "outputs": [],
   "source": [
    "data=data[['Year','Make','Model','City MPG','Highway MPG','Combined MPG']]\n",
    "data"
   ]
  },
  {
   "cell_type": "code",
   "execution_count": null,
   "metadata": {},
   "outputs": [],
   "source": [
    "#melting a dataframe from wide format (row for each object) \n",
    "#                      to long format (row for each variable for each object)\n",
    "melted = pd.melt(data, id_vars=['Year','Make','Model'], \n",
    "                 value_vars=['City MPG','Highway MPG','Combined MPG'])\n",
    "melted\n",
    "melted[(melted['Year']==1984)&(melted['Make']=='AM General')&(melted['Model']=='DJ Po Vehicle 2WD')]"
   ]
  },
  {
   "cell_type": "code",
   "execution_count": null,
   "metadata": {},
   "outputs": [],
   "source": []
  }
 ],
 "metadata": {
  "kernelspec": {
   "display_name": "Python 3",
   "language": "python",
   "name": "python3"
  },
  "language_info": {
   "codemirror_mode": {
    "name": "ipython",
    "version": 3
   },
   "file_extension": ".py",
   "mimetype": "text/x-python",
   "name": "python",
   "nbconvert_exporter": "python",
   "pygments_lexer": "ipython3",
   "version": "3.7.6"
  }
 },
 "nbformat": 4,
 "nbformat_minor": 4
}
